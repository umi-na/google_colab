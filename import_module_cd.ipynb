{
  "nbformat": 4,
  "nbformat_minor": 0,
  "metadata": {
    "colab": {
      "provenance": [],
      "authorship_tag": "ABX9TyPqGd21ODfXhx4Nigp9dGdD",
      "include_colab_link": true
    },
    "kernelspec": {
      "name": "python3",
      "display_name": "Python 3"
    }
  },
  "cells": [
    {
      "cell_type": "markdown",
      "metadata": {
        "id": "view-in-github",
        "colab_type": "text"
      },
      "source": [
        "<a href=\"https://colab.research.google.com/github/umi-na/google_colab/blob/main/import_module_cd.ipynb\" target=\"_parent\"><img src=\"https://colab.research.google.com/assets/colab-badge.svg\" alt=\"Open In Colab\"/></a>"
      ]
    },
    {
      "cell_type": "code",
      "metadata": {
        "colab": {
          "base_uri": "https://localhost:8080/"
        },
        "id": "9XFEzfoBIMn5",
        "outputId": "929fa82f-2964-4deb-bca2-ede18c35ff92"
      },
      "source": [
        "from google.colab import drive\n",
        "\n",
        "drive.mount('/content/drive')"
      ],
      "execution_count": null,
      "outputs": [
        {
          "output_type": "stream",
          "text": [
            "Mounted at /content/drive\n"
          ],
          "name": "stdout"
        }
      ]
    },
    {
      "cell_type": "code",
      "metadata": {
        "colab": {
          "base_uri": "https://localhost:8080/"
        },
        "id": "QlaqPG4oIMpe",
        "outputId": "a916c185-1c16-4821-96bf-bc7c6e7d775a"
      },
      "source": [
        "!pwd # 현재 위치 확인하는 shell 명령어"
      ],
      "execution_count": null,
      "outputs": [
        {
          "output_type": "stream",
          "text": [
            "/content\n"
          ],
          "name": "stdout"
        }
      ]
    },
    {
      "cell_type": "code",
      "metadata": {
        "colab": {
          "base_uri": "https://localhost:8080/"
        },
        "id": "OS4PWOx8IT1Q",
        "outputId": "6753fc5c-345a-4b67-d5fc-9e8cf0adc43d"
      },
      "source": [
        "%cd /content/drive/MyDrive/Colab Notebooks/Colab\n",
        "# 폴더 안에 있는 폴더로 가기(shell)"
      ],
      "execution_count": null,
      "outputs": [
        {
          "output_type": "stream",
          "text": [
            "/content/drive/MyDrive/Colab Notebooks/Colab\n"
          ],
          "name": "stdout"
        }
      ]
    },
    {
      "cell_type": "code",
      "metadata": {
        "id": "ugpUMZe9Ja9m",
        "colab": {
          "base_uri": "https://localhost:8080/"
        },
        "outputId": "d008f312-3abe-46f4-8fe6-8a9a583839f2"
      },
      "source": [
        "%cd ..\n",
        "# 폴더 하나 뒤로가기(shell)"
      ],
      "execution_count": null,
      "outputs": [
        {
          "output_type": "stream",
          "text": [
            "/content/drive/MyDrive/Colab Notebooks\n"
          ],
          "name": "stdout"
        }
      ]
    },
    {
      "cell_type": "code",
      "metadata": {
        "id": "NiHVUsuhIIDB",
        "colab": {
          "base_uri": "https://localhost:8080/"
        },
        "outputId": "4c826bd7-bd54-477b-cc67-089610a45105"
      },
      "source": [
        "import module\n",
        "\n",
        "module.eat()\n",
        "module.cook()\n",
        "module.make()\n",
        "module.cook_and_eat()"
      ],
      "execution_count": null,
      "outputs": [
        {
          "output_type": "stream",
          "text": [
            "먹다\n",
            "요리하다\n",
            "만든다\n",
            "요리하다\n",
            "먹다\n"
          ],
          "name": "stdout"
        }
      ]
    }
  ]
}