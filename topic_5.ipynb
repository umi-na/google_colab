{
  "nbformat": 4,
  "nbformat_minor": 0,
  "metadata": {
    "colab": {
      "provenance": [],
      "include_colab_link": true
    },
    "kernelspec": {
      "name": "python3",
      "display_name": "Python 3"
    }
  },
  "cells": [
    {
      "cell_type": "markdown",
      "metadata": {
        "id": "view-in-github",
        "colab_type": "text"
      },
      "source": [
        "<a href=\"https://colab.research.google.com/github/umi-na/google_colab/blob/main/topic_5.ipynb\" target=\"_parent\"><img src=\"https://colab.research.google.com/assets/colab-badge.svg\" alt=\"Open In Colab\"/></a>"
      ]
    },
    {
      "cell_type": "markdown",
      "metadata": {
        "id": "AdtPWr4zNvL2"
      },
      "source": [
        "# 토픽 #5: 데이터 기술 통계\n",
        "\n",
        "Colab 실습 시작 전, 이 노트북의 **복사본을 자신의 구글 드라이브에 저장**함: Colab 메뉴에서 \"File\" >> \"Save a Copy in Drive\". \"Save a Copy\" 메뉴 선택 시 \"Copy of topic#5.ipynb\" 복사본이 구글 드라이브의 'Colab Notebook' 폴더에 저장됨. 그리고 본사본이 새 브라우저 창에 열림."
      ]
    },
    {
      "cell_type": "markdown",
      "metadata": {
        "id": "8wT_7eoEOTZO"
      },
      "source": [
        "# 수업목표\n",
        "\n",
        "* 데이터 필터링 복습 (토픽 4)\n",
        "\n",
        "* 기술통계분석\n",
        "\n",
        "* 데이터(변수)의 종류\n",
        "\n",
        "* 기술통계분석 활용"
      ]
    },
    {
      "cell_type": "markdown",
      "metadata": {
        "id": "WzF7I-5BKHdB"
      },
      "source": [
        "# 수업 데이터 소개\n",
        "\n",
        "* 타이타닉 탑슥객 데이터와 분포 데이터를 활용하겠음\n",
        "\n",
        "* 각 데이터의 설명은 아래와 같음"
      ]
    },
    {
      "cell_type": "markdown",
      "metadata": {
        "id": "89vuBRlCKLZQ"
      },
      "source": [
        "## 타이타닉 탑습객 데이터\n",
        "\n",
        "* 본 수업에서도 [타이타닉 탑습객 데이터](https://drive.google.com/drive/folders/1KpfVquLkXBRByHmpwCvxHYpbpj7sebki?usp=sharing)를 활용하겠음.\n",
        "\n",
        "* 탑습객 데이터를 다운받아 구글 드라이브에 업로드하여 사용하면 됨\n",
        "\n",
        "* 탑습객 데이터의 자세한 설명은 [Wk#3 코랩](https://colab.research.google.com/drive/1rn0JqKKVeagdFY-DriMhqIiU2drUeEAg?usp=sharing) 참조\n"
      ]
    },
    {
      "cell_type": "markdown",
      "metadata": {
        "id": "16NFzKTnKOAQ"
      },
      "source": [
        "### 구글 드라이브 마운트\n",
        "\n",
        "* 구글 드라이브에 업로드한 데이터를 사용하기 위해 드라이브를 마운트함\n",
        "\n",
        "* 아래 그림처럼 (1) => (2) 순으로 클릭하면 드라이브가 마운트됨(자세한 설명은 [Wk#1 코랩](https://colab.research.google.com/drive/1-28UPcDO68IGnwZ0SeuG_jnvMQ--oL6E?usp=sharing) 참조)\n",
        "\n",
        "![CSV Screenshot](https://drive.google.com/uc?export=view&id=1L56f9PIcVxMCLjonPgqJl2PKzasw4TY8) "
      ]
    },
    {
      "cell_type": "code",
      "metadata": {
        "colab": {
          "base_uri": "https://localhost:8080/"
        },
        "id": "Iekwp_O-9x2H",
        "outputId": "70b50236-3d77-46ff-9b71-2777f5f28a8b"
      },
      "source": [
        "from google.colab import drive\n",
        "drive.mount('/content/drive')"
      ],
      "execution_count": null,
      "outputs": [
        {
          "output_type": "stream",
          "text": [
            "Mounted at /content/drive\n"
          ],
          "name": "stdout"
        }
      ]
    },
    {
      "cell_type": "markdown",
      "metadata": {
        "id": "bZx3XxcRKS98"
      },
      "source": [
        "### 구글 드라이브 폴더 경로 설정\n",
        "\n",
        "* 아래 root_path의 스트링값은 파일이 있는 구글 드라이브 폴더 경로를 나타냄 \n",
        "\n",
        "* 자신에게 맞게 구글 드라이브 폴더 경로를 변경하여 사용하면 됨"
      ]
    },
    {
      "cell_type": "code",
      "metadata": {
        "id": "2sOsdqGlKUMJ"
      },
      "source": [
        "root_path = '/content/drive/MyDrive/wk3_data'"
      ],
      "execution_count": null,
      "outputs": []
    },
    {
      "cell_type": "markdown",
      "metadata": {
        "id": "G9EuLpGWKTka"
      },
      "source": [
        "* 아래 데이터는 타이타닉 데이터를 DataFrame으로 읽어와 보여주는 코드임\n",
        "\n",
        "* 구글 드라이브 마운트 및 폴더 경로가 똑바로 설정되다면 오류 없이 실행됨\n"
      ]
    },
    {
      "cell_type": "code",
      "metadata": {
        "id": "yCaVz0nFKXU4",
        "colab": {
          "base_uri": "https://localhost:8080/",
          "height": 212
        },
        "outputId": "16db51d4-2975-4b37-b3c0-8412018520fd"
      },
      "source": [
        "import pandas as pd\n",
        "from os import path\n",
        "\n",
        "def getTitanicData():\n",
        "  return pd.read_csv(path.join(root_path,'titanic.csv'))\n",
        "\n",
        "df = getTitanicData()\n",
        "df.head()"
      ],
      "execution_count": null,
      "outputs": [
        {
          "output_type": "execute_result",
          "data": {
            "text/html": [
              "<div>\n",
              "<style scoped>\n",
              "    .dataframe tbody tr th:only-of-type {\n",
              "        vertical-align: middle;\n",
              "    }\n",
              "\n",
              "    .dataframe tbody tr th {\n",
              "        vertical-align: top;\n",
              "    }\n",
              "\n",
              "    .dataframe thead th {\n",
              "        text-align: right;\n",
              "    }\n",
              "</style>\n",
              "<table border=\"1\" class=\"dataframe\">\n",
              "  <thead>\n",
              "    <tr style=\"text-align: right;\">\n",
              "      <th></th>\n",
              "      <th>PassengerId</th>\n",
              "      <th>Survived</th>\n",
              "      <th>Pclass</th>\n",
              "      <th>Sex</th>\n",
              "      <th>Age</th>\n",
              "      <th>Ticket</th>\n",
              "      <th>Fare</th>\n",
              "      <th>Cabin</th>\n",
              "      <th>Embarked</th>\n",
              "    </tr>\n",
              "  </thead>\n",
              "  <tbody>\n",
              "    <tr>\n",
              "      <th>0</th>\n",
              "      <td>1</td>\n",
              "      <td>0</td>\n",
              "      <td>3</td>\n",
              "      <td>male</td>\n",
              "      <td>22.0</td>\n",
              "      <td>A/5 21171</td>\n",
              "      <td>7.2500</td>\n",
              "      <td>NaN</td>\n",
              "      <td>S</td>\n",
              "    </tr>\n",
              "    <tr>\n",
              "      <th>1</th>\n",
              "      <td>2</td>\n",
              "      <td>1</td>\n",
              "      <td>1</td>\n",
              "      <td>female</td>\n",
              "      <td>38.0</td>\n",
              "      <td>PC 17599</td>\n",
              "      <td>71.2833</td>\n",
              "      <td>C85</td>\n",
              "      <td>C</td>\n",
              "    </tr>\n",
              "    <tr>\n",
              "      <th>2</th>\n",
              "      <td>3</td>\n",
              "      <td>1</td>\n",
              "      <td>3</td>\n",
              "      <td>female</td>\n",
              "      <td>26.0</td>\n",
              "      <td>STON/O2. 3101282</td>\n",
              "      <td>7.9250</td>\n",
              "      <td>NaN</td>\n",
              "      <td>S</td>\n",
              "    </tr>\n",
              "    <tr>\n",
              "      <th>3</th>\n",
              "      <td>4</td>\n",
              "      <td>1</td>\n",
              "      <td>1</td>\n",
              "      <td>female</td>\n",
              "      <td>35.0</td>\n",
              "      <td>113803</td>\n",
              "      <td>53.1000</td>\n",
              "      <td>C123</td>\n",
              "      <td>S</td>\n",
              "    </tr>\n",
              "    <tr>\n",
              "      <th>4</th>\n",
              "      <td>5</td>\n",
              "      <td>0</td>\n",
              "      <td>3</td>\n",
              "      <td>male</td>\n",
              "      <td>35.0</td>\n",
              "      <td>373450</td>\n",
              "      <td>8.0500</td>\n",
              "      <td>NaN</td>\n",
              "      <td>S</td>\n",
              "    </tr>\n",
              "  </tbody>\n",
              "</table>\n",
              "</div>"
            ],
            "text/plain": [
              "   PassengerId  Survived  Pclass  ...     Fare  Cabin Embarked\n",
              "0            1         0       3  ...   7.2500    NaN        S\n",
              "1            2         1       1  ...  71.2833    C85        C\n",
              "2            3         1       3  ...   7.9250    NaN        S\n",
              "3            4         1       1  ...  53.1000   C123        S\n",
              "4            5         0       3  ...   8.0500    NaN        S\n",
              "\n",
              "[5 rows x 9 columns]"
            ]
          },
          "metadata": {
            "tags": []
          },
          "execution_count": 3
        }
      ]
    },
    {
      "cell_type": "markdown",
      "metadata": {
        "id": "V4b7zPrXO2oN"
      },
      "source": [
        "## 분포 데이터\n",
        "\n",
        "* 본 데이터를 여러 균등분포, 정규분포, 이할분포, 베르누이분포를 가지는 데이터를 포함함\n",
        "\n",
        "* 각 분포 데이터는 난수 함수로 생성됨. 따라서 매번 생성 시 마다 데이터값이 달라짐. 그러나 분포 성질은 언제가 동일함 \n",
        "\n",
        "* 예컨데, 균등분포 데이터를 생성하는 난수 함수(메소드) 실행 시 반환되는 데이터값을 언제나 다르나 언제나 균등분포 성질은 가지고 있음"
      ]
    },
    {
      "cell_type": "markdown",
      "metadata": {
        "id": "f8v2R9oGK3_k"
      },
      "source": [
        "### 데이터#1: 균등분포\n",
        "\n",
        "* 데이터의 어떤 값을 무작위로 추출 시 각 데이터값이 추출될 확률이 모두 일정할 때 데이터는 균등분포를 따른다고 함\n",
        "\n",
        "* scipy.stats 라이브러이의 uniform.rvs 메서드로 균등분포를 따르는 데이터를 생성 할 수 있음"
      ]
    },
    {
      "cell_type": "code",
      "metadata": {
        "id": "v_j8Fx_1LRia"
      },
      "source": [
        "from scipy.stats import uniform\n",
        "\n",
        "data_uniform = uniform.rvs(size=10000, loc = 10, scale=20)"
      ],
      "execution_count": null,
      "outputs": []
    },
    {
      "cell_type": "code",
      "metadata": {
        "colab": {
          "base_uri": "https://localhost:8080/",
          "height": 355
        },
        "id": "wsw8e9HhL4v1",
        "outputId": "64dddc14-9aff-471b-eee3-1557327aa6ad"
      },
      "source": [
        "import seaborn as sns\n",
        "\n",
        "ax = sns.distplot(data_uniform,\n",
        "                  bins=100,\n",
        "                  kde=False,\n",
        "                  color='skyblue',\n",
        "                  hist_kws={\"linewidth\": 15,'alpha':1})\n",
        "ax.set(xlabel='Uniform Distribution ', ylabel='Frequency')"
      ],
      "execution_count": null,
      "outputs": [
        {
          "output_type": "stream",
          "text": [
            "/usr/local/lib/python3.6/dist-packages/seaborn/distributions.py:2557: FutureWarning: `distplot` is a deprecated function and will be removed in a future version. Please adapt your code to use either `displot` (a figure-level function with similar flexibility) or `histplot` (an axes-level function for histograms).\n",
            "  warnings.warn(msg, FutureWarning)\n"
          ],
          "name": "stderr"
        },
        {
          "output_type": "execute_result",
          "data": {
            "text/plain": [
              "[Text(0, 0.5, 'Frequency'), Text(0.5, 0, 'Uniform Distribution ')]"
            ]
          },
          "metadata": {
            "tags": []
          },
          "execution_count": 94
        },
        {
          "output_type": "display_data",
          "data": {
            "image/png": "[encoded data removed]",
            "text/plain": [
              "<Figure size 432x288 with 1 Axes>"
            ]
          },
          "metadata": {
            "tags": [],
            "needs_background": "light"
          }
        }
      ]
    },
    {
      "cell_type": "markdown",
      "metadata": {
        "id": "t6jn6ETNLw-K"
      },
      "source": [
        "### 데이터#2: 정균분포\n",
        "\n",
        "* 데이터의 어떤 값을 무작위로 추출 시 데이터값이 평균에 가까운 값이 추출될 확률이 가장 높고, 반대로 평균에서 멀어질 수록 일정하게 확률이 줄어들 때 데이터는 균등분포를 따른다고 함\n",
        "\n",
        "* scipy.stats 라이브러이의 norm.rvs 메서드로 균등분포를 따르는 데이터를 생성 할 수 있음"
      ]
    },
    {
      "cell_type": "code",
      "metadata": {
        "id": "orYVIpO-LwfZ"
      },
      "source": [
        "from scipy.stats import norm\n",
        "\n",
        "data_normal = norm.rvs(size=10000,loc=10,scale=1)"
      ],
      "execution_count": null,
      "outputs": []
    },
    {
      "cell_type": "code",
      "metadata": {
        "colab": {
          "base_uri": "https://localhost:8080/",
          "height": 352
        },
        "id": "sQQEFtScK3UW",
        "outputId": "1bba530a-40d1-4839-d4d9-ae39cd817d72"
      },
      "source": [
        "import seaborn as sns\n",
        "\n",
        "ax = sns.distplot(data_normal,\n",
        "                  bins=100,\n",
        "                  kde=False,\n",
        "                  color='skyblue',\n",
        "                  hist_kws={\"linewidth\": 15,'alpha':1})\n",
        "ax.set(xlabel='Normal Distribution', ylabel='Frequency')\n"
      ],
      "execution_count": null,
      "outputs": [
        {
          "output_type": "stream",
          "text": [
            "/usr/local/lib/python3.6/dist-packages/seaborn/distributions.py:2557: FutureWarning: `distplot` is a deprecated function and will be removed in a future version. Please adapt your code to use either `displot` (a figure-level function with similar flexibility) or `histplot` (an axes-level function for histograms).\n",
            "  warnings.warn(msg, FutureWarning)\n"
          ],
          "name": "stderr"
        },
        {
          "output_type": "execute_result",
          "data": {
            "text/plain": [
              "[Text(0, 0.5, 'Frequency'), Text(0.5, 0, 'Normal Distribution')]"
            ]
          },
          "metadata": {
            "tags": []
          },
          "execution_count": 104
        },
        {
          "output_type": "display_data",
          "data": {
            "image/png": "[encoded data removed]",
            "text/plain": [
              "<Figure size 432x288 with 1 Axes>"
            ]
          },
          "metadata": {
            "tags": [],
            "needs_background": "light"
          }
        }
      ]
    },
    {
      "cell_type": "markdown",
      "metadata": {
        "id": "TO4hy-vAMe4U"
      },
      "source": [
        "### 데이터#3: 베르누이분포\n",
        "\n",
        "* 데이터의 어떤 값을 무작위로 추출 시 추출 가능한 데이터값이 두개 인 경우(True/False, 0/1) 데이터는 베르누이분포를 따른다고 함\n",
        "\n",
        "* scipy.stats 라이브러이의 bernoulli.rvs 메서드로 베르누이분포를 따르는 데이터를 생성 할 수 있음"
      ]
    },
    {
      "cell_type": "code",
      "metadata": {
        "id": "mmzltFXtMfCZ"
      },
      "source": [
        "from scipy.stats import bernoulli\n",
        "data_bern = bernoulli.rvs(size=10000,p=0.6)"
      ],
      "execution_count": null,
      "outputs": []
    },
    {
      "cell_type": "code",
      "metadata": {
        "colab": {
          "base_uri": "https://localhost:8080/",
          "height": 352
        },
        "id": "lCQK6YH2MeTa",
        "outputId": "3bace539-202c-46dd-a2bb-8600aca43828"
      },
      "source": [
        "import seaborn as sns\n",
        "\n",
        "ax= sns.distplot(data_bern,\n",
        "                 kde=False,\n",
        "                 color=\"skyblue\",\n",
        "                 hist_kws={\"linewidth\": 15,'alpha':1})\n",
        "ax.set(xlabel='Bernoulli Distribution', ylabel='Frequency')"
      ],
      "execution_count": null,
      "outputs": [
        {
          "output_type": "stream",
          "text": [
            "/usr/local/lib/python3.6/dist-packages/seaborn/distributions.py:2557: FutureWarning: `distplot` is a deprecated function and will be removed in a future version. Please adapt your code to use either `displot` (a figure-level function with similar flexibility) or `histplot` (an axes-level function for histograms).\n",
            "  warnings.warn(msg, FutureWarning)\n"
          ],
          "name": "stderr"
        },
        {
          "output_type": "execute_result",
          "data": {
            "text/plain": [
              "[Text(0, 0.5, 'Frequency'), Text(0.5, 0, 'Bernoulli Distribution')]"
            ]
          },
          "metadata": {
            "tags": []
          },
          "execution_count": 106
        },
        {
          "output_type": "display_data",
          "data": {
            "image/png": "[encoded data removed]",
            "text/plain": [
              "<Figure size 432x288 with 1 Axes>"
            ]
          },
          "metadata": {
            "tags": [],
            "needs_background": "light"
          }
        }
      ]
    },
    {
      "cell_type": "markdown",
      "metadata": {
        "id": "vq10koucMUkk"
      },
      "source": [
        "### 데이터#4: 이항분포\n",
        "\n",
        "* 두 종류의 데이터값이 존재하는 데이터에서 무작이로 데이터를 추출할 때 나올 수 있는 모든 경우의 수를 기록한 데이터를 이항분포라고 함\n",
        "\n",
        "* scipy.stats 라이브러이의 binom.rvs 메서드로 이항분포를 따르는 데이터를 생성 할 수 있음"
      ]
    },
    {
      "cell_type": "code",
      "metadata": {
        "id": "2ZYpqQv_MUuP"
      },
      "source": [
        "from scipy.stats import binom\n",
        "data_binom = binom.rvs(n=10,p=0.8,size=10000)"
      ],
      "execution_count": null,
      "outputs": []
    },
    {
      "cell_type": "code",
      "metadata": {
        "colab": {
          "base_uri": "https://localhost:8080/",
          "height": 352
        },
        "id": "KZeXOL2FMXlD",
        "outputId": "a4e84ef1-96c1-4b72-837b-8f6f98b7d41e"
      },
      "source": [
        "import seaborn as sns\n",
        "\n",
        "ax = sns.distplot(data_binom,\n",
        "                  kde=False,\n",
        "                  color='skyblue',\n",
        "                  hist_kws={\"linewidth\": 15,'alpha':1})\n",
        "ax.set(xlabel='Binomial Distribution', ylabel='Frequency')"
      ],
      "execution_count": null,
      "outputs": [
        {
          "output_type": "stream",
          "text": [
            "/usr/local/lib/python3.6/dist-packages/seaborn/distributions.py:2557: FutureWarning: `distplot` is a deprecated function and will be removed in a future version. Please adapt your code to use either `displot` (a figure-level function with similar flexibility) or `histplot` (an axes-level function for histograms).\n",
            "  warnings.warn(msg, FutureWarning)\n"
          ],
          "name": "stderr"
        },
        {
          "output_type": "execute_result",
          "data": {
            "text/plain": [
              "[Text(0, 0.5, 'Frequency'), Text(0.5, 0, 'Binomial Distribution')]"
            ]
          },
          "metadata": {
            "tags": []
          },
          "execution_count": 112
        },
        {
          "output_type": "display_data",
          "data": {
            "image/png": "[encoded data removed]",
            "text/plain": [
              "<Figure size 432x288 with 1 Axes>"
            ]
          },
          "metadata": {
            "tags": [],
            "needs_background": "light"
          }
        }
      ]
    },
    {
      "cell_type": "markdown",
      "metadata": {
        "id": "U8NYrnjGYRcS"
      },
      "source": [
        "### 분포 데이터프레임"
      ]
    },
    {
      "cell_type": "code",
      "metadata": {
        "colab": {
          "base_uri": "https://localhost:8080/",
          "height": 204
        },
        "id": "pZ7DEen4XhV3",
        "outputId": "91a0e581-a3ee-40b3-816a-feaf25aa9818"
      },
      "source": [
        "import pandas as pd\n",
        "from os import path\n",
        "\n",
        "def getDistributionData():\n",
        "  return pd.DataFrame({\n",
        "      \"uniform\":data_uniform,\n",
        "      \"normal\":data_normal,\n",
        "      \"bern\":data_bern,\n",
        "      \"binom\":data_binom})\n",
        "\n",
        "df = getDistributionData()\n",
        "df.head()"
      ],
      "execution_count": null,
      "outputs": [
        {
          "output_type": "execute_result",
          "data": {
            "text/html": [
              "<div>\n",
              "<style scoped>\n",
              "    .dataframe tbody tr th:only-of-type {\n",
              "        vertical-align: middle;\n",
              "    }\n",
              "\n",
              "    .dataframe tbody tr th {\n",
              "        vertical-align: top;\n",
              "    }\n",
              "\n",
              "    .dataframe thead th {\n",
              "        text-align: right;\n",
              "    }\n",
              "</style>\n",
              "<table border=\"1\" class=\"dataframe\">\n",
              "  <thead>\n",
              "    <tr style=\"text-align: right;\">\n",
              "      <th></th>\n",
              "      <th>uniform</th>\n",
              "      <th>normal</th>\n",
              "      <th>bern</th>\n",
              "      <th>binom</th>\n",
              "    </tr>\n",
              "  </thead>\n",
              "  <tbody>\n",
              "    <tr>\n",
              "      <th>0</th>\n",
              "      <td>26.031871</td>\n",
              "      <td>9.792524</td>\n",
              "      <td>1</td>\n",
              "      <td>9</td>\n",
              "    </tr>\n",
              "    <tr>\n",
              "      <th>1</th>\n",
              "      <td>17.735726</td>\n",
              "      <td>10.337655</td>\n",
              "      <td>1</td>\n",
              "      <td>10</td>\n",
              "    </tr>\n",
              "    <tr>\n",
              "      <th>2</th>\n",
              "      <td>13.516215</td>\n",
              "      <td>10.742905</td>\n",
              "      <td>1</td>\n",
              "      <td>8</td>\n",
              "    </tr>\n",
              "    <tr>\n",
              "      <th>3</th>\n",
              "      <td>17.111709</td>\n",
              "      <td>9.861952</td>\n",
              "      <td>0</td>\n",
              "      <td>8</td>\n",
              "    </tr>\n",
              "    <tr>\n",
              "      <th>4</th>\n",
              "      <td>29.261332</td>\n",
              "      <td>8.891675</td>\n",
              "      <td>1</td>\n",
              "      <td>7</td>\n",
              "    </tr>\n",
              "  </tbody>\n",
              "</table>\n",
              "</div>"
            ],
            "text/plain": [
              "     uniform     normal  bern  binom\n",
              "0  26.031871   9.792524     1      9\n",
              "1  17.735726  10.337655     1     10\n",
              "2  13.516215  10.742905     1      8\n",
              "3  17.111709   9.861952     0      8\n",
              "4  29.261332   8.891675     1      7"
            ]
          },
          "metadata": {
            "tags": []
          },
          "execution_count": 37
        }
      ]
    },
    {
      "cell_type": "markdown",
      "metadata": {
        "id": "XWSCfWYlQGXx"
      },
      "source": [
        "# 데이터 필터링 복습"
      ]
    },
    {
      "cell_type": "markdown",
      "metadata": {
        "id": "dKGGjV_mH80P"
      },
      "source": [
        "## 타이타닉 데이터 \n",
        "\n",
        "* 타이나닉 데이터의 각 Row는 아래와 유사함\n",
        "\n",
        "PassengerId| Survived| Pclass| Sex| Age| Ticket| Fare| Cabin| Embarked\n",
        "---| ---| ---| ---| ---| ---| ---| ---| ---\n",
        "0| 1| 0| 3| male| 22.0| A/5 21171| 7.25| NaN| S\n",
        "\n",
        "* 타이나닉 데이터의 column 정보는 아래표와 같음\n",
        "\n",
        "컬럼 이름|\t설명|\t컬럼값 설명\n",
        "---| ---| ---\n",
        "PassengerId| 탑승객 번호| \n",
        "Survived|\t생존유무|\t0 = 사망, 1 = 생존\n",
        "pclass|\t티켓 글래스|\t1 = 1등석, 2 = 2등석, 3 = 3등석\n",
        "Sex|\t성별| Female = 여성, Male = 남성\t\n",
        "Age|\t만 나이 | 태어난지 1년 미만으면(만 나이 < 0) 소수로 표현\n",
        "Ticket|\t티켓 번호|\t\n",
        "Fare|\t티켓 가격|\t\n",
        "Cabin|\t객실 번호|\t\n",
        "Embarked|\t탑승 항구|\tC = 셰르부르(프랑스 서북부 항구), Q = 퀸즈타운(아일랜드 남부의 항구), S = 사우샘프턴 (영국 남부 항구)\n",
        "\n",
        "\n",
        "* 타이나틱 데이터의 첫 row 5개의 데이터는 아래와 같음\n"
      ]
    },
    {
      "cell_type": "code",
      "metadata": {
        "colab": {
          "base_uri": "https://localhost:8080/",
          "height": 240
        },
        "id": "VEK6YEWFj2z2",
        "outputId": "1a3b3801-bebc-4b36-d73e-8ade81838767"
      },
      "source": [
        "df = getTitanicData()\n",
        "df.head()"
      ],
      "execution_count": null,
      "outputs": [
        {
          "output_type": "execute_result",
          "data": {
            "text/html": [
              "<div>\n",
              "<style scoped>\n",
              "    .dataframe tbody tr th:only-of-type {\n",
              "        vertical-align: middle;\n",
              "    }\n",
              "\n",
              "    .dataframe tbody tr th {\n",
              "        vertical-align: top;\n",
              "    }\n",
              "\n",
              "    .dataframe thead th {\n",
              "        text-align: right;\n",
              "    }\n",
              "</style>\n",
              "<table border=\"1\" class=\"dataframe\">\n",
              "  <thead>\n",
              "    <tr style=\"text-align: right;\">\n",
              "      <th></th>\n",
              "      <th>PassengerId</th>\n",
              "      <th>Survived</th>\n",
              "      <th>Pclass</th>\n",
              "      <th>Sex</th>\n",
              "      <th>Age</th>\n",
              "      <th>Ticket</th>\n",
              "      <th>Fare</th>\n",
              "      <th>Cabin</th>\n",
              "      <th>Embarked</th>\n",
              "    </tr>\n",
              "  </thead>\n",
              "  <tbody>\n",
              "    <tr>\n",
              "      <th>0</th>\n",
              "      <td>1</td>\n",
              "      <td>0</td>\n",
              "      <td>3</td>\n",
              "      <td>male</td>\n",
              "      <td>22.0</td>\n",
              "      <td>A/5 21171</td>\n",
              "      <td>7.2500</td>\n",
              "      <td>NaN</td>\n",
              "      <td>S</td>\n",
              "    </tr>\n",
              "    <tr>\n",
              "      <th>1</th>\n",
              "      <td>2</td>\n",
              "      <td>1</td>\n",
              "      <td>1</td>\n",
              "      <td>female</td>\n",
              "      <td>38.0</td>\n",
              "      <td>PC 17599</td>\n",
              "      <td>71.2833</td>\n",
              "      <td>C85</td>\n",
              "      <td>C</td>\n",
              "    </tr>\n",
              "    <tr>\n",
              "      <th>2</th>\n",
              "      <td>3</td>\n",
              "      <td>1</td>\n",
              "      <td>3</td>\n",
              "      <td>female</td>\n",
              "      <td>26.0</td>\n",
              "      <td>STON/O2. 3101282</td>\n",
              "      <td>7.9250</td>\n",
              "      <td>NaN</td>\n",
              "      <td>S</td>\n",
              "    </tr>\n",
              "    <tr>\n",
              "      <th>3</th>\n",
              "      <td>4</td>\n",
              "      <td>1</td>\n",
              "      <td>1</td>\n",
              "      <td>female</td>\n",
              "      <td>35.0</td>\n",
              "      <td>113803</td>\n",
              "      <td>53.1000</td>\n",
              "      <td>C123</td>\n",
              "      <td>S</td>\n",
              "    </tr>\n",
              "    <tr>\n",
              "      <th>4</th>\n",
              "      <td>5</td>\n",
              "      <td>0</td>\n",
              "      <td>3</td>\n",
              "      <td>male</td>\n",
              "      <td>35.0</td>\n",
              "      <td>373450</td>\n",
              "      <td>8.0500</td>\n",
              "      <td>NaN</td>\n",
              "      <td>S</td>\n",
              "    </tr>\n",
              "  </tbody>\n",
              "</table>\n",
              "</div>"
            ],
            "text/plain": [
              "   PassengerId  Survived  Pclass  ...     Fare  Cabin Embarked\n",
              "0            1         0       3  ...   7.2500    NaN        S\n",
              "1            2         1       1  ...  71.2833    C85        C\n",
              "2            3         1       3  ...   7.9250    NaN        S\n",
              "3            4         1       1  ...  53.1000   C123        S\n",
              "4            5         0       3  ...   8.0500    NaN        S\n",
              "\n",
              "[5 rows x 9 columns]"
            ]
          },
          "metadata": {
            "tags": []
          },
          "execution_count": 114
        }
      ]
    },
    {
      "cell_type": "markdown",
      "metadata": {
        "id": "34Ox3kC-k42d"
      },
      "source": [
        "## 조건문(Conditional Statement) \n",
        "\n",
        "* 비교 연산자를 활용하여 조건문을 만들수 있음. 사용 가능한 비교 연산자는 아래 표와 같음\n",
        "\n",
        "* 비교 연산자는 두 피연산자 (e.g., A vs. B) 사이의 상대적인 크기를 판단함 \n",
        "\n",
        "비교 연산자|\t설명\n",
        "---| ---\n",
        "A **==** B|  A와 B는 **같다**\n",
        "A **!=** B| A와 B는 **다르다**\n",
        "A **<** B| A는 B 보다 **작다**\n",
        "A **<=** B| A는 B 보다 **작거나 같다**\n",
        "A **>** B| A는 B보다 **크다**\n",
        "A **>=** B| A는 B보다 **크거나 같다** "
      ]
    },
    {
      "cell_type": "markdown",
      "metadata": {
        "id": "bxhHu8QilG8z"
      },
      "source": [
        "## 논리 연산자(Logical Operator)\n",
        "\n",
        "* 논리 연산자를 두 조건문 사이에 넣어 조건문을 더 다양하게 만들 수 있음: e.g., (A == B) & (B != C)\n",
        "\n",
        "* 논리 연산자로 다음 3가지를 사용할 수 있음: & (AND; 그리고), | (OR; 또는), ! (NOT; 아니다)\n",
        "\n",
        "* 논리 연산자 사용예는 아래표와 같음\n",
        "\n",
        "\n",
        "논리 연산자| 설명| 사용 예시| 설명\n",
        "---| --- | --- | ---\n",
        "& | (A == B) & (B != C) | 앞뒤 모든 조건문을 만족해야 참이됨 |A와 B는 같고 B는 C와 다르다\n",
        "\\| | (A == B) \\| (B != C) | 앞뒤 조건문 중 한개만 만족하면 참이됨|A와 B는 같거나 B는 C와 다르다\n",
        "! | !(A == B) | 조건문 거짓이면 참이됨 |A와 B는 같은 것이 아니다 (A와 B는 다르다)"
      ]
    },
    {
      "cell_type": "markdown",
      "metadata": {
        "id": "cS9_bMqylLoo"
      },
      "source": [
        "## DataFrame[조건문]\n",
        "\n",
        "* DataFrame[ ? ]에 참(True) 또는 거짓(False)을 반환하는 조건문을 넣어 필터링을 할 수 있음 (e.g., DataFrame[ 조건문 ])\n",
        "\n",
        "* DataFrame[ 조건문 ]은 조건문이 True를 반환하는 Row만 보여줌 \n",
        "\n",
        "* 아래 코드는 3등석에 탑승한 탑승객만 필터하여 보여줌"
      ]
    },
    {
      "cell_type": "code",
      "metadata": {
        "colab": {
          "base_uri": "https://localhost:8080/",
          "height": 419
        },
        "id": "WEGBfRGAnWyZ",
        "outputId": "64d1fa2f-58ef-4ac4-b300-1d367e1a6028"
      },
      "source": [
        "df = getTitanicData()\n",
        "df[(df.Pclass == 3)]"
      ],
      "execution_count": null,
      "outputs": [
        {
          "output_type": "execute_result",
          "data": {
            "text/html": [
              "<div>\n",
              "<style scoped>\n",
              "    .dataframe tbody tr th:only-of-type {\n",
              "        vertical-align: middle;\n",
              "    }\n",
              "\n",
              "    .dataframe tbody tr th {\n",
              "        vertical-align: top;\n",
              "    }\n",
              "\n",
              "    .dataframe thead th {\n",
              "        text-align: right;\n",
              "    }\n",
              "</style>\n",
              "<table border=\"1\" class=\"dataframe\">\n",
              "  <thead>\n",
              "    <tr style=\"text-align: right;\">\n",
              "      <th></th>\n",
              "      <th>PassengerId</th>\n",
              "      <th>Survived</th>\n",
              "      <th>Pclass</th>\n",
              "      <th>Sex</th>\n",
              "      <th>Age</th>\n",
              "      <th>Ticket</th>\n",
              "      <th>Fare</th>\n",
              "      <th>Cabin</th>\n",
              "      <th>Embarked</th>\n",
              "    </tr>\n",
              "  </thead>\n",
              "  <tbody>\n",
              "    <tr>\n",
              "      <th>0</th>\n",
              "      <td>1</td>\n",
              "      <td>0</td>\n",
              "      <td>3</td>\n",
              "      <td>male</td>\n",
              "      <td>22.0</td>\n",
              "      <td>A/5 21171</td>\n",
              "      <td>7.2500</td>\n",
              "      <td>NaN</td>\n",
              "      <td>S</td>\n",
              "    </tr>\n",
              "    <tr>\n",
              "      <th>2</th>\n",
              "      <td>3</td>\n",
              "      <td>1</td>\n",
              "      <td>3</td>\n",
              "      <td>female</td>\n",
              "      <td>26.0</td>\n",
              "      <td>STON/O2. 3101282</td>\n",
              "      <td>7.9250</td>\n",
              "      <td>NaN</td>\n",
              "      <td>S</td>\n",
              "    </tr>\n",
              "    <tr>\n",
              "      <th>4</th>\n",
              "      <td>5</td>\n",
              "      <td>0</td>\n",
              "      <td>3</td>\n",
              "      <td>male</td>\n",
              "      <td>35.0</td>\n",
              "      <td>373450</td>\n",
              "      <td>8.0500</td>\n",
              "      <td>NaN</td>\n",
              "      <td>S</td>\n",
              "    </tr>\n",
              "    <tr>\n",
              "      <th>5</th>\n",
              "      <td>6</td>\n",
              "      <td>0</td>\n",
              "      <td>3</td>\n",
              "      <td>male</td>\n",
              "      <td>NaN</td>\n",
              "      <td>330877</td>\n",
              "      <td>8.4583</td>\n",
              "      <td>NaN</td>\n",
              "      <td>Q</td>\n",
              "    </tr>\n",
              "    <tr>\n",
              "      <th>7</th>\n",
              "      <td>8</td>\n",
              "      <td>0</td>\n",
              "      <td>3</td>\n",
              "      <td>male</td>\n",
              "      <td>2.0</td>\n",
              "      <td>349909</td>\n",
              "      <td>21.0750</td>\n",
              "      <td>NaN</td>\n",
              "      <td>S</td>\n",
              "    </tr>\n",
              "    <tr>\n",
              "      <th>...</th>\n",
              "      <td>...</td>\n",
              "      <td>...</td>\n",
              "      <td>...</td>\n",
              "      <td>...</td>\n",
              "      <td>...</td>\n",
              "      <td>...</td>\n",
              "      <td>...</td>\n",
              "      <td>...</td>\n",
              "      <td>...</td>\n",
              "    </tr>\n",
              "    <tr>\n",
              "      <th>882</th>\n",
              "      <td>883</td>\n",
              "      <td>0</td>\n",
              "      <td>3</td>\n",
              "      <td>female</td>\n",
              "      <td>22.0</td>\n",
              "      <td>7552</td>\n",
              "      <td>10.5167</td>\n",
              "      <td>NaN</td>\n",
              "      <td>S</td>\n",
              "    </tr>\n",
              "    <tr>\n",
              "      <th>884</th>\n",
              "      <td>885</td>\n",
              "      <td>0</td>\n",
              "      <td>3</td>\n",
              "      <td>male</td>\n",
              "      <td>25.0</td>\n",
              "      <td>SOTON/OQ 392076</td>\n",
              "      <td>7.0500</td>\n",
              "      <td>NaN</td>\n",
              "      <td>S</td>\n",
              "    </tr>\n",
              "    <tr>\n",
              "      <th>885</th>\n",
              "      <td>886</td>\n",
              "      <td>0</td>\n",
              "      <td>3</td>\n",
              "      <td>female</td>\n",
              "      <td>39.0</td>\n",
              "      <td>382652</td>\n",
              "      <td>29.1250</td>\n",
              "      <td>NaN</td>\n",
              "      <td>Q</td>\n",
              "    </tr>\n",
              "    <tr>\n",
              "      <th>888</th>\n",
              "      <td>889</td>\n",
              "      <td>0</td>\n",
              "      <td>3</td>\n",
              "      <td>female</td>\n",
              "      <td>NaN</td>\n",
              "      <td>W./C. 6607</td>\n",
              "      <td>23.4500</td>\n",
              "      <td>NaN</td>\n",
              "      <td>S</td>\n",
              "    </tr>\n",
              "    <tr>\n",
              "      <th>890</th>\n",
              "      <td>891</td>\n",
              "      <td>0</td>\n",
              "      <td>3</td>\n",
              "      <td>male</td>\n",
              "      <td>32.0</td>\n",
              "      <td>370376</td>\n",
              "      <td>7.7500</td>\n",
              "      <td>NaN</td>\n",
              "      <td>Q</td>\n",
              "    </tr>\n",
              "  </tbody>\n",
              "</table>\n",
              "<p>491 rows × 9 columns</p>\n",
              "</div>"
            ],
            "text/plain": [
              "     PassengerId  Survived  Pclass  ...     Fare  Cabin Embarked\n",
              "0              1         0       3  ...   7.2500    NaN        S\n",
              "2              3         1       3  ...   7.9250    NaN        S\n",
              "4              5         0       3  ...   8.0500    NaN        S\n",
              "5              6         0       3  ...   8.4583    NaN        Q\n",
              "7              8         0       3  ...  21.0750    NaN        S\n",
              "..           ...       ...     ...  ...      ...    ...      ...\n",
              "882          883         0       3  ...  10.5167    NaN        S\n",
              "884          885         0       3  ...   7.0500    NaN        S\n",
              "885          886         0       3  ...  29.1250    NaN        Q\n",
              "888          889         0       3  ...  23.4500    NaN        S\n",
              "890          891         0       3  ...   7.7500    NaN        Q\n",
              "\n",
              "[491 rows x 9 columns]"
            ]
          },
          "metadata": {
            "tags": []
          },
          "execution_count": 27
        }
      ]
    },
    {
      "cell_type": "markdown",
      "metadata": {
        "id": "CT_usXs0nvSv"
      },
      "source": [
        "* 아래 코드는 3등석에 탑승하지 않은 탑승객만 필터하여 보여줌 (e.g., 1, 2등석 탑승객)"
      ]
    },
    {
      "cell_type": "code",
      "metadata": {
        "colab": {
          "base_uri": "https://localhost:8080/",
          "height": 419
        },
        "id": "mNNuhSdfnvdS",
        "outputId": "01f72626-d5f4-4886-de8b-320d9fb2ccae"
      },
      "source": [
        "df = getTitanicData()\n",
        "df[(df.Pclass != 3)]"
      ],
      "execution_count": null,
      "outputs": [
        {
          "output_type": "execute_result",
          "data": {
            "text/html": [
              "<div>\n",
              "<style scoped>\n",
              "    .dataframe tbody tr th:only-of-type {\n",
              "        vertical-align: middle;\n",
              "    }\n",
              "\n",
              "    .dataframe tbody tr th {\n",
              "        vertical-align: top;\n",
              "    }\n",
              "\n",
              "    .dataframe thead th {\n",
              "        text-align: right;\n",
              "    }\n",
              "</style>\n",
              "<table border=\"1\" class=\"dataframe\">\n",
              "  <thead>\n",
              "    <tr style=\"text-align: right;\">\n",
              "      <th></th>\n",
              "      <th>PassengerId</th>\n",
              "      <th>Survived</th>\n",
              "      <th>Pclass</th>\n",
              "      <th>Sex</th>\n",
              "      <th>Age</th>\n",
              "      <th>Ticket</th>\n",
              "      <th>Fare</th>\n",
              "      <th>Cabin</th>\n",
              "      <th>Embarked</th>\n",
              "    </tr>\n",
              "  </thead>\n",
              "  <tbody>\n",
              "    <tr>\n",
              "      <th>1</th>\n",
              "      <td>2</td>\n",
              "      <td>1</td>\n",
              "      <td>1</td>\n",
              "      <td>female</td>\n",
              "      <td>38.0</td>\n",
              "      <td>PC 17599</td>\n",
              "      <td>71.2833</td>\n",
              "      <td>C85</td>\n",
              "      <td>C</td>\n",
              "    </tr>\n",
              "    <tr>\n",
              "      <th>3</th>\n",
              "      <td>4</td>\n",
              "      <td>1</td>\n",
              "      <td>1</td>\n",
              "      <td>female</td>\n",
              "      <td>35.0</td>\n",
              "      <td>113803</td>\n",
              "      <td>53.1000</td>\n",
              "      <td>C123</td>\n",
              "      <td>S</td>\n",
              "    </tr>\n",
              "    <tr>\n",
              "      <th>6</th>\n",
              "      <td>7</td>\n",
              "      <td>0</td>\n",
              "      <td>1</td>\n",
              "      <td>male</td>\n",
              "      <td>54.0</td>\n",
              "      <td>17463</td>\n",
              "      <td>51.8625</td>\n",
              "      <td>E46</td>\n",
              "      <td>S</td>\n",
              "    </tr>\n",
              "    <tr>\n",
              "      <th>9</th>\n",
              "      <td>10</td>\n",
              "      <td>1</td>\n",
              "      <td>2</td>\n",
              "      <td>female</td>\n",
              "      <td>14.0</td>\n",
              "      <td>237736</td>\n",
              "      <td>30.0708</td>\n",
              "      <td>NaN</td>\n",
              "      <td>C</td>\n",
              "    </tr>\n",
              "    <tr>\n",
              "      <th>11</th>\n",
              "      <td>12</td>\n",
              "      <td>1</td>\n",
              "      <td>1</td>\n",
              "      <td>female</td>\n",
              "      <td>58.0</td>\n",
              "      <td>113783</td>\n",
              "      <td>26.5500</td>\n",
              "      <td>C103</td>\n",
              "      <td>S</td>\n",
              "    </tr>\n",
              "    <tr>\n",
              "      <th>...</th>\n",
              "      <td>...</td>\n",
              "      <td>...</td>\n",
              "      <td>...</td>\n",
              "      <td>...</td>\n",
              "      <td>...</td>\n",
              "      <td>...</td>\n",
              "      <td>...</td>\n",
              "      <td>...</td>\n",
              "      <td>...</td>\n",
              "    </tr>\n",
              "    <tr>\n",
              "      <th>880</th>\n",
              "      <td>881</td>\n",
              "      <td>1</td>\n",
              "      <td>2</td>\n",
              "      <td>female</td>\n",
              "      <td>25.0</td>\n",
              "      <td>230433</td>\n",
              "      <td>26.0000</td>\n",
              "      <td>NaN</td>\n",
              "      <td>S</td>\n",
              "    </tr>\n",
              "    <tr>\n",
              "      <th>883</th>\n",
              "      <td>884</td>\n",
              "      <td>0</td>\n",
              "      <td>2</td>\n",
              "      <td>male</td>\n",
              "      <td>28.0</td>\n",
              "      <td>C.A./SOTON 34068</td>\n",
              "      <td>10.5000</td>\n",
              "      <td>NaN</td>\n",
              "      <td>S</td>\n",
              "    </tr>\n",
              "    <tr>\n",
              "      <th>886</th>\n",
              "      <td>887</td>\n",
              "      <td>0</td>\n",
              "      <td>2</td>\n",
              "      <td>male</td>\n",
              "      <td>27.0</td>\n",
              "      <td>211536</td>\n",
              "      <td>13.0000</td>\n",
              "      <td>NaN</td>\n",
              "      <td>S</td>\n",
              "    </tr>\n",
              "    <tr>\n",
              "      <th>887</th>\n",
              "      <td>888</td>\n",
              "      <td>1</td>\n",
              "      <td>1</td>\n",
              "      <td>female</td>\n",
              "      <td>19.0</td>\n",
              "      <td>112053</td>\n",
              "      <td>30.0000</td>\n",
              "      <td>B42</td>\n",
              "      <td>S</td>\n",
              "    </tr>\n",
              "    <tr>\n",
              "      <th>889</th>\n",
              "      <td>890</td>\n",
              "      <td>1</td>\n",
              "      <td>1</td>\n",
              "      <td>male</td>\n",
              "      <td>26.0</td>\n",
              "      <td>111369</td>\n",
              "      <td>30.0000</td>\n",
              "      <td>C148</td>\n",
              "      <td>C</td>\n",
              "    </tr>\n",
              "  </tbody>\n",
              "</table>\n",
              "<p>400 rows × 9 columns</p>\n",
              "</div>"
            ],
            "text/plain": [
              "     PassengerId  Survived  Pclass  ...     Fare  Cabin Embarked\n",
              "1              2         1       1  ...  71.2833    C85        C\n",
              "3              4         1       1  ...  53.1000   C123        S\n",
              "6              7         0       1  ...  51.8625    E46        S\n",
              "9             10         1       2  ...  30.0708    NaN        C\n",
              "11            12         1       1  ...  26.5500   C103        S\n",
              "..           ...       ...     ...  ...      ...    ...      ...\n",
              "880          881         1       2  ...  26.0000    NaN        S\n",
              "883          884         0       2  ...  10.5000    NaN        S\n",
              "886          887         0       2  ...  13.0000    NaN        S\n",
              "887          888         1       1  ...  30.0000    B42        S\n",
              "889          890         1       1  ...  30.0000   C148        C\n",
              "\n",
              "[400 rows x 9 columns]"
            ]
          },
          "metadata": {
            "tags": []
          },
          "execution_count": 28
        }
      ]
    },
    {
      "cell_type": "markdown",
      "metadata": {
        "id": "2rh6PORUnXH1"
      },
      "source": [
        "* 논리 연산자를 두 조건문 사이에 넣어 조건문을 더 다양하게 만들 수 있음\n",
        "\n",
        "* 아래는 3등석에 탑승한 탑승객 중 생존한 탑승객만 필터하여 보여줌"
      ]
    },
    {
      "cell_type": "code",
      "metadata": {
        "colab": {
          "base_uri": "https://localhost:8080/",
          "height": 419
        },
        "id": "0KLc_ZGFnPRr",
        "outputId": "7ae3ad22-14fb-4a65-c9f7-75df927f7b9b"
      },
      "source": [
        "df = getTitanicData()\n",
        "df[(df.Pclass == 3) & (df.Survived == 1)]"
      ],
      "execution_count": null,
      "outputs": [
        {
          "output_type": "execute_result",
          "data": {
            "text/html": [
              "<div>\n",
              "<style scoped>\n",
              "    .dataframe tbody tr th:only-of-type {\n",
              "        vertical-align: middle;\n",
              "    }\n",
              "\n",
              "    .dataframe tbody tr th {\n",
              "        vertical-align: top;\n",
              "    }\n",
              "\n",
              "    .dataframe thead th {\n",
              "        text-align: right;\n",
              "    }\n",
              "</style>\n",
              "<table border=\"1\" class=\"dataframe\">\n",
              "  <thead>\n",
              "    <tr style=\"text-align: right;\">\n",
              "      <th></th>\n",
              "      <th>PassengerId</th>\n",
              "      <th>Survived</th>\n",
              "      <th>Pclass</th>\n",
              "      <th>Sex</th>\n",
              "      <th>Age</th>\n",
              "      <th>Ticket</th>\n",
              "      <th>Fare</th>\n",
              "      <th>Cabin</th>\n",
              "      <th>Embarked</th>\n",
              "    </tr>\n",
              "  </thead>\n",
              "  <tbody>\n",
              "    <tr>\n",
              "      <th>2</th>\n",
              "      <td>3</td>\n",
              "      <td>1</td>\n",
              "      <td>3</td>\n",
              "      <td>female</td>\n",
              "      <td>26.0</td>\n",
              "      <td>STON/O2. 3101282</td>\n",
              "      <td>7.9250</td>\n",
              "      <td>NaN</td>\n",
              "      <td>S</td>\n",
              "    </tr>\n",
              "    <tr>\n",
              "      <th>8</th>\n",
              "      <td>9</td>\n",
              "      <td>1</td>\n",
              "      <td>3</td>\n",
              "      <td>female</td>\n",
              "      <td>27.0</td>\n",
              "      <td>347742</td>\n",
              "      <td>11.1333</td>\n",
              "      <td>NaN</td>\n",
              "      <td>S</td>\n",
              "    </tr>\n",
              "    <tr>\n",
              "      <th>10</th>\n",
              "      <td>11</td>\n",
              "      <td>1</td>\n",
              "      <td>3</td>\n",
              "      <td>female</td>\n",
              "      <td>4.0</td>\n",
              "      <td>PP 9549</td>\n",
              "      <td>16.7000</td>\n",
              "      <td>G6</td>\n",
              "      <td>S</td>\n",
              "    </tr>\n",
              "    <tr>\n",
              "      <th>19</th>\n",
              "      <td>20</td>\n",
              "      <td>1</td>\n",
              "      <td>3</td>\n",
              "      <td>female</td>\n",
              "      <td>NaN</td>\n",
              "      <td>2649</td>\n",
              "      <td>7.2250</td>\n",
              "      <td>NaN</td>\n",
              "      <td>C</td>\n",
              "    </tr>\n",
              "    <tr>\n",
              "      <th>22</th>\n",
              "      <td>23</td>\n",
              "      <td>1</td>\n",
              "      <td>3</td>\n",
              "      <td>female</td>\n",
              "      <td>15.0</td>\n",
              "      <td>330923</td>\n",
              "      <td>8.0292</td>\n",
              "      <td>NaN</td>\n",
              "      <td>Q</td>\n",
              "    </tr>\n",
              "    <tr>\n",
              "      <th>...</th>\n",
              "      <td>...</td>\n",
              "      <td>...</td>\n",
              "      <td>...</td>\n",
              "      <td>...</td>\n",
              "      <td>...</td>\n",
              "      <td>...</td>\n",
              "      <td>...</td>\n",
              "      <td>...</td>\n",
              "      <td>...</td>\n",
              "    </tr>\n",
              "    <tr>\n",
              "      <th>838</th>\n",
              "      <td>839</td>\n",
              "      <td>1</td>\n",
              "      <td>3</td>\n",
              "      <td>male</td>\n",
              "      <td>32.0</td>\n",
              "      <td>1601</td>\n",
              "      <td>56.4958</td>\n",
              "      <td>NaN</td>\n",
              "      <td>S</td>\n",
              "    </tr>\n",
              "    <tr>\n",
              "      <th>855</th>\n",
              "      <td>856</td>\n",
              "      <td>1</td>\n",
              "      <td>3</td>\n",
              "      <td>female</td>\n",
              "      <td>18.0</td>\n",
              "      <td>392091</td>\n",
              "      <td>9.3500</td>\n",
              "      <td>NaN</td>\n",
              "      <td>S</td>\n",
              "    </tr>\n",
              "    <tr>\n",
              "      <th>858</th>\n",
              "      <td>859</td>\n",
              "      <td>1</td>\n",
              "      <td>3</td>\n",
              "      <td>female</td>\n",
              "      <td>24.0</td>\n",
              "      <td>2666</td>\n",
              "      <td>19.2583</td>\n",
              "      <td>NaN</td>\n",
              "      <td>C</td>\n",
              "    </tr>\n",
              "    <tr>\n",
              "      <th>869</th>\n",
              "      <td>870</td>\n",
              "      <td>1</td>\n",
              "      <td>3</td>\n",
              "      <td>male</td>\n",
              "      <td>4.0</td>\n",
              "      <td>347742</td>\n",
              "      <td>11.1333</td>\n",
              "      <td>NaN</td>\n",
              "      <td>S</td>\n",
              "    </tr>\n",
              "    <tr>\n",
              "      <th>875</th>\n",
              "      <td>876</td>\n",
              "      <td>1</td>\n",
              "      <td>3</td>\n",
              "      <td>female</td>\n",
              "      <td>15.0</td>\n",
              "      <td>2667</td>\n",
              "      <td>7.2250</td>\n",
              "      <td>NaN</td>\n",
              "      <td>C</td>\n",
              "    </tr>\n",
              "  </tbody>\n",
              "</table>\n",
              "<p>119 rows × 9 columns</p>\n",
              "</div>"
            ],
            "text/plain": [
              "     PassengerId  Survived  Pclass  ...     Fare  Cabin Embarked\n",
              "2              3         1       3  ...   7.9250    NaN        S\n",
              "8              9         1       3  ...  11.1333    NaN        S\n",
              "10            11         1       3  ...  16.7000     G6        S\n",
              "19            20         1       3  ...   7.2250    NaN        C\n",
              "22            23         1       3  ...   8.0292    NaN        Q\n",
              "..           ...       ...     ...  ...      ...    ...      ...\n",
              "838          839         1       3  ...  56.4958    NaN        S\n",
              "855          856         1       3  ...   9.3500    NaN        S\n",
              "858          859         1       3  ...  19.2583    NaN        C\n",
              "869          870         1       3  ...  11.1333    NaN        S\n",
              "875          876         1       3  ...   7.2250    NaN        C\n",
              "\n",
              "[119 rows x 9 columns]"
            ]
          },
          "metadata": {
            "tags": []
          },
          "execution_count": 30
        }
      ]
    },
    {
      "cell_type": "markdown",
      "metadata": {
        "id": "vJ76njzcoJ5O"
      },
      "source": [
        "* 아래 코드는 3등석에 탑승하지 않은 탑승객 중 생존한 탑승객만 필터하여 보여줌 (e.g., 1, 2등석 생존 탑승객)"
      ]
    },
    {
      "cell_type": "code",
      "metadata": {
        "colab": {
          "base_uri": "https://localhost:8080/",
          "height": 419
        },
        "id": "nwpEdRbkoKA9",
        "outputId": "da78a1a0-9e99-43d7-d178-e8860c2ba75d"
      },
      "source": [
        "df = getTitanicData()\n",
        "df[(df.Pclass != 3) & (df.Survived == 1)]"
      ],
      "execution_count": null,
      "outputs": [
        {
          "output_type": "execute_result",
          "data": {
            "text/html": [
              "<div>\n",
              "<style scoped>\n",
              "    .dataframe tbody tr th:only-of-type {\n",
              "        vertical-align: middle;\n",
              "    }\n",
              "\n",
              "    .dataframe tbody tr th {\n",
              "        vertical-align: top;\n",
              "    }\n",
              "\n",
              "    .dataframe thead th {\n",
              "        text-align: right;\n",
              "    }\n",
              "</style>\n",
              "<table border=\"1\" class=\"dataframe\">\n",
              "  <thead>\n",
              "    <tr style=\"text-align: right;\">\n",
              "      <th></th>\n",
              "      <th>PassengerId</th>\n",
              "      <th>Survived</th>\n",
              "      <th>Pclass</th>\n",
              "      <th>Sex</th>\n",
              "      <th>Age</th>\n",
              "      <th>Ticket</th>\n",
              "      <th>Fare</th>\n",
              "      <th>Cabin</th>\n",
              "      <th>Embarked</th>\n",
              "    </tr>\n",
              "  </thead>\n",
              "  <tbody>\n",
              "    <tr>\n",
              "      <th>1</th>\n",
              "      <td>2</td>\n",
              "      <td>1</td>\n",
              "      <td>1</td>\n",
              "      <td>female</td>\n",
              "      <td>38.0</td>\n",
              "      <td>PC 17599</td>\n",
              "      <td>71.2833</td>\n",
              "      <td>C85</td>\n",
              "      <td>C</td>\n",
              "    </tr>\n",
              "    <tr>\n",
              "      <th>3</th>\n",
              "      <td>4</td>\n",
              "      <td>1</td>\n",
              "      <td>1</td>\n",
              "      <td>female</td>\n",
              "      <td>35.0</td>\n",
              "      <td>113803</td>\n",
              "      <td>53.1000</td>\n",
              "      <td>C123</td>\n",
              "      <td>S</td>\n",
              "    </tr>\n",
              "    <tr>\n",
              "      <th>9</th>\n",
              "      <td>10</td>\n",
              "      <td>1</td>\n",
              "      <td>2</td>\n",
              "      <td>female</td>\n",
              "      <td>14.0</td>\n",
              "      <td>237736</td>\n",
              "      <td>30.0708</td>\n",
              "      <td>NaN</td>\n",
              "      <td>C</td>\n",
              "    </tr>\n",
              "    <tr>\n",
              "      <th>11</th>\n",
              "      <td>12</td>\n",
              "      <td>1</td>\n",
              "      <td>1</td>\n",
              "      <td>female</td>\n",
              "      <td>58.0</td>\n",
              "      <td>113783</td>\n",
              "      <td>26.5500</td>\n",
              "      <td>C103</td>\n",
              "      <td>S</td>\n",
              "    </tr>\n",
              "    <tr>\n",
              "      <th>15</th>\n",
              "      <td>16</td>\n",
              "      <td>1</td>\n",
              "      <td>2</td>\n",
              "      <td>female</td>\n",
              "      <td>55.0</td>\n",
              "      <td>248706</td>\n",
              "      <td>16.0000</td>\n",
              "      <td>NaN</td>\n",
              "      <td>S</td>\n",
              "    </tr>\n",
              "    <tr>\n",
              "      <th>...</th>\n",
              "      <td>...</td>\n",
              "      <td>...</td>\n",
              "      <td>...</td>\n",
              "      <td>...</td>\n",
              "      <td>...</td>\n",
              "      <td>...</td>\n",
              "      <td>...</td>\n",
              "      <td>...</td>\n",
              "      <td>...</td>\n",
              "    </tr>\n",
              "    <tr>\n",
              "      <th>874</th>\n",
              "      <td>875</td>\n",
              "      <td>1</td>\n",
              "      <td>2</td>\n",
              "      <td>female</td>\n",
              "      <td>28.0</td>\n",
              "      <td>P/PP 3381</td>\n",
              "      <td>24.0000</td>\n",
              "      <td>NaN</td>\n",
              "      <td>C</td>\n",
              "    </tr>\n",
              "    <tr>\n",
              "      <th>879</th>\n",
              "      <td>880</td>\n",
              "      <td>1</td>\n",
              "      <td>1</td>\n",
              "      <td>female</td>\n",
              "      <td>56.0</td>\n",
              "      <td>11767</td>\n",
              "      <td>83.1583</td>\n",
              "      <td>C50</td>\n",
              "      <td>C</td>\n",
              "    </tr>\n",
              "    <tr>\n",
              "      <th>880</th>\n",
              "      <td>881</td>\n",
              "      <td>1</td>\n",
              "      <td>2</td>\n",
              "      <td>female</td>\n",
              "      <td>25.0</td>\n",
              "      <td>230433</td>\n",
              "      <td>26.0000</td>\n",
              "      <td>NaN</td>\n",
              "      <td>S</td>\n",
              "    </tr>\n",
              "    <tr>\n",
              "      <th>887</th>\n",
              "      <td>888</td>\n",
              "      <td>1</td>\n",
              "      <td>1</td>\n",
              "      <td>female</td>\n",
              "      <td>19.0</td>\n",
              "      <td>112053</td>\n",
              "      <td>30.0000</td>\n",
              "      <td>B42</td>\n",
              "      <td>S</td>\n",
              "    </tr>\n",
              "    <tr>\n",
              "      <th>889</th>\n",
              "      <td>890</td>\n",
              "      <td>1</td>\n",
              "      <td>1</td>\n",
              "      <td>male</td>\n",
              "      <td>26.0</td>\n",
              "      <td>111369</td>\n",
              "      <td>30.0000</td>\n",
              "      <td>C148</td>\n",
              "      <td>C</td>\n",
              "    </tr>\n",
              "  </tbody>\n",
              "</table>\n",
              "<p>223 rows × 9 columns</p>\n",
              "</div>"
            ],
            "text/plain": [
              "     PassengerId  Survived  Pclass     Sex  ...     Ticket     Fare  Cabin Embarked\n",
              "1              2         1       1  female  ...   PC 17599  71.2833    C85        C\n",
              "3              4         1       1  female  ...     113803  53.1000   C123        S\n",
              "9             10         1       2  female  ...     237736  30.0708    NaN        C\n",
              "11            12         1       1  female  ...     113783  26.5500   C103        S\n",
              "15            16         1       2  female  ...     248706  16.0000    NaN        S\n",
              "..           ...       ...     ...     ...  ...        ...      ...    ...      ...\n",
              "874          875         1       2  female  ...  P/PP 3381  24.0000    NaN        C\n",
              "879          880         1       1  female  ...      11767  83.1583    C50        C\n",
              "880          881         1       2  female  ...     230433  26.0000    NaN        S\n",
              "887          888         1       1  female  ...     112053  30.0000    B42        S\n",
              "889          890         1       1    male  ...     111369  30.0000   C148        C\n",
              "\n",
              "[223 rows x 9 columns]"
            ]
          },
          "metadata": {
            "tags": []
          },
          "execution_count": 29
        }
      ]
    },
    {
      "cell_type": "markdown",
      "metadata": {
        "id": "VC5uOsPWlW6w"
      },
      "source": [
        "## DataFrame.loc[조건문, 컬럼이름]\n",
        "\n",
        "* DataFrame.loc[ ? ]에 조건문을 넣어 필터링을 할 수 있음 (e.g., DataFrame.loc[조건문]). DataFrame[ 조건문 ]과 같은 결과가 반환됨\n",
        "\n",
        "* 그러나, DataFrame[ 조건문 ]과는 다르게 DataFrame.loc[ ?, ? ]에 조건문과 함께 컬럼이름을 넣어 필터 후 보여주고 싶은 column을 선택할 수 있음"
      ]
    },
    {
      "cell_type": "code",
      "metadata": {
        "colab": {
          "base_uri": "https://localhost:8080/",
          "height": 417
        },
        "id": "6EsissJpoVI6",
        "outputId": "ebe83136-f1e3-4c94-b5f7-d0638239c2d7"
      },
      "source": [
        "df = getTitanicData()\n",
        "df.loc[(df.Pclass != 3) & (df.Survived == 1), ['PassengerId','Survived', 'Pclass']]"
      ],
      "execution_count": null,
      "outputs": [
        {
          "output_type": "execute_result",
          "data": {
            "text/html": [
              "<div>\n",
              "<style scoped>\n",
              "    .dataframe tbody tr th:only-of-type {\n",
              "        vertical-align: middle;\n",
              "    }\n",
              "\n",
              "    .dataframe tbody tr th {\n",
              "        vertical-align: top;\n",
              "    }\n",
              "\n",
              "    .dataframe thead th {\n",
              "        text-align: right;\n",
              "    }\n",
              "</style>\n",
              "<table border=\"1\" class=\"dataframe\">\n",
              "  <thead>\n",
              "    <tr style=\"text-align: right;\">\n",
              "      <th></th>\n",
              "      <th>PassengerId</th>\n",
              "      <th>Survived</th>\n",
              "      <th>Pclass</th>\n",
              "    </tr>\n",
              "  </thead>\n",
              "  <tbody>\n",
              "    <tr>\n",
              "      <th>1</th>\n",
              "      <td>2</td>\n",
              "      <td>1</td>\n",
              "      <td>1</td>\n",
              "    </tr>\n",
              "    <tr>\n",
              "      <th>3</th>\n",
              "      <td>4</td>\n",
              "      <td>1</td>\n",
              "      <td>1</td>\n",
              "    </tr>\n",
              "    <tr>\n",
              "      <th>9</th>\n",
              "      <td>10</td>\n",
              "      <td>1</td>\n",
              "      <td>2</td>\n",
              "    </tr>\n",
              "    <tr>\n",
              "      <th>11</th>\n",
              "      <td>12</td>\n",
              "      <td>1</td>\n",
              "      <td>1</td>\n",
              "    </tr>\n",
              "    <tr>\n",
              "      <th>15</th>\n",
              "      <td>16</td>\n",
              "      <td>1</td>\n",
              "      <td>2</td>\n",
              "    </tr>\n",
              "    <tr>\n",
              "      <th>...</th>\n",
              "      <td>...</td>\n",
              "      <td>...</td>\n",
              "      <td>...</td>\n",
              "    </tr>\n",
              "    <tr>\n",
              "      <th>874</th>\n",
              "      <td>875</td>\n",
              "      <td>1</td>\n",
              "      <td>2</td>\n",
              "    </tr>\n",
              "    <tr>\n",
              "      <th>879</th>\n",
              "      <td>880</td>\n",
              "      <td>1</td>\n",
              "      <td>1</td>\n",
              "    </tr>\n",
              "    <tr>\n",
              "      <th>880</th>\n",
              "      <td>881</td>\n",
              "      <td>1</td>\n",
              "      <td>2</td>\n",
              "    </tr>\n",
              "    <tr>\n",
              "      <th>887</th>\n",
              "      <td>888</td>\n",
              "      <td>1</td>\n",
              "      <td>1</td>\n",
              "    </tr>\n",
              "    <tr>\n",
              "      <th>889</th>\n",
              "      <td>890</td>\n",
              "      <td>1</td>\n",
              "      <td>1</td>\n",
              "    </tr>\n",
              "  </tbody>\n",
              "</table>\n",
              "<p>223 rows × 3 columns</p>\n",
              "</div>"
            ],
            "text/plain": [
              "     PassengerId  Survived  Pclass\n",
              "1              2         1       1\n",
              "3              4         1       1\n",
              "9             10         1       2\n",
              "11            12         1       1\n",
              "15            16         1       2\n",
              "..           ...       ...     ...\n",
              "874          875         1       2\n",
              "879          880         1       1\n",
              "880          881         1       2\n",
              "887          888         1       1\n",
              "889          890         1       1\n",
              "\n",
              "[223 rows x 3 columns]"
            ]
          },
          "metadata": {
            "tags": []
          },
          "execution_count": 115
        }
      ]
    },
    {
      "cell_type": "markdown",
      "metadata": {
        "id": "OIh2k4M3QIAt"
      },
      "source": [
        "# 기술통계분석\n",
        "\n",
        "* 데이터를 요약해서 나타내려면 기술통계량(descriptive statistics)을 보여주면 됨\n",
        "\n",
        "* 기술통계량은 데이터를 수치로 요약해서 나타난 값을 의미함. 즉 데이터의 특성을 표현하여 데이터의 전반적이 형태를 알 수 있도록 하는 값임 \n",
        "\n",
        "* 기술통계량에는 대표값(중심경향성, central tendency)이나 산포도(dispersion) 등이 있음"
      ]
    },
    {
      "cell_type": "markdown",
      "metadata": {
        "id": "F51na1AKRrjg"
      },
      "source": [
        "## 대표값 (중심경향성, central tendency)\n",
        "\n",
        "* 대표값은 데이터가 어느 위치에 집중되어 있는지 나타내어 데이터를 하나의 대표적인 값으로 요약함\n",
        "\n",
        "* 평균(mean), 중앙값(중위수, median), 최빈값(mode) 등의 대표값이 있음\n",
        "\n",
        "![데이터 종류 비교](https://drive.google.com/uc?export=view&id=1dP8sTEBx36scF151OH6vz2_i_NNi6TSM) \n",
        "\n",
        "* 각 대표값에 대하여 설명하면서 분포 데이터를 활용하여 해당 대표값을 계산하여 보겠음"
      ]
    },
    {
      "cell_type": "markdown",
      "metadata": {
        "id": "gT13jTWwQYet"
      },
      "source": [
        "### 평균 (mean)\n",
        "\n",
        "* 평균은 가장 많이 사용되는 대표값으로 데이터의 값들을 모두 더하고 이를 데이터의 개수로 나눈 값임\n",
        "\n",
        "* 평균을 구하는 수식은 다음과 같음: $\\bar{X} = \\frac{\\sum_{i=1}^{n}X_i}{n}$\n",
        "\n",
        "* 단점으로는 이상치 (또는 특이값)에 영향을 많이 받음\n",
        "\n",
        "![데이터 종류 비교](https://drive.google.com/uc?export=view&id=1KWx-qeLLsLy0oJYcqdT_mu8gOHRRU-J4) \n"
      ]
    },
    {
      "cell_type": "markdown",
      "metadata": {
        "id": "ViP-V97BEwFT"
      },
      "source": [
        "* 실제로 평균이 이상치에 영향을 많이 받는지 확인해 보겠음"
      ]
    },
    {
      "cell_type": "code",
      "metadata": {
        "id": "ypFoV7SkCxdI"
      },
      "source": [
        "import numpy as np\n",
        "\n",
        "data = np.array([1, 3, 4, 5, 9, 11])\n",
        "data_with_outlier = np.array([1, 3, 4, 5, 9, 11, 100])"
      ],
      "execution_count": null,
      "outputs": []
    },
    {
      "cell_type": "code",
      "metadata": {
        "colab": {
          "base_uri": "https://localhost:8080/"
        },
        "id": "eAGCJgSUD3uP",
        "outputId": "077fed08-c9f0-4f93-a5f4-ce8735e23424"
      },
      "source": [
        "data.mean()"
      ],
      "execution_count": null,
      "outputs": [
        {
          "output_type": "execute_result",
          "data": {
            "text/plain": [
              "5.5"
            ]
          },
          "metadata": {
            "tags": []
          },
          "execution_count": 117
        }
      ]
    },
    {
      "cell_type": "code",
      "metadata": {
        "colab": {
          "base_uri": "https://localhost:8080/"
        },
        "id": "8_zOgEjmD32u",
        "outputId": "a96faa3d-2cd5-49e4-a7ac-d70191a0bf32"
      },
      "source": [
        "data_with_outlier.mean()"
      ],
      "execution_count": null,
      "outputs": [
        {
          "output_type": "execute_result",
          "data": {
            "text/plain": [
              "19.0"
            ]
          },
          "metadata": {
            "tags": []
          },
          "execution_count": 118
        }
      ]
    },
    {
      "cell_type": "markdown",
      "metadata": {
        "id": "l-lmZucsCyD7"
      },
      "source": [
        "* DataFrame.mean() 메소드를 사용하면 개별 컬럼데이터의 평균을 계산할 수 있음\n",
        "\n",
        "* 아래코드는 분포 데이터에 포함된 각 컴럼(e.g., 균등분포, 정규분포 등) 데이터의 평균을 계산함"
      ]
    },
    {
      "cell_type": "code",
      "metadata": {
        "colab": {
          "base_uri": "https://localhost:8080/"
        },
        "id": "A8Sa-Bsm3fjS",
        "outputId": "a1e0c0f3-7b0e-4156-b3c2-d66dd8b00c3f"
      },
      "source": [
        "df = getDistributionData()\n",
        "df.mean()"
      ],
      "execution_count": null,
      "outputs": [
        {
          "output_type": "execute_result",
          "data": {
            "text/plain": [
              "uniform    19.999134\n",
              "normal      9.997152\n",
              "bern        0.599100\n",
              "binom       7.999200\n",
              "dtype: float64"
            ]
          },
          "metadata": {
            "tags": []
          },
          "execution_count": 119
        }
      ]
    },
    {
      "cell_type": "markdown",
      "metadata": {
        "id": "-OZutCVk33Kg"
      },
      "source": [
        "* 위에 계산된 평균이 실제로 정확한지 DataFrame.sum()과 DataFrame.count()을 사용하여 평균을 계산해보겠음\n",
        "* DataFrame.sum()은 컬럼 데이터의 합을 계산함. DataFrame.count()는 컴럼 데이터의 수를 보여줌 "
      ]
    },
    {
      "cell_type": "code",
      "metadata": {
        "colab": {
          "base_uri": "https://localhost:8080/"
        },
        "id": "Y_RTKDiY32pf",
        "outputId": "dec18bad-4fe9-4686-88b1-0cdd5922409d"
      },
      "source": [
        "df = getDistributionData()\n",
        "df.sum() # 컬럼데이터 합 "
      ],
      "execution_count": null,
      "outputs": [
        {
          "output_type": "execute_result",
          "data": {
            "text/plain": [
              "uniform    199991.341847\n",
              "normal      99971.516100\n",
              "bern         5991.000000\n",
              "binom       79992.000000\n",
              "dtype: float64"
            ]
          },
          "metadata": {
            "tags": []
          },
          "execution_count": 120
        }
      ]
    },
    {
      "cell_type": "code",
      "metadata": {
        "colab": {
          "base_uri": "https://localhost:8080/"
        },
        "id": "ulhLIT1R4bqZ",
        "outputId": "667c1dfa-3a73-43f2-e655-8b7bd088338c"
      },
      "source": [
        "df.count() # 컬럼데이터 수"
      ],
      "execution_count": null,
      "outputs": [
        {
          "output_type": "execute_result",
          "data": {
            "text/plain": [
              "uniform    10000\n",
              "normal     10000\n",
              "bern       10000\n",
              "binom      10000\n",
              "dtype: int64"
            ]
          },
          "metadata": {
            "tags": []
          },
          "execution_count": 121
        }
      ]
    },
    {
      "cell_type": "code",
      "metadata": {
        "colab": {
          "base_uri": "https://localhost:8080/"
        },
        "id": "9v1eBN4i4d4R",
        "outputId": "5f8bdffa-ffeb-4362-e8db-6f3ceaaae614"
      },
      "source": [
        "df.sum()/df.count() # 컬럼데이터 합 나누기 컬럼데이터 수"
      ],
      "execution_count": null,
      "outputs": [
        {
          "output_type": "execute_result",
          "data": {
            "text/plain": [
              "uniform    19.999134\n",
              "normal      9.997152\n",
              "bern        0.599100\n",
              "binom       7.999200\n",
              "dtype: float64"
            ]
          },
          "metadata": {
            "tags": []
          },
          "execution_count": 122
        }
      ]
    },
    {
      "cell_type": "markdown",
      "metadata": {
        "id": "-LxaemSW4uYw"
      },
      "source": [
        "* 위의 결과와 df.mean() 결과가 같음"
      ]
    },
    {
      "cell_type": "markdown",
      "metadata": {
        "id": "sQcJRFf-QcgP"
      },
      "source": [
        "### 중앙값 (중위수, median)"
      ]
    },
    {
      "cell_type": "markdown",
      "metadata": {
        "id": "ocQJhI8kDcpb"
      },
      "source": [
        "![데이터 종류 비교](https://drive.google.com/uc?export=view&id=1aEjS8IJA-9f8gpXPT5c-QTcP0jJOAdzh) \n",
        "\n",
        "* 중앙값은 데이터의 값들을 작은 값부터 큰 값까지 순서대로 나열했을 때 중앙에 위치한 값을 의미함\n",
        "\n",
        "* 데이터의 수가 홀수인 경우에는 바로 중앙값을 구할 수 있음. 하지만 데이터의 수가 짝수인 경우에는 중앙에 두 개의 값이 위치하게 되는데 이 때는 가운데 두 값의 평균을 중앙값으로 사용함\n",
        "\n",
        "* 예컨대 1 2 3 4 5 에서는 중앙값이 3가 되고, 1 2 3 4 5 6 에서는 중앙값이 3.5가 됨"
      ]
    },
    {
      "cell_type": "markdown",
      "metadata": {
        "id": "S_HDcfSlDeMX"
      },
      "source": [
        "![데이터 종류 비교](https://drive.google.com/uc?export=view&id=1KWx-qeLLsLy0oJYcqdT_mu8gOHRRU-J4) \n",
        "\n",
        "* 중앙값은 이상치에 영향을 덜 받는다는 것이 장점있음. 하지만 그만큼 데이터의 정보를 다 활용하지 못 한다는 것이 단점이 있음\n",
        "\n",
        "* 실제로 중앙값이 평균에 비해 이상치에 영향을 덜 받는지 확인해 보겠음"
      ]
    },
    {
      "cell_type": "code",
      "metadata": {
        "id": "7-1hmZlKEBMv"
      },
      "source": [
        "import numpy as np\n",
        "\n",
        "data = np.array([1, 3, 4, 5, 9, 11])\n",
        "data_with_outlier = np.array([1, 3, 4, 5, 9, 11, 100])"
      ],
      "execution_count": null,
      "outputs": []
    },
    {
      "cell_type": "code",
      "metadata": {
        "colab": {
          "base_uri": "https://localhost:8080/"
        },
        "id": "SRhPD1z7EGiz",
        "outputId": "b7c29b8d-cf37-4f76-c575-1bf56da84258"
      },
      "source": [
        "data.mean()"
      ],
      "execution_count": null,
      "outputs": [
        {
          "output_type": "execute_result",
          "data": {
            "text/plain": [
              "5.5"
            ]
          },
          "metadata": {
            "tags": []
          },
          "execution_count": 41
        }
      ]
    },
    {
      "cell_type": "code",
      "metadata": {
        "colab": {
          "base_uri": "https://localhost:8080/"
        },
        "id": "45WtCNR0EGxX",
        "outputId": "8c72e19c-e30a-41f4-ba11-530e6786f87a"
      },
      "source": [
        "data_with_outlier.mean()"
      ],
      "execution_count": null,
      "outputs": [
        {
          "output_type": "execute_result",
          "data": {
            "text/plain": [
              "19.0"
            ]
          },
          "metadata": {
            "tags": []
          },
          "execution_count": 42
        }
      ]
    },
    {
      "cell_type": "code",
      "metadata": {
        "colab": {
          "base_uri": "https://localhost:8080/"
        },
        "id": "3f_pnwSVELKX",
        "outputId": "66752165-a9f0-4cc2-a8ab-f64f2fd60db7"
      },
      "source": [
        "np.median(data)"
      ],
      "execution_count": null,
      "outputs": [
        {
          "output_type": "execute_result",
          "data": {
            "text/plain": [
              "4.5"
            ]
          },
          "metadata": {
            "tags": []
          },
          "execution_count": 43
        }
      ]
    },
    {
      "cell_type": "code",
      "metadata": {
        "colab": {
          "base_uri": "https://localhost:8080/"
        },
        "id": "-H_WKdqUELS9",
        "outputId": "c384c486-32c2-4584-d50a-c94c0303a89d"
      },
      "source": [
        "np.median(data_with_outlier)"
      ],
      "execution_count": null,
      "outputs": [
        {
          "output_type": "execute_result",
          "data": {
            "text/plain": [
              "5.0"
            ]
          },
          "metadata": {
            "tags": []
          },
          "execution_count": 44
        }
      ]
    },
    {
      "cell_type": "markdown",
      "metadata": {
        "id": "zTQ8oqTZEAja"
      },
      "source": [
        "* DataFrame.median() 메소드를 사용하면 개별 컬럼데이터의 중앙값을 계산할 수 있음\n",
        "\n",
        "* 아래코드는 분포 데이터에 포함된 각 컴럼(e.g., 균등분포, 정규분포 등) 데이터의 중앙값을 계산함"
      ]
    },
    {
      "cell_type": "code",
      "metadata": {
        "colab": {
          "base_uri": "https://localhost:8080/"
        },
        "id": "7_cBJLha5se-",
        "outputId": "b8617d91-edb9-40e1-e75a-4b94e7cdc6d2"
      },
      "source": [
        "df = getDistributionData()\n",
        "df.median()"
      ],
      "execution_count": null,
      "outputs": [
        {
          "output_type": "execute_result",
          "data": {
            "text/plain": [
              "uniform    20.023091\n",
              "normal     10.014216\n",
              "bern        1.000000\n",
              "binom       8.000000\n",
              "dtype: float64"
            ]
          },
          "metadata": {
            "tags": []
          },
          "execution_count": 123
        }
      ]
    },
    {
      "cell_type": "markdown",
      "metadata": {
        "id": "TltdJx0b5-Db"
      },
      "source": [
        "* 위에 계산된 중앙값이 실제로 정확한지 Serial.sort_values를 사용하여 중앙값을 계산해보겠음\n",
        "\n",
        "* Serial.sort_values은 각 개별 시리얼(또는 컬럼) 데이터의 오름차순으로 정렬함\n",
        "\n",
        "* 참고로 DataFrame.sort_values() 사용하면 특정 컬럼 (또는 인덱스)에 따라 다른 컬럼도 함께 오름차순으로 정령함"
      ]
    },
    {
      "cell_type": "code",
      "metadata": {
        "colab": {
          "base_uri": "https://localhost:8080/",
          "height": 419
        },
        "id": "NlbMnJuK9yP3",
        "outputId": "eb1da0ad-4dcb-4a6e-9b67-09e4e5ea6bed"
      },
      "source": [
        "df.sort_values(by='uniform') # by에 넣은 컬럼의 데이터에 따라 오름차순으로 정렬됨"
      ],
      "execution_count": null,
      "outputs": [
        {
          "output_type": "execute_result",
          "data": {
            "text/html": [
              "<div>\n",
              "<style scoped>\n",
              "    .dataframe tbody tr th:only-of-type {\n",
              "        vertical-align: middle;\n",
              "    }\n",
              "\n",
              "    .dataframe tbody tr th {\n",
              "        vertical-align: top;\n",
              "    }\n",
              "\n",
              "    .dataframe thead th {\n",
              "        text-align: right;\n",
              "    }\n",
              "</style>\n",
              "<table border=\"1\" class=\"dataframe\">\n",
              "  <thead>\n",
              "    <tr style=\"text-align: right;\">\n",
              "      <th></th>\n",
              "      <th>uniform</th>\n",
              "      <th>normal</th>\n",
              "      <th>bern</th>\n",
              "      <th>binom</th>\n",
              "    </tr>\n",
              "  </thead>\n",
              "  <tbody>\n",
              "    <tr>\n",
              "      <th>7528</th>\n",
              "      <td>10.001540</td>\n",
              "      <td>11.345017</td>\n",
              "      <td>1</td>\n",
              "      <td>10</td>\n",
              "    </tr>\n",
              "    <tr>\n",
              "      <th>9226</th>\n",
              "      <td>10.001613</td>\n",
              "      <td>10.115911</td>\n",
              "      <td>0</td>\n",
              "      <td>7</td>\n",
              "    </tr>\n",
              "    <tr>\n",
              "      <th>9363</th>\n",
              "      <td>10.002977</td>\n",
              "      <td>10.578920</td>\n",
              "      <td>0</td>\n",
              "      <td>10</td>\n",
              "    </tr>\n",
              "    <tr>\n",
              "      <th>649</th>\n",
              "      <td>10.011425</td>\n",
              "      <td>10.305297</td>\n",
              "      <td>0</td>\n",
              "      <td>8</td>\n",
              "    </tr>\n",
              "    <tr>\n",
              "      <th>4275</th>\n",
              "      <td>10.015069</td>\n",
              "      <td>9.261680</td>\n",
              "      <td>1</td>\n",
              "      <td>9</td>\n",
              "    </tr>\n",
              "    <tr>\n",
              "      <th>...</th>\n",
              "      <td>...</td>\n",
              "      <td>...</td>\n",
              "      <td>...</td>\n",
              "      <td>...</td>\n",
              "    </tr>\n",
              "    <tr>\n",
              "      <th>689</th>\n",
              "      <td>29.992137</td>\n",
              "      <td>10.287808</td>\n",
              "      <td>0</td>\n",
              "      <td>7</td>\n",
              "    </tr>\n",
              "    <tr>\n",
              "      <th>886</th>\n",
              "      <td>29.992292</td>\n",
              "      <td>9.329957</td>\n",
              "      <td>0</td>\n",
              "      <td>9</td>\n",
              "    </tr>\n",
              "    <tr>\n",
              "      <th>55</th>\n",
              "      <td>29.992334</td>\n",
              "      <td>9.428993</td>\n",
              "      <td>0</td>\n",
              "      <td>10</td>\n",
              "    </tr>\n",
              "    <tr>\n",
              "      <th>2739</th>\n",
              "      <td>29.994466</td>\n",
              "      <td>9.771292</td>\n",
              "      <td>0</td>\n",
              "      <td>7</td>\n",
              "    </tr>\n",
              "    <tr>\n",
              "      <th>7154</th>\n",
              "      <td>29.995868</td>\n",
              "      <td>8.967515</td>\n",
              "      <td>1</td>\n",
              "      <td>8</td>\n",
              "    </tr>\n",
              "  </tbody>\n",
              "</table>\n",
              "<p>10000 rows × 4 columns</p>\n",
              "</div>"
            ],
            "text/plain": [
              "        uniform     normal  bern  binom\n",
              "7528  10.001540  11.345017     1     10\n",
              "9226  10.001613  10.115911     0      7\n",
              "9363  10.002977  10.578920     0     10\n",
              "649   10.011425  10.305297     0      8\n",
              "4275  10.015069   9.261680     1      9\n",
              "...         ...        ...   ...    ...\n",
              "689   29.992137  10.287808     0      7\n",
              "886   29.992292   9.329957     0      9\n",
              "55    29.992334   9.428993     0     10\n",
              "2739  29.994466   9.771292     0      7\n",
              "7154  29.995868   8.967515     1      8\n",
              "\n",
              "[10000 rows x 4 columns]"
            ]
          },
          "metadata": {
            "tags": []
          },
          "execution_count": 74
        }
      ]
    },
    {
      "cell_type": "markdown",
      "metadata": {
        "id": "bMpXLph3-Ait"
      },
      "source": [
        "* 우리는 모든 컬럼을 개별적으로 정렬해야함. 따라서 Serial.sort_values을 사용함 "
      ]
    },
    {
      "cell_type": "code",
      "metadata": {
        "colab": {
          "base_uri": "https://localhost:8080/"
        },
        "id": "CkBfEvtt5-2k",
        "outputId": "79cd3395-788a-42bc-92da-c1f51581a932"
      },
      "source": [
        "df.uniform.sort_values()"
      ],
      "execution_count": null,
      "outputs": [
        {
          "output_type": "execute_result",
          "data": {
            "text/plain": [
              "6660    10.001046\n",
              "9641    10.005085\n",
              "2856    10.005891\n",
              "2004    10.006886\n",
              "7018    10.007843\n",
              "          ...    \n",
              "7988    29.989160\n",
              "2132    29.991483\n",
              "1716    29.992188\n",
              "6672    29.995859\n",
              "5915    29.999212\n",
              "Name: uniform, Length: 10000, dtype: float64"
            ]
          },
          "metadata": {
            "tags": []
          },
          "execution_count": 124
        }
      ]
    },
    {
      "cell_type": "markdown",
      "metadata": {
        "id": "5jdcXXy--QKw"
      },
      "source": [
        "* 데이터의 수가 10000개로 짝수임. 따라서 가장 가운데 있는 두 데이터값(4999번째와 5000번째)의 평균을 구해야함\n"
      ]
    },
    {
      "cell_type": "code",
      "metadata": {
        "colab": {
          "base_uri": "https://localhost:8080/"
        },
        "id": "29kRPzVH_Qtg",
        "outputId": "b0f0a484-a139-479a-9d36-faf4397ed15a"
      },
      "source": [
        "len(df)"
      ],
      "execution_count": null,
      "outputs": [
        {
          "output_type": "execute_result",
          "data": {
            "text/plain": [
              "10000"
            ]
          },
          "metadata": {
            "tags": []
          },
          "execution_count": 125
        }
      ]
    },
    {
      "cell_type": "markdown",
      "metadata": {
        "id": "kJPufH-b_PpH"
      },
      "source": [
        "* 정렬 후 index를 재설정하면 중앙에 위치한 두 데이터값를 index값으로 얻을 수 있음\n",
        "\n",
        "* Serial.sort_values에 ignore_index=True를 넣어주면 0부터 n까지 index가 재생성됨 (e.g., Serial.sort_values(ignore_index=True)"
      ]
    },
    {
      "cell_type": "code",
      "metadata": {
        "colab": {
          "base_uri": "https://localhost:8080/"
        },
        "id": "O8RRFJf6_t_B",
        "outputId": "43db2303-faa1-40cf-ed18-d87e64c0bbca"
      },
      "source": [
        "df.uniform.sort_values(ignore_index=True)"
      ],
      "execution_count": null,
      "outputs": [
        {
          "output_type": "execute_result",
          "data": {
            "text/plain": [
              "0       10.001046\n",
              "1       10.005085\n",
              "2       10.005891\n",
              "3       10.006886\n",
              "4       10.007843\n",
              "          ...    \n",
              "9995    29.989160\n",
              "9996    29.991483\n",
              "9997    29.992188\n",
              "9998    29.995859\n",
              "9999    29.999212\n",
              "Name: uniform, Length: 10000, dtype: float64"
            ]
          },
          "metadata": {
            "tags": []
          },
          "execution_count": 126
        }
      ]
    },
    {
      "cell_type": "markdown",
      "metadata": {
        "id": "sv0-9V8hFXVd"
      },
      "source": [
        "* 그럼 sort_values(ignore_index=True)를 사용해서 각 컬럼 데이터의 median을 계산하겠음"
      ]
    },
    {
      "cell_type": "code",
      "metadata": {
        "colab": {
          "base_uri": "https://localhost:8080/"
        },
        "id": "86KvwTTK7Ctk",
        "outputId": "13aa3a26-4b1c-4d4c-e1f0-f8c33c504b13"
      },
      "source": [
        "df = getDistributionData()\n",
        "\n",
        "for column_name in df.columns:\n",
        "  df[column_name] = df[column_name].sort_values(ignore_index=True)\n",
        "\n",
        "(df.loc[4999] + df.loc[5000])/2"
      ],
      "execution_count": null,
      "outputs": [
        {
          "output_type": "execute_result",
          "data": {
            "text/plain": [
              "uniform    20.023091\n",
              "normal     10.014216\n",
              "bern        1.000000\n",
              "binom       8.000000\n",
              "dtype: float64"
            ]
          },
          "metadata": {
            "tags": []
          },
          "execution_count": 127
        }
      ]
    },
    {
      "cell_type": "markdown",
      "metadata": {
        "id": "0ceijGQ0H5cW"
      },
      "source": [
        "* 위의 결과와 df.median() 결과가 같음"
      ]
    },
    {
      "cell_type": "markdown",
      "metadata": {
        "id": "nrclDcCxQiN4"
      },
      "source": [
        "### 최빈값 (mode)\n",
        "\n",
        "* 최빈값은 가장 빈도가 높은 값을 의미함\n",
        "\n",
        "* 빈도를 확인하는 것이 중요할 때(e.g., 범주형 데이터)는 최빈값을 이용할 수 있음. 하지만 다른 대표값들에 비해 많이 사용되지는 않음\n",
        "\n",
        "* DataFrame.mode() 메소드를 사용하면 개별 컬럼데이터의 최빈값을 계산할 수 있음\n",
        "\n",
        "* 평균, 중앙값에 비해 최빈값은 여러개일 수 있음. 예컨대 데이터의 모든 값이 한번씩만 있다면 모든 데이터값이 최빈값이 됨\n",
        "\n",
        "* 아래코드는 분포 데이터에 포함된 각 컴럼(e.g., 균등분포, 정규분포 등) 데이터의 최빈값을 계산함\n",
        "\n",
        "* uniform과\tnormal 컬럼은 해당 컬럼에 속해 있는 모든 데이터값이 한번씩만 있어 모든 데이터값이 최빈값임\n"
      ]
    },
    {
      "cell_type": "code",
      "metadata": {
        "colab": {
          "base_uri": "https://localhost:8080/",
          "height": 417
        },
        "id": "TduguVO4gIzu",
        "outputId": "01f81fc7-6deb-4687-e29f-b4610450619b"
      },
      "source": [
        "df = getDistributionData()\n",
        "df.mode()"
      ],
      "execution_count": null,
      "outputs": [
        {
          "output_type": "execute_result",
          "data": {
            "text/html": [
              "<div>\n",
              "<style scoped>\n",
              "    .dataframe tbody tr th:only-of-type {\n",
              "        vertical-align: middle;\n",
              "    }\n",
              "\n",
              "    .dataframe tbody tr th {\n",
              "        vertical-align: top;\n",
              "    }\n",
              "\n",
              "    .dataframe thead th {\n",
              "        text-align: right;\n",
              "    }\n",
              "</style>\n",
              "<table border=\"1\" class=\"dataframe\">\n",
              "  <thead>\n",
              "    <tr style=\"text-align: right;\">\n",
              "      <th></th>\n",
              "      <th>uniform</th>\n",
              "      <th>normal</th>\n",
              "      <th>bern</th>\n",
              "      <th>binom</th>\n",
              "    </tr>\n",
              "  </thead>\n",
              "  <tbody>\n",
              "    <tr>\n",
              "      <th>0</th>\n",
              "      <td>10.001046</td>\n",
              "      <td>6.145426</td>\n",
              "      <td>1.0</td>\n",
              "      <td>8.0</td>\n",
              "    </tr>\n",
              "    <tr>\n",
              "      <th>1</th>\n",
              "      <td>10.005085</td>\n",
              "      <td>6.513417</td>\n",
              "      <td>NaN</td>\n",
              "      <td>NaN</td>\n",
              "    </tr>\n",
              "    <tr>\n",
              "      <th>2</th>\n",
              "      <td>10.005891</td>\n",
              "      <td>6.746253</td>\n",
              "      <td>NaN</td>\n",
              "      <td>NaN</td>\n",
              "    </tr>\n",
              "    <tr>\n",
              "      <th>3</th>\n",
              "      <td>10.006886</td>\n",
              "      <td>6.808324</td>\n",
              "      <td>NaN</td>\n",
              "      <td>NaN</td>\n",
              "    </tr>\n",
              "    <tr>\n",
              "      <th>4</th>\n",
              "      <td>10.007843</td>\n",
              "      <td>6.821657</td>\n",
              "      <td>NaN</td>\n",
              "      <td>NaN</td>\n",
              "    </tr>\n",
              "    <tr>\n",
              "      <th>...</th>\n",
              "      <td>...</td>\n",
              "      <td>...</td>\n",
              "      <td>...</td>\n",
              "      <td>...</td>\n",
              "    </tr>\n",
              "    <tr>\n",
              "      <th>9995</th>\n",
              "      <td>29.989160</td>\n",
              "      <td>13.323219</td>\n",
              "      <td>NaN</td>\n",
              "      <td>NaN</td>\n",
              "    </tr>\n",
              "    <tr>\n",
              "      <th>9996</th>\n",
              "      <td>29.991483</td>\n",
              "      <td>13.345670</td>\n",
              "      <td>NaN</td>\n",
              "      <td>NaN</td>\n",
              "    </tr>\n",
              "    <tr>\n",
              "      <th>9997</th>\n",
              "      <td>29.992188</td>\n",
              "      <td>13.356941</td>\n",
              "      <td>NaN</td>\n",
              "      <td>NaN</td>\n",
              "    </tr>\n",
              "    <tr>\n",
              "      <th>9998</th>\n",
              "      <td>29.995859</td>\n",
              "      <td>13.409536</td>\n",
              "      <td>NaN</td>\n",
              "      <td>NaN</td>\n",
              "    </tr>\n",
              "    <tr>\n",
              "      <th>9999</th>\n",
              "      <td>29.999212</td>\n",
              "      <td>13.637157</td>\n",
              "      <td>NaN</td>\n",
              "      <td>NaN</td>\n",
              "    </tr>\n",
              "  </tbody>\n",
              "</table>\n",
              "<p>10000 rows × 4 columns</p>\n",
              "</div>"
            ],
            "text/plain": [
              "        uniform     normal  bern  binom\n",
              "0     10.001046   6.145426   1.0    8.0\n",
              "1     10.005085   6.513417   NaN    NaN\n",
              "2     10.005891   6.746253   NaN    NaN\n",
              "3     10.006886   6.808324   NaN    NaN\n",
              "4     10.007843   6.821657   NaN    NaN\n",
              "...         ...        ...   ...    ...\n",
              "9995  29.989160  13.323219   NaN    NaN\n",
              "9996  29.991483  13.345670   NaN    NaN\n",
              "9997  29.992188  13.356941   NaN    NaN\n",
              "9998  29.995859  13.409536   NaN    NaN\n",
              "9999  29.999212  13.637157   NaN    NaN\n",
              "\n",
              "[10000 rows x 4 columns]"
            ]
          },
          "metadata": {
            "tags": []
          },
          "execution_count": 128
        }
      ]
    },
    {
      "cell_type": "markdown",
      "metadata": {
        "id": "Ffb1700wJb6G"
      },
      "source": [
        "* 위에 계산된 중앙값이 실제로 정확한지 Serial.value_counts() 사용하여 중앙값을 계산해보겠음\n",
        "\n",
        "* Serial.value_counts은 해당 시리얼 (또는 컬럼) 데이터에 있는 각 데이터값이 몇개씩 있는지 총 수를 세어줌"
      ]
    },
    {
      "cell_type": "code",
      "metadata": {
        "id": "k9F4hhSkgKAv",
        "colab": {
          "base_uri": "https://localhost:8080/"
        },
        "outputId": "79fcb534-185f-4586-9692-5243191dcf1c"
      },
      "source": [
        "df.bern.value_counts()"
      ],
      "execution_count": null,
      "outputs": [
        {
          "output_type": "execute_result",
          "data": {
            "text/plain": [
              "8     3009\n",
              "9     2713\n",
              "7     1944\n",
              "10    1079\n",
              "6      912\n",
              "5      274\n",
              "4       58\n",
              "3       10\n",
              "1        1\n",
              "Name: binom, dtype: int64"
            ]
          },
          "metadata": {
            "tags": []
          },
          "execution_count": 130
        }
      ]
    },
    {
      "cell_type": "markdown",
      "metadata": {
        "id": "1LU39ssTQWLe"
      },
      "source": [
        "## 산포도 (dispersion)\n",
        "\n",
        "* 산포도(dispersion)는 데이터의 값들이 얼마나 퍼져있는지를 나타내는 값임 \n",
        "\n",
        "* 분산(variance), 표준편차(standard deviation), 범위(range), 사분위수 범위(interquartile range) 등이 주로 이용됨\n",
        "\n",
        "* 각 산포도에 대하여 설명하면서 분포 데이터를 활용하여 해당 산포도를 계산하여 보겠음"
      ]
    },
    {
      "cell_type": "markdown",
      "metadata": {
        "id": "gHAmmWXvR-3K"
      },
      "source": [
        "### 분산 (variance)\n",
        "\n",
        "* 분산은 관찰값들이 평균으로부터 얼마나 퍼져있는지를 나타내는 값임\n",
        "\n",
        "* 따라서 분산이 클수록 자료의 값들의 변동이 크다고 할 수 있음\n",
        "\n",
        "* 분산을 구하는 수식은 다음과 같음: $s^2 = \\frac{\\sum_{i=1}^{n}{(X_i - \\bar{X})}^2}{n-1}$"
      ]
    },
    {
      "cell_type": "code",
      "metadata": {
        "colab": {
          "base_uri": "https://localhost:8080/"
        },
        "id": "UOKoIwbJMwXA",
        "outputId": "583a2cd9-accd-42ff-f5a8-6609baac1ce6"
      },
      "source": [
        "df = getDistributionData()\n",
        "df.var()"
      ],
      "execution_count": null,
      "outputs": [
        {
          "output_type": "execute_result",
          "data": {
            "text/plain": [
              "uniform    32.923012\n",
              "normal      0.992188\n",
              "bern        0.240203\n",
              "binom       1.631563\n",
              "dtype: float64"
            ]
          },
          "metadata": {
            "tags": []
          },
          "execution_count": 131
        }
      ]
    },
    {
      "cell_type": "code",
      "metadata": {
        "colab": {
          "base_uri": "https://localhost:8080/"
        },
        "id": "2te92KGwM6Xj",
        "outputId": "60c2e88c-3bdd-4baa-a961-ebc52392c19c"
      },
      "source": [
        "((df - df.mean())**2).sum()/(len(df)-1)"
      ],
      "execution_count": null,
      "outputs": [
        {
          "output_type": "execute_result",
          "data": {
            "text/plain": [
              "uniform    32.923012\n",
              "normal      0.992188\n",
              "bern        0.240203\n",
              "binom       1.631563\n",
              "dtype: float64"
            ]
          },
          "metadata": {
            "tags": []
          },
          "execution_count": 132
        }
      ]
    },
    {
      "cell_type": "markdown",
      "metadata": {
        "id": "UmVrIOjiQX2I"
      },
      "source": [
        "### 표준편차 (standard deviation)\n",
        "\n",
        "![데이터 종류 비교](https://drive.google.com/uc?export=view&id=1F8RLrFst_E1vBIQncTGB_Qp8DIg9f_7S) \n",
        "\n",
        "* 표준편차는 관찰값들이 평균으로부터 얼마나 퍼져있는지를 나타내는 값임\n",
        "\n",
        "* 분산의 제곱근으로, 다시 말해 분산에 루트(√)를 씌운 값임\n",
        "\n",
        "* 분산의 단위가 원자료의 단위에 제곱이므로 분산의 제곱근인 표준편차의 단위는 원자료의 단위와 같아임\n",
        "\n",
        "* 이러한 이유로 일반적으로 분산보다 표준편차를 더 많이 사용됨"
      ]
    },
    {
      "cell_type": "code",
      "metadata": {
        "colab": {
          "base_uri": "https://localhost:8080/"
        },
        "id": "Jfgv9VhXNaQv",
        "outputId": "88e70887-22a4-493c-d5fb-05f33a84d55e"
      },
      "source": [
        "df = getDistributionData()\n",
        "df.std()"
      ],
      "execution_count": null,
      "outputs": [
        {
          "output_type": "execute_result",
          "data": {
            "text/plain": [
              "uniform    5.761318\n",
              "normal     1.000444\n",
              "bern       0.489426\n",
              "binom      1.257882\n",
              "dtype: float64"
            ]
          },
          "metadata": {
            "tags": []
          },
          "execution_count": 99
        }
      ]
    },
    {
      "cell_type": "code",
      "metadata": {
        "colab": {
          "base_uri": "https://localhost:8080/"
        },
        "id": "q0-mA2UaNcm6",
        "outputId": "f1e6df61-38b6-4735-c4d0-5c8c8be79420"
      },
      "source": [
        "import math\n",
        "import numpy as np\n",
        "\n",
        "np.sqrt(((df - df.mean())**2).sum()/(len(df)-1))"
      ],
      "execution_count": null,
      "outputs": [
        {
          "output_type": "execute_result",
          "data": {
            "text/plain": [
              "uniform    5.761318\n",
              "normal     1.000444\n",
              "bern       0.489426\n",
              "binom      1.257882\n",
              "dtype: float64"
            ]
          },
          "metadata": {
            "tags": []
          },
          "execution_count": 104
        }
      ]
    },
    {
      "cell_type": "markdown",
      "metadata": {
        "id": "IgSIW-D5E1nL"
      },
      "source": [
        "### 최대값 (maximum)\n",
        "\n",
        "![데이터 종류 비교](https://drive.google.com/uc?export=view&id=1aEjS8IJA-9f8gpXPT5c-QTcP0jJOAdzh) \n",
        "\n",
        "* 데이터에서 가장 큰 값을 의미함\n"
      ]
    },
    {
      "cell_type": "code",
      "metadata": {
        "colab": {
          "base_uri": "https://localhost:8080/"
        },
        "id": "V1uhIwwPN8lA",
        "outputId": "9fdf83b1-5d81-46a0-e32a-9498fec0b189"
      },
      "source": [
        "df = getDistributionData()\n",
        "df.max()"
      ],
      "execution_count": null,
      "outputs": [
        {
          "output_type": "execute_result",
          "data": {
            "text/plain": [
              "uniform    29.995868\n",
              "normal     13.559596\n",
              "bern        1.000000\n",
              "binom      10.000000\n",
              "dtype: float64"
            ]
          },
          "metadata": {
            "tags": []
          },
          "execution_count": 105
        }
      ]
    },
    {
      "cell_type": "code",
      "metadata": {
        "colab": {
          "base_uri": "https://localhost:8080/"
        },
        "id": "xs1guSjXOB8W",
        "outputId": "f8fe117f-b3d0-46d3-a24e-17849da793cb"
      },
      "source": [
        "for column_name in df.columns:\n",
        "  df[column_name] = df[column_name].sort_values(ignore_index=True, ascending=False) #ascending=False 내림차순\n",
        "\n",
        "df.loc[0]"
      ],
      "execution_count": null,
      "outputs": [
        {
          "output_type": "execute_result",
          "data": {
            "text/plain": [
              "uniform    29.995868\n",
              "normal     13.559596\n",
              "bern        1.000000\n",
              "binom      10.000000\n",
              "Name: 0, dtype: float64"
            ]
          },
          "metadata": {
            "tags": []
          },
          "execution_count": 110
        }
      ]
    },
    {
      "cell_type": "markdown",
      "metadata": {
        "id": "F2kPqT0jE4w0"
      },
      "source": [
        "### 최소값 (minium)\n",
        "* 데이터에서 가장 작은 값를 의미함"
      ]
    },
    {
      "cell_type": "code",
      "metadata": {
        "colab": {
          "base_uri": "https://localhost:8080/"
        },
        "id": "bEBr5mSpOADR",
        "outputId": "b9df6cbd-0b0d-40d7-9ed6-03cb757725d8"
      },
      "source": [
        "df = getDistributionData()\n",
        "df.min()"
      ],
      "execution_count": null,
      "outputs": [
        {
          "output_type": "execute_result",
          "data": {
            "text/plain": [
              "uniform    10.001540\n",
              "normal      6.180007\n",
              "bern        0.000000\n",
              "binom       3.000000\n",
              "dtype: float64"
            ]
          },
          "metadata": {
            "tags": []
          },
          "execution_count": 106
        }
      ]
    },
    {
      "cell_type": "code",
      "metadata": {
        "colab": {
          "base_uri": "https://localhost:8080/"
        },
        "id": "13aEN6GoOL6p",
        "outputId": "6f52d7bb-4889-4131-de7d-14624f0057c1"
      },
      "source": [
        "for column_name in df.columns:\n",
        "  df[column_name] = df[column_name].sort_values(ignore_index=True)\n",
        "\n",
        "df.loc[0]"
      ],
      "execution_count": null,
      "outputs": [
        {
          "output_type": "execute_result",
          "data": {
            "text/plain": [
              "uniform    10.001540\n",
              "normal      6.180007\n",
              "bern        0.000000\n",
              "binom       3.000000\n",
              "Name: 0, dtype: float64"
            ]
          },
          "metadata": {
            "tags": []
          },
          "execution_count": 109
        }
      ]
    },
    {
      "cell_type": "markdown",
      "metadata": {
        "id": "ugWDUPS2SPsX"
      },
      "source": [
        "### 범위 (range)\n",
        "* 데이터의 최대값과 최소값의 차이 값을 의미함"
      ]
    },
    {
      "cell_type": "code",
      "metadata": {
        "colab": {
          "base_uri": "https://localhost:8080/"
        },
        "id": "xVFixYuLOlH7",
        "outputId": "b7a973f2-cc26-4b82-c39c-cd7c06fba127"
      },
      "source": [
        "df = getDistributionData()\n",
        "df.max() - df.min()"
      ],
      "execution_count": null,
      "outputs": [
        {
          "output_type": "execute_result",
          "data": {
            "text/plain": [
              "uniform    19.994328\n",
              "normal      7.379589\n",
              "bern        1.000000\n",
              "binom       7.000000\n",
              "dtype: float64"
            ]
          },
          "metadata": {
            "tags": []
          },
          "execution_count": 112
        }
      ]
    },
    {
      "cell_type": "code",
      "metadata": {
        "colab": {
          "base_uri": "https://localhost:8080/"
        },
        "id": "orRZe9xnOvG_",
        "outputId": "c60f2cba-e60f-4013-92ac-fe205ea4a4c2"
      },
      "source": [
        "for column_name in df.columns:\n",
        "  df[column_name] = df[column_name].sort_values(ignore_index=True)\n",
        "\n",
        "df.loc[9999] - df.loc[0]"
      ],
      "execution_count": null,
      "outputs": [
        {
          "output_type": "execute_result",
          "data": {
            "text/plain": [
              "uniform    19.994328\n",
              "normal      7.379589\n",
              "bern        1.000000\n",
              "binom       7.000000\n",
              "dtype: float64"
            ]
          },
          "metadata": {
            "tags": []
          },
          "execution_count": 113
        }
      ]
    },
    {
      "cell_type": "markdown",
      "metadata": {
        "id": "TX2UfLWySTwW"
      },
      "source": [
        "### 사분위수 범위 (interquartile range)\n",
        "\n",
        "![데이터 종류 비교](https://drive.google.com/uc?export=view&id=1aEjS8IJA-9f8gpXPT5c-QTcP0jJOAdzh) \n",
        "\n",
        "\n",
        "* 데이터를 작은 값부터 큰 값까지 순서대로 나열한 후 4등분 하였을 때 각 점에 해당하는 값을 의미함\n",
        "\n",
        "* 전체 데이터를 100%로 보았을 때, 25% 지점에 해당하는 값은 제1사분위수(q1, the first quartile)가 됨\n",
        "\n",
        "* 50% 지점에 해당하는 값은 제2사분위수(q2, the second quartile)가 되며 데이터의 중앙값과 동일함\n",
        "\n",
        "* 75% 지점에 해당하는 값은 제3사분위수(q3, the third quartile)가 됨\n",
        "\n",
        "* 사분위수 범위는 자료의 상위 25%와 하위 25% 값을 포함하지 않기 때문에 이상치에 덜 민감함\n",
        "\n",
        "* 단순한 범위(range)보다 사분위수 범위 또는 (q1,q3)를 나타내는 것이 일반적임"
      ]
    },
    {
      "cell_type": "code",
      "metadata": {
        "colab": {
          "base_uri": "https://localhost:8080/"
        },
        "id": "4o_2G053O0VO",
        "outputId": "e53988b7-8415-46fe-8025-530d870721e3"
      },
      "source": [
        "df = getDistributionData()\n",
        "df.quantile(0.50, interpolation='midpoint')"
      ],
      "execution_count": null,
      "outputs": [
        {
          "output_type": "execute_result",
          "data": {
            "text/plain": [
              "uniform    20.023091\n",
              "normal     10.014216\n",
              "bern        1.000000\n",
              "binom       8.000000\n",
              "Name: 0.5, dtype: float64"
            ]
          },
          "metadata": {
            "tags": []
          },
          "execution_count": 133
        }
      ]
    },
    {
      "cell_type": "code",
      "metadata": {
        "colab": {
          "base_uri": "https://localhost:8080/"
        },
        "id": "QvFabRizPz1l",
        "outputId": "776e361f-16e4-4634-f5c6-a49d727beb36"
      },
      "source": [
        "df.median()"
      ],
      "execution_count": null,
      "outputs": [
        {
          "output_type": "execute_result",
          "data": {
            "text/plain": [
              "uniform    20.139966\n",
              "normal      9.976610\n",
              "bern        1.000000\n",
              "binom       8.000000\n",
              "dtype: float64"
            ]
          },
          "metadata": {
            "tags": []
          },
          "execution_count": 122
        }
      ]
    },
    {
      "cell_type": "code",
      "metadata": {
        "colab": {
          "base_uri": "https://localhost:8080/"
        },
        "id": "UYaJ5wjCSo-o",
        "outputId": "caee4275-cc83-4b0c-d95d-e4deeab7139d"
      },
      "source": [
        "df = getDistributionData()\n",
        "df.quantile(0.75, interpolation='midpoint')"
      ],
      "execution_count": null,
      "outputs": [
        {
          "output_type": "execute_result",
          "data": {
            "text/plain": [
              "uniform    24.924946\n",
              "normal     10.670361\n",
              "bern        1.000000\n",
              "binom       9.000000\n",
              "Name: 0.75, dtype: float64"
            ]
          },
          "metadata": {
            "tags": []
          },
          "execution_count": 134
        }
      ]
    },
    {
      "cell_type": "code",
      "metadata": {
        "colab": {
          "base_uri": "https://localhost:8080/"
        },
        "id": "F4r8g4UUTVf-",
        "outputId": "d5b9c43e-d9d1-461e-e4aa-33a6ab39d8b9"
      },
      "source": [
        "df = getDistributionData()\n",
        "for column_name in df.columns:\n",
        "  df[column_name] = df[column_name].sort_values(ignore_index=True)\n",
        "\n",
        "df[5000:10000].median()"
      ],
      "execution_count": null,
      "outputs": [
        {
          "output_type": "execute_result",
          "data": {
            "text/plain": [
              "uniform    24.924946\n",
              "normal     10.670361\n",
              "bern        1.000000\n",
              "binom       9.000000\n",
              "dtype: float64"
            ]
          },
          "metadata": {
            "tags": []
          },
          "execution_count": 135
        }
      ]
    },
    {
      "cell_type": "code",
      "metadata": {
        "colab": {
          "base_uri": "https://localhost:8080/"
        },
        "id": "E_HaZFsLPUys",
        "outputId": "12ba449d-23f3-4e0d-cd20-d8505417f8c7"
      },
      "source": [
        "(df.loc[7499] + df.loc[7500])/2"
      ],
      "execution_count": null,
      "outputs": [
        {
          "output_type": "execute_result",
          "data": {
            "text/plain": [
              "uniform    24.924946\n",
              "normal     10.670361\n",
              "bern        1.000000\n",
              "binom       9.000000\n",
              "dtype: float64"
            ]
          },
          "metadata": {
            "tags": []
          },
          "execution_count": 136
        }
      ]
    },
    {
      "cell_type": "markdown",
      "metadata": {
        "id": "op-7TMJTGxhd"
      },
      "source": [
        "## 분포 (Distribution)\n",
        "\n",
        "* 데이터의 형태와 대칭성을 설명하는 값임\n",
        "\n",
        "* 첨도, 왜도 등이 주로 이용됨\n",
        "\n",
        "![데이터 종류 비교](https://drive.google.com/uc?export=view&id=1349Hbaxz308qlCUZO5Bc866tO_xpXx5Y) "
      ]
    },
    {
      "cell_type": "markdown",
      "metadata": {
        "id": "7fCdMTShHFz-"
      },
      "source": [
        "### 첨도 (kurtosis)\n",
        "\n",
        "* 데이터 분포의 뾰족한 정보를 설명하는 값임"
      ]
    },
    {
      "cell_type": "code",
      "metadata": {
        "id": "3tQSkMn0M9UV",
        "colab": {
          "base_uri": "https://localhost:8080/"
        },
        "outputId": "eb3a4093-7a96-4050-98bf-8abb68b2bd8c"
      },
      "source": [
        "df = getDistributionData()\n",
        "df.kurtosis()"
      ],
      "execution_count": null,
      "outputs": [
        {
          "output_type": "execute_result",
          "data": {
            "text/plain": [
              "uniform   -1.211208\n",
              "normal     0.030295\n",
              "bern      -1.858895\n",
              "binom      0.062112\n",
              "dtype: float64"
            ]
          },
          "metadata": {
            "tags": []
          },
          "execution_count": 45
        }
      ]
    },
    {
      "cell_type": "markdown",
      "metadata": {
        "id": "lHhM_pgEHF8W"
      },
      "source": [
        "### 왜도 (skewness)\n",
        "\n",
        "![데이터 종류 비교](https://drive.google.com/uc?export=view&id=14AcUtOzd9r8lYJxIdF-sLUT5b55rzn0q) \n",
        "\n",
        "\n",
        "* 데이터 분포의 기울어진 정보 즉 비대칭서을 나타내는 값임\n"
      ]
    },
    {
      "cell_type": "code",
      "metadata": {
        "colab": {
          "base_uri": "https://localhost:8080/"
        },
        "id": "l8shHHk-UqXl",
        "outputId": "d4881a81-644f-4bb9-ea21-d5b9b0ab467d"
      },
      "source": [
        "df = getDistributionData()\n",
        "df.skew()"
      ],
      "execution_count": null,
      "outputs": [
        {
          "output_type": "execute_result",
          "data": {
            "text/plain": [
              "uniform   -0.011235\n",
              "normal    -0.019756\n",
              "bern      -0.404484\n",
              "binom     -0.506805\n",
              "dtype: float64"
            ]
          },
          "metadata": {
            "tags": []
          },
          "execution_count": 137
        }
      ]
    },
    {
      "cell_type": "markdown",
      "metadata": {
        "id": "O9i13q_O6flK"
      },
      "source": [
        "# 데이터의 종류\n",
        "\n",
        "![데이터 종류 비교](https://drive.google.com/uc?export=view&id=1BaqxrxUlJowIGBrh8f6gcLz4M0cxLsqn) \n",
        "\n",
        "\n",
        "\n",
        "* 데이터 종류는 크게 (1) 질적 데이터(범주형 데이터)와 (2) 양적 데이터(연속형 데이터)로 구분 가능함\n",
        "\n",
        "* 질적 데이터는 숫자로 표현할 수 없는 범주 데이터를 말하며, 양적 데이터는 숫자로 표현될 수 있는 데이터를 말함\n",
        "\n",
        "* (1) 질적 데이터와 (2) 양적 데이터는 세부적으로는 (1.a) 명목 데이터, (1.b)서열 데이터(순위 데이터), (2.a) 등간 데이터, (2.b) 등간 데이터, 비율 데이터로 구분 가능함\n",
        "\n",
        "* 아래표와 같이 세부적으로 구분할 때 (1) 순서, (2) 균등한 간격, (3) 절대값 존재유무에 따라 구분되어 짐\n",
        "\n",
        "\n",
        "데이터 종류| 범주| 순서(수위)| 균등한 간격(등간)| 절대 영점 존재\n",
        ":---:|:---:|:---:|:---:|:---:\n",
        "명목 데이터| 0| X| X| X\n",
        "서열 데이터| 0| 0| X| X\n",
        "등간 데이터| 0| 0| 0| X\n",
        "비율 데이터| 0| 0| 0| 0\n",
        "\n",
        "\n",
        "\n"
      ]
    },
    {
      "cell_type": "markdown",
      "metadata": {
        "id": "XnLpoObNcuve"
      },
      "source": [
        "## 질적 데이터 vs. 양적 데이터\n",
        "\n",
        "* 질적 데이터 vs. 양적 데이터를 구분하는 기준은 균등한 간격 및 절대영점 존대 유무임\n",
        "\n",
        "* 예컨대 시험 등수에서 1등과 3등의 성적 차이는 4등과 6등간의 성적 차이와 같지 않음\n",
        "\n",
        "* 즉 순서는 존재하지만 균등한 간격이 존재하지 않음. 따라서 시험 등수는 질적 데이터임\n",
        "\n",
        "* 시험 등수와는 다르게 양적 데이터에 포함되는 온도는 온도값 사이에 간경이 존재함. 1도와 2도 사이의 간격은 5도와 6도 사이의 간격과 같음"
      ]
    },
    {
      "cell_type": "markdown",
      "metadata": {
        "id": "6i-_a5GV7dxE"
      },
      "source": [
        "##  질적 데이터 (qualitative data)\n",
        "\n",
        "* 질적 데이터의 예로 성별(여성, 남성), 사회 계층 (상류층, 중산층, 하류층) 등이 있음\n",
        "\n",
        "* 이러한 예와 같이 숫자로 표현 할 수 없는 데이터를 지칭하며 범주 데이터(categorial data)라고도 불림\n",
        "\n",
        "* 세부적으로 명목 데이터(nominal data)과 서열 데이터(ordinal data)로 구분됨\n"
      ]
    },
    {
      "cell_type": "markdown",
      "metadata": {
        "id": "8gS1eSRwX268"
      },
      "source": [
        "\n",
        "### 명목 데이터(nominal data)\n",
        "\n",
        "![데이터 종류 비교](https://drive.google.com/uc?export=view&id=1D-Sswmj-9xFFINEprOROFg0b3-dxcfbP) \n",
        "\n",
        "\n",
        "* 가장 낮은 수준의 데이터로 단지 데이터의 특성만 구분하기 위해사여 숫자나 기호를 할당한 데이터임\n",
        "\n",
        "* 즉, 데이터값 사이에 순서가 존재하지 않음(예: 성별 - 여성 vs. 남성). 또한  대소의 비교도 불가능함\n",
        "\n",
        "* 타이타닉 데이터에서 명목 데이터로는 탑슥객 번호, 성별, 생존유무, 탑승 항구 등이 있음 "
      ]
    },
    {
      "cell_type": "markdown",
      "metadata": {
        "id": "J-ehnJyXX3z6"
      },
      "source": [
        "### 서열 데이터(ordinal data)\n",
        "\n",
        "![데이터 종류 비교](https://drive.google.com/uc?export=view&id=1wdZW5Agvi2aHvgab7Yq1mjMM8lGsLfyc) \n",
        "\n",
        "<2019 국내 부자 리스트>\n",
        "\n",
        "![데이터 종류 비교](https://drive.google.com/uc?export=view&id=1magh-OdwRoN5FNO9Wgc0IihAHG-dy5Uw) \n",
        "\n",
        "* 특성을 구분 가능하면서 데이터값들 사이의 상대적인 크기를 비교할 수 있는 데이터임\n",
        "\n",
        "* 즉, 데이터값들 사이에 순서가 존재함(예: 시험 등수 - 1등, 2등, 3등...). 따라서 데이터를 순차적으로 배열 가능함\n",
        "\n",
        "* 타이타닉 데이터에서 서열 데이터로는 티켓 클래스 (3등석 < 2등석 < 1등석)이 있음\n"
      ]
    },
    {
      "cell_type": "markdown",
      "metadata": {
        "id": "wKGE9eeeclu7"
      },
      "source": [
        "### 명목 데이터 vs. 서열 데이터\n",
        "\n",
        "* 명목 데이터와 서열 데이터를 구분하는 기준은 데이터값들 사이에 순서 존재 유무임\n",
        "\n",
        "* 예컨대 명목 데이터인 성별에서 여성과 남성은 구분 가능하지만 이들 사이에 순거가 없음\n",
        "\n",
        "* 반대로 서열 데이터인 사회 계증은 상류틍, 중산층, 하류증으로 구분 가능하면서 이들 사이에 순서가 있음"
      ]
    },
    {
      "cell_type": "markdown",
      "metadata": {
        "id": "ugFnRq6W7dgz"
      },
      "source": [
        "## 양적 데이터 (quantitative data)\n",
        "\n",
        "* 양적 데이터의 예로 가족 수입, 자녀 수, 키 등이 있음. 이러한 예와 같이 숫자로 표현 가능한 데이터를 의미함\n",
        "\n",
        "* 세부적으로 등간 데이터(interval data)과 비율 데이터(ratio data)로 구분됨\n",
        "\n",
        "\n"
      ]
    },
    {
      "cell_type": "markdown",
      "metadata": {
        "id": "mnIRriM5ioCd"
      },
      "source": [
        "### 등간 데이터(interval data)\n",
        "\n",
        "![데이터 종류 비교](https://drive.google.com/uc?export=view&id=1wLYrxODeNy6Zdwjf1RA81fN_ncdZU2TP) \n",
        "\n",
        "![데이터 종류 비교](https://drive.google.com/uc?export=view&id=197M5qwkRAaNa2c_MhDqaoZz2aeZR_E4q) \n",
        "\n",
        "* 명목 데이터와 서열 데이터의 특징을 모두 가지고 있으면서 데이터값들 사이에 균등한 간격이 있음\n",
        "\n",
        "* 타이타익 데이터에서 등간 데이터는 없음"
      ]
    },
    {
      "cell_type": "markdown",
      "metadata": {
        "id": "09t63nrkioOk"
      },
      "source": [
        "### 비율 데이터(ratio data)\n",
        "\n",
        "![데이터 종류 비교](https://drive.google.com/uc?export=view&id=1bzo0UHwCR_US_iwozja0afwnavQYJPSn) \n",
        "\n",
        "* 가장 높은 수준의 데이터로 이전에 설명한 모든 데이터 종류의 특성을 다 가시고 있음\n",
        "\n",
        "* 데이터값들 사이에 균등한 간격이 존재하면서 절대 영점이 존재함\n",
        "\n"
      ]
    },
    {
      "cell_type": "markdown",
      "metadata": {
        "id": "KLuDFuOmjBcP"
      },
      "source": [
        "### 등간 데이터 vs. 비율 데이터\n",
        "\n",
        "* 등간 데이터와 비율 데이터를 나누는 기준은 절대 영점 존재 여부임\n",
        "\n",
        "* 예컨대 등간 데이터에 포함되는 온도에서 0도는 온도가 없는 상태가 아님. 즉 절대 영점이 존재하지 않음\n",
        "\n",
        "* 길이, 무게, 부피, 환율, 물가 등을 포함하는 비율 데이터에는 절대 영점이 존재함. 예컨데 길이가 0이면 길이가 없다는 말임"
      ]
    },
    {
      "cell_type": "markdown",
      "metadata": {
        "id": "fOTJBFI8uuKs"
      },
      "source": [
        "## 기술통계분석 및 데이터 시각화\n",
        "\n",
        "* 기술통계분석 또는 데이터 시각화 시 데이터 종류에 따라 사용하는 대표값, 산포도 및 그래프 종류가 다름\n",
        "\n",
        "* 데이터 종류에 따른 데이터 시각화 방법은 다음 토픽 시간에 다루겠음. 본 토픽 시간에는 데이터 종류에 따라 어떻게 기술통계분석을 해야하는지 다루겠음"
      ]
    },
    {
      "cell_type": "markdown",
      "metadata": {
        "id": "MiS3QFJh14PS"
      },
      "source": [
        "\n",
        "<질직 데이터 기술통계분석 결과 테이블 #1>\n",
        "\n",
        "![데이터 종류 비교](https://drive.google.com/uc?export=view&id=1Y5XMxZzWV7HeSBvt-MXfWa4e9FZhGBLG) \n",
        "\n",
        "* 질적 데이터를 대상으로 기술통계분석을 할 때는 **최빈값**을 대표적으로 계산함"
      ]
    },
    {
      "cell_type": "markdown",
      "metadata": {
        "id": "1o4rI0MV14d8"
      },
      "source": [
        "<기술 통계분석 결과 테이블 #2>\n",
        "\n",
        "![데이터 종류 비교](https://drive.google.com/uc?export=view&id=1F2wha5BynycHPsjRnWhLutakxZz1_ris) \n",
        "\n",
        "* 양적 데이터를 대상으로 기술통계분석을 할 때는 데이터를 표현하는 다양한 분석 결과를 얻을 수 있음\n",
        "\n",
        "  * 대표값으로는 평균을 사용함. 데이터가 정규분포를 따르지 않으면 중앙값을 사용함\n",
        "\n",
        "  * 산포도로는 표준편차와 최대값, 최소값을 공통적으로 사용함. 정규분포를 따르지 않으면 표준편차 대신 사분위수 범위를 사용함\n",
        "\n",
        "  * 분포는 대표값과 산포도에 비해 사용 빈도가 적음. 그러나 분포를 표현하는 것이 중요할 때는 많이 사용됨"
      ]
    },
    {
      "cell_type": "markdown",
      "metadata": {
        "id": "gUZ0Y2t2g3rX"
      },
      "source": [
        "# 타이타닉 데이터 활용 기술통계분석\n",
        "\n",
        "* 타이타닉 데이터를 활용하여 기술통계분석을 해보겠음. 데이터의 종류에 따라 기술통계분석을 다르게 하겠음\n",
        "\n",
        " * 예컨대 데이터의 종류가 질적 데이터는 대표값으로 최빈값을 계산하고, 양적 데이터는 대표값으로 평균 또는 중앙값을 계산하겠음"
      ]
    },
    {
      "cell_type": "markdown",
      "metadata": {
        "id": "v62TpkPQVUEg"
      },
      "source": [
        "* 타이나닉 데이터의 column 정보는 아래표와 같음\n",
        "\n",
        "컬럼 이름|\t설명|\t컬럼값 설명\n",
        "---| ---| ---\n",
        "PassengerId| 탑승객 번호| \n",
        "Survived|\t생존유무|\t0 = 사망, 1 = 생존\n",
        "pclass|\t티켓 글래스|\t1 = 1등석, 2 = 2등석, 3 = 3등석\n",
        "Sex|\t성별| Female = 여성, Male = 남성\t\n",
        "Age|\t만 나이 | 태어난지 1년 미만으면(만 나이 < 0) 소수로 표현\n",
        "Ticket|\t티켓 번호|\t\n",
        "Fare|\t티켓 가격|\t\n",
        "Cabin|\t객실 번호|\t\n",
        "Embarked|\t탑승 항구|\tC = 셰르부르(프랑스 서북부 항구), Q = 퀸즈타운(아일랜드 남부의 항구), S = 사우샘프턴 (영국 남부 항구)"
      ]
    },
    {
      "cell_type": "code",
      "metadata": {
        "colab": {
          "base_uri": "https://localhost:8080/",
          "height": 204
        },
        "id": "7qnXKOtoVN0C",
        "outputId": "6d0957d7-1541-43d1-acb4-541b35eef6e2"
      },
      "source": [
        "df = getTitanicData()\n",
        "df.head()"
      ],
      "execution_count": null,
      "outputs": [
        {
          "output_type": "execute_result",
          "data": {
            "text/html": [
              "<div>\n",
              "<style scoped>\n",
              "    .dataframe tbody tr th:only-of-type {\n",
              "        vertical-align: middle;\n",
              "    }\n",
              "\n",
              "    .dataframe tbody tr th {\n",
              "        vertical-align: top;\n",
              "    }\n",
              "\n",
              "    .dataframe thead th {\n",
              "        text-align: right;\n",
              "    }\n",
              "</style>\n",
              "<table border=\"1\" class=\"dataframe\">\n",
              "  <thead>\n",
              "    <tr style=\"text-align: right;\">\n",
              "      <th></th>\n",
              "      <th>PassengerId</th>\n",
              "      <th>Survived</th>\n",
              "      <th>Pclass</th>\n",
              "      <th>Sex</th>\n",
              "      <th>Age</th>\n",
              "      <th>Ticket</th>\n",
              "      <th>Fare</th>\n",
              "      <th>Cabin</th>\n",
              "      <th>Embarked</th>\n",
              "    </tr>\n",
              "  </thead>\n",
              "  <tbody>\n",
              "    <tr>\n",
              "      <th>0</th>\n",
              "      <td>1</td>\n",
              "      <td>0</td>\n",
              "      <td>3</td>\n",
              "      <td>male</td>\n",
              "      <td>22.0</td>\n",
              "      <td>A/5 21171</td>\n",
              "      <td>7.2500</td>\n",
              "      <td>NaN</td>\n",
              "      <td>S</td>\n",
              "    </tr>\n",
              "    <tr>\n",
              "      <th>1</th>\n",
              "      <td>2</td>\n",
              "      <td>1</td>\n",
              "      <td>1</td>\n",
              "      <td>female</td>\n",
              "      <td>38.0</td>\n",
              "      <td>PC 17599</td>\n",
              "      <td>71.2833</td>\n",
              "      <td>C85</td>\n",
              "      <td>C</td>\n",
              "    </tr>\n",
              "    <tr>\n",
              "      <th>2</th>\n",
              "      <td>3</td>\n",
              "      <td>1</td>\n",
              "      <td>3</td>\n",
              "      <td>female</td>\n",
              "      <td>26.0</td>\n",
              "      <td>STON/O2. 3101282</td>\n",
              "      <td>7.9250</td>\n",
              "      <td>NaN</td>\n",
              "      <td>S</td>\n",
              "    </tr>\n",
              "    <tr>\n",
              "      <th>3</th>\n",
              "      <td>4</td>\n",
              "      <td>1</td>\n",
              "      <td>1</td>\n",
              "      <td>female</td>\n",
              "      <td>35.0</td>\n",
              "      <td>113803</td>\n",
              "      <td>53.1000</td>\n",
              "      <td>C123</td>\n",
              "      <td>S</td>\n",
              "    </tr>\n",
              "    <tr>\n",
              "      <th>4</th>\n",
              "      <td>5</td>\n",
              "      <td>0</td>\n",
              "      <td>3</td>\n",
              "      <td>male</td>\n",
              "      <td>35.0</td>\n",
              "      <td>373450</td>\n",
              "      <td>8.0500</td>\n",
              "      <td>NaN</td>\n",
              "      <td>S</td>\n",
              "    </tr>\n",
              "  </tbody>\n",
              "</table>\n",
              "</div>"
            ],
            "text/plain": [
              "   PassengerId  Survived  Pclass  ...     Fare  Cabin Embarked\n",
              "0            1         0       3  ...   7.2500    NaN        S\n",
              "1            2         1       1  ...  71.2833    C85        C\n",
              "2            3         1       3  ...   7.9250    NaN        S\n",
              "3            4         1       1  ...  53.1000   C123        S\n",
              "4            5         0       3  ...   8.0500    NaN        S\n",
              "\n",
              "[5 rows x 9 columns]"
            ]
          },
          "metadata": {
            "tags": []
          },
          "execution_count": 3
        }
      ]
    },
    {
      "cell_type": "markdown",
      "metadata": {
        "id": "NY33gCRPzFG8"
      },
      "source": [
        "## 질적 데이터"
      ]
    },
    {
      "cell_type": "markdown",
      "metadata": {
        "id": "XAO1Ee9Nwgcn"
      },
      "source": [
        "### 명목 데이터\n",
        "\n",
        "#### 탑승객 성별\n"
      ]
    },
    {
      "cell_type": "markdown",
      "metadata": {
        "id": "6qdGmd9eaVZ3"
      },
      "source": [
        "**데이터값 종류 확인**"
      ]
    },
    {
      "cell_type": "code",
      "metadata": {
        "id": "HFoGJnBzaVZ3",
        "colab": {
          "base_uri": "https://localhost:8080/"
        },
        "outputId": "f773f1d1-6fa9-4407-844a-3d01fea077a6"
      },
      "source": [
        "df = getTitanicData()\n",
        "df['Sex'].unique()"
      ],
      "execution_count": null,
      "outputs": [
        {
          "output_type": "execute_result",
          "data": {
            "text/plain": [
              "array(['male', 'female'], dtype=object)"
            ]
          },
          "metadata": {
            "tags": []
          },
          "execution_count": 4
        }
      ]
    },
    {
      "cell_type": "markdown",
      "metadata": {
        "id": "A64M_rDEaXWD"
      },
      "source": [
        "**최빈값 계산**"
      ]
    },
    {
      "cell_type": "code",
      "metadata": {
        "colab": {
          "base_uri": "https://localhost:8080/"
        },
        "id": "mP1JMglGwfwV",
        "outputId": "572749dd-e0ca-4df0-cb25-75f205ecc4db"
      },
      "source": [
        "df = getTitanicData()\n",
        "df['Sex'].mode()"
      ],
      "execution_count": null,
      "outputs": [
        {
          "output_type": "execute_result",
          "data": {
            "text/plain": [
              "0    male\n",
              "dtype: object"
            ]
          },
          "metadata": {
            "tags": []
          },
          "execution_count": 5
        }
      ]
    },
    {
      "cell_type": "markdown",
      "metadata": {
        "id": "7dmk4Ol9xxb5"
      },
      "source": [
        "**빈도 계산**"
      ]
    },
    {
      "cell_type": "code",
      "metadata": {
        "colab": {
          "base_uri": "https://localhost:8080/"
        },
        "id": "O22FWfUvxFym",
        "outputId": "c58c6115-ce06-4dc6-e483-2806bfb38d92"
      },
      "source": [
        "df['Sex'].value_counts()"
      ],
      "execution_count": null,
      "outputs": [
        {
          "output_type": "execute_result",
          "data": {
            "text/plain": [
              "male      577\n",
              "female    314\n",
              "Name: Sex, dtype: int64"
            ]
          },
          "metadata": {
            "tags": []
          },
          "execution_count": 6
        }
      ]
    },
    {
      "cell_type": "markdown",
      "metadata": {
        "id": "g4ILGRTfxuHH"
      },
      "source": [
        "**퍼센트 계산**"
      ]
    },
    {
      "cell_type": "code",
      "metadata": {
        "colab": {
          "base_uri": "https://localhost:8080/"
        },
        "id": "SmPnuvtfxnB9",
        "outputId": "989e0296-38b0-412c-cdf9-67aaf156fdd5"
      },
      "source": [
        "df['Sex'].value_counts()/len(df)*100"
      ],
      "execution_count": null,
      "outputs": [
        {
          "output_type": "execute_result",
          "data": {
            "text/plain": [
              "male      64.758698\n",
              "female    35.241302\n",
              "Name: Sex, dtype: float64"
            ]
          },
          "metadata": {
            "tags": []
          },
          "execution_count": 7
        }
      ]
    },
    {
      "cell_type": "markdown",
      "metadata": {
        "id": "8_6zR__kytkN"
      },
      "source": [
        "#### 탑승객 생존 여부"
      ]
    },
    {
      "cell_type": "markdown",
      "metadata": {
        "id": "HAi2Nmh_aIp_"
      },
      "source": [
        "**데이터값 종류 확인**"
      ]
    },
    {
      "cell_type": "code",
      "metadata": {
        "colab": {
          "base_uri": "https://localhost:8080/"
        },
        "id": "L59mT5XOaIqA",
        "outputId": "23861545-2a35-4879-c773-14e283fe07fb"
      },
      "source": [
        "df = getTitanicData()\n",
        "df['Survived'].unique()"
      ],
      "execution_count": null,
      "outputs": [
        {
          "output_type": "execute_result",
          "data": {
            "text/plain": [
              "array([0, 1])"
            ]
          },
          "metadata": {
            "tags": []
          },
          "execution_count": 8
        }
      ]
    },
    {
      "cell_type": "markdown",
      "metadata": {
        "id": "TYg6RttpaL7h"
      },
      "source": [
        "**최빈값 계산**"
      ]
    },
    {
      "cell_type": "code",
      "metadata": {
        "id": "3k8SKAASytvj",
        "colab": {
          "base_uri": "https://localhost:8080/"
        },
        "outputId": "92dc0260-371d-499b-89be-50c1e8b435ab"
      },
      "source": [
        "df = getTitanicData()\n",
        "df['Survived'].mode()"
      ],
      "execution_count": null,
      "outputs": [
        {
          "output_type": "execute_result",
          "data": {
            "text/plain": [
              "0    0\n",
              "dtype: int64"
            ]
          },
          "metadata": {
            "tags": []
          },
          "execution_count": 9
        }
      ]
    },
    {
      "cell_type": "markdown",
      "metadata": {
        "id": "A5MHfehcyt6H"
      },
      "source": [
        "**빈도 계산**"
      ]
    },
    {
      "cell_type": "code",
      "metadata": {
        "id": "0iATAQjByuZv",
        "colab": {
          "base_uri": "https://localhost:8080/"
        },
        "outputId": "dd35f0cd-547f-4e62-bb7f-5237b0f5d0bb"
      },
      "source": [
        "df['Survived'].value_counts()"
      ],
      "execution_count": null,
      "outputs": [
        {
          "output_type": "execute_result",
          "data": {
            "text/plain": [
              "0    549\n",
              "1    342\n",
              "Name: Survived, dtype: int64"
            ]
          },
          "metadata": {
            "tags": []
          },
          "execution_count": 10
        }
      ]
    },
    {
      "cell_type": "markdown",
      "metadata": {
        "id": "qI1Ev0OMyuj3"
      },
      "source": [
        "**퍼센트 계산**"
      ]
    },
    {
      "cell_type": "code",
      "metadata": {
        "id": "1lrgL6kiyuu5",
        "colab": {
          "base_uri": "https://localhost:8080/"
        },
        "outputId": "3c069412-6ae3-42c1-9d49-b8dd586b589a"
      },
      "source": [
        "df['Survived'].value_counts()/len(df)*100"
      ],
      "execution_count": null,
      "outputs": [
        {
          "output_type": "execute_result",
          "data": {
            "text/plain": [
              "0    61.616162\n",
              "1    38.383838\n",
              "Name: Survived, dtype: float64"
            ]
          },
          "metadata": {
            "tags": []
          },
          "execution_count": 11
        }
      ]
    },
    {
      "cell_type": "markdown",
      "metadata": {
        "id": "PG-UVauFGsqq"
      },
      "source": [
        "#### 생존자 성별 비교"
      ]
    },
    {
      "cell_type": "code",
      "metadata": {
        "colab": {
          "base_uri": "https://localhost:8080/"
        },
        "id": "e8BIl38SG7_S",
        "outputId": "8bd19648-b90f-447d-a984-78575d8c7a0a"
      },
      "source": [
        "df = getTitanicData()\n",
        "surviver = df.loc[df['Survived'] == 1, 'Sex']\n",
        "surviver.head"
      ],
      "execution_count": null,
      "outputs": [
        {
          "output_type": "execute_result",
          "data": {
            "text/plain": [
              "<bound method NDFrame.head of 1      female\n",
              "2      female\n",
              "3      female\n",
              "8      female\n",
              "9      female\n",
              "        ...  \n",
              "875    female\n",
              "879    female\n",
              "880    female\n",
              "887    female\n",
              "889      male\n",
              "Name: Sex, Length: 342, dtype: object>"
            ]
          },
          "metadata": {
            "tags": []
          },
          "execution_count": 13
        }
      ]
    },
    {
      "cell_type": "code",
      "metadata": {
        "colab": {
          "base_uri": "https://localhost:8080/"
        },
        "id": "M02FKosYHOBN",
        "outputId": "320b9556-9f64-43f9-827d-a92ea9e7db1b"
      },
      "source": [
        "surviver.value_counts()"
      ],
      "execution_count": null,
      "outputs": [
        {
          "output_type": "execute_result",
          "data": {
            "text/plain": [
              "female    233\n",
              "male      109\n",
              "Name: Sex, dtype: int64"
            ]
          },
          "metadata": {
            "tags": []
          },
          "execution_count": 14
        }
      ]
    },
    {
      "cell_type": "code",
      "metadata": {
        "colab": {
          "base_uri": "https://localhost:8080/"
        },
        "id": "e9BInlNIHWzK",
        "outputId": "ee08ce72-5292-4829-8526-203fdc98515d"
      },
      "source": [
        "surviver.value_counts()/len(surviver)*100"
      ],
      "execution_count": null,
      "outputs": [
        {
          "output_type": "execute_result",
          "data": {
            "text/plain": [
              "female    68.128655\n",
              "male      31.871345\n",
              "Name: Sex, dtype: float64"
            ]
          },
          "metadata": {
            "tags": []
          },
          "execution_count": 15
        }
      ]
    },
    {
      "cell_type": "markdown",
      "metadata": {
        "id": "XdR27hfszw13"
      },
      "source": [
        "#### 남자 생존자의 탑승항구"
      ]
    },
    {
      "cell_type": "markdown",
      "metadata": {
        "id": "bVcN-rdraj3v"
      },
      "source": [
        "**데이터 추출**"
      ]
    },
    {
      "cell_type": "code",
      "metadata": {
        "id": "MIZTdpjq0hxn"
      },
      "source": [
        "df = getTitanicData()\n",
        "male_survived = df.loc[(df['Sex'] == 'male') & (df['Survived'] == 1), 'Embarked']"
      ],
      "execution_count": null,
      "outputs": []
    },
    {
      "cell_type": "markdown",
      "metadata": {
        "id": "SMkVH-UjaBbc"
      },
      "source": [
        "**데이터값 종류 확인**"
      ]
    },
    {
      "cell_type": "code",
      "metadata": {
        "colab": {
          "base_uri": "https://localhost:8080/"
        },
        "id": "4yA01-3PZ9HE",
        "outputId": "b29ecd3f-156c-45eb-ffea-9839e18d7533"
      },
      "source": [
        "male_survived.unique()"
      ],
      "execution_count": null,
      "outputs": [
        {
          "output_type": "execute_result",
          "data": {
            "text/plain": [
              "array(['S', 'C', 'Q'], dtype=object)"
            ]
          },
          "metadata": {
            "tags": []
          },
          "execution_count": 18
        }
      ]
    },
    {
      "cell_type": "markdown",
      "metadata": {
        "id": "Y9AZrNlG0Waj"
      },
      "source": [
        "**최빈값**"
      ]
    },
    {
      "cell_type": "code",
      "metadata": {
        "colab": {
          "base_uri": "https://localhost:8080/"
        },
        "id": "GPA6vhg8z0km",
        "outputId": "0742377f-deea-4300-c286-ad93550dffb4"
      },
      "source": [
        "male_survived.mode()"
      ],
      "execution_count": null,
      "outputs": [
        {
          "output_type": "execute_result",
          "data": {
            "text/plain": [
              "0    S\n",
              "dtype: object"
            ]
          },
          "metadata": {
            "tags": []
          },
          "execution_count": 19
        }
      ]
    },
    {
      "cell_type": "markdown",
      "metadata": {
        "id": "Qs_fw0Wfz0s9"
      },
      "source": [
        "**빈도 계산**"
      ]
    },
    {
      "cell_type": "code",
      "metadata": {
        "colab": {
          "base_uri": "https://localhost:8080/"
        },
        "id": "njJq0V0Wz003",
        "outputId": "500bbd39-db08-4444-a102-e0fa431f0375"
      },
      "source": [
        "male_survived.value_counts()"
      ],
      "execution_count": null,
      "outputs": [
        {
          "output_type": "execute_result",
          "data": {
            "text/plain": [
              "S    77\n",
              "C    29\n",
              "Q     3\n",
              "Name: Embarked, dtype: int64"
            ]
          },
          "metadata": {
            "tags": []
          },
          "execution_count": 20
        }
      ]
    },
    {
      "cell_type": "markdown",
      "metadata": {
        "id": "gERcv6v5z074"
      },
      "source": [
        "**퍼센트 계산**"
      ]
    },
    {
      "cell_type": "code",
      "metadata": {
        "colab": {
          "base_uri": "https://localhost:8080/"
        },
        "id": "9gL0Qp02z1Dm",
        "outputId": "1181aec6-e5f7-4ed4-ae07-4c81fdd90645"
      },
      "source": [
        "male_survived.value_counts()/len(male_survived)*100"
      ],
      "execution_count": null,
      "outputs": [
        {
          "output_type": "execute_result",
          "data": {
            "text/plain": [
              "S    70.642202\n",
              "C    26.605505\n",
              "Q     2.752294\n",
              "Name: Embarked, dtype: float64"
            ]
          },
          "metadata": {
            "tags": []
          },
          "execution_count": 22
        }
      ]
    },
    {
      "cell_type": "markdown",
      "metadata": {
        "id": "cq5VacMlyO-P"
      },
      "source": [
        "### 서열 데이터 \n",
        "\n"
      ]
    },
    {
      "cell_type": "markdown",
      "metadata": {
        "id": "58M36sRoaekh"
      },
      "source": [
        "#### 탑승객 티켓 클래스"
      ]
    },
    {
      "cell_type": "markdown",
      "metadata": {
        "id": "5wV2v24FajCY"
      },
      "source": [
        "**데이터값 종류 확인**"
      ]
    },
    {
      "cell_type": "code",
      "metadata": {
        "colab": {
          "base_uri": "https://localhost:8080/"
        },
        "id": "LfBPCaN9ajCY",
        "outputId": "1247e985-ed31-4b22-a9e7-69caf79ac888"
      },
      "source": [
        "df = getTitanicData()\n",
        "df['Pclass'].unique()"
      ],
      "execution_count": null,
      "outputs": [
        {
          "output_type": "execute_result",
          "data": {
            "text/plain": [
              "array([3, 1, 2])"
            ]
          },
          "metadata": {
            "tags": []
          },
          "execution_count": 23
        }
      ]
    },
    {
      "cell_type": "markdown",
      "metadata": {
        "id": "uVP6buPtacZ7"
      },
      "source": [
        "**최빈값 계산**"
      ]
    },
    {
      "cell_type": "code",
      "metadata": {
        "colab": {
          "base_uri": "https://localhost:8080/"
        },
        "id": "59Xi_DGgyPQ2",
        "outputId": "0e710f35-0339-4062-fc37-f27a90ba8174"
      },
      "source": [
        "df = getTitanicData()\n",
        "df['Pclass'].mode()"
      ],
      "execution_count": null,
      "outputs": [
        {
          "output_type": "execute_result",
          "data": {
            "text/plain": [
              "0    3\n",
              "dtype: int64"
            ]
          },
          "metadata": {
            "tags": []
          },
          "execution_count": 24
        }
      ]
    },
    {
      "cell_type": "markdown",
      "metadata": {
        "id": "dGhZZuE1ycbk"
      },
      "source": [
        "**빈도 계산**"
      ]
    },
    {
      "cell_type": "code",
      "metadata": {
        "colab": {
          "base_uri": "https://localhost:8080/"
        },
        "id": "eaNBoWtJycjS",
        "outputId": "1feb561e-90c6-4c35-cea1-f74f2ea7255a"
      },
      "source": [
        "df['Pclass'].value_counts()"
      ],
      "execution_count": null,
      "outputs": [
        {
          "output_type": "execute_result",
          "data": {
            "text/plain": [
              "3    491\n",
              "1    216\n",
              "2    184\n",
              "Name: Pclass, dtype: int64"
            ]
          },
          "metadata": {
            "tags": []
          },
          "execution_count": 25
        }
      ]
    },
    {
      "cell_type": "markdown",
      "metadata": {
        "id": "tmtNzxJfycsq"
      },
      "source": [
        "**퍼센트 계산**"
      ]
    },
    {
      "cell_type": "code",
      "metadata": {
        "colab": {
          "base_uri": "https://localhost:8080/"
        },
        "id": "SvHfMbbVyc0N",
        "outputId": "57741908-9d45-4e6f-d50f-1c445e921e86"
      },
      "source": [
        "df['Pclass'].value_counts()/len(df)*100"
      ],
      "execution_count": null,
      "outputs": [
        {
          "output_type": "execute_result",
          "data": {
            "text/plain": [
              "3    55.106622\n",
              "1    24.242424\n",
              "2    20.650954\n",
              "Name: Pclass, dtype: float64"
            ]
          },
          "metadata": {
            "tags": []
          },
          "execution_count": 26
        }
      ]
    },
    {
      "cell_type": "markdown",
      "metadata": {
        "id": "KPoGofWn1Df4"
      },
      "source": [
        "#### 생존자의 티켓 클래스"
      ]
    },
    {
      "cell_type": "markdown",
      "metadata": {
        "id": "agrf0eTga57G"
      },
      "source": [
        "**데이터 추출**"
      ]
    },
    {
      "cell_type": "code",
      "metadata": {
        "id": "sLH3dGtm1STY"
      },
      "source": [
        "df = getTitanicData()\n",
        "pclass_survived = df.loc[df['Survived'] == 1, 'Pclass']"
      ],
      "execution_count": null,
      "outputs": []
    },
    {
      "cell_type": "markdown",
      "metadata": {
        "id": "vCoRIRHhbGCd"
      },
      "source": [
        "**데이터값 종류 확인**"
      ]
    },
    {
      "cell_type": "code",
      "metadata": {
        "colab": {
          "base_uri": "https://localhost:8080/"
        },
        "id": "iC3jqC5ebGCe",
        "outputId": "caf1c09f-7b7f-4cfa-87f9-434ff19c7013"
      },
      "source": [
        "pclass_survived.unique()"
      ],
      "execution_count": null,
      "outputs": [
        {
          "output_type": "execute_result",
          "data": {
            "text/plain": [
              "array([1, 3, 2])"
            ]
          },
          "metadata": {
            "tags": []
          },
          "execution_count": 28
        }
      ]
    },
    {
      "cell_type": "markdown",
      "metadata": {
        "id": "_TQVPpOm1SbY"
      },
      "source": [
        "**최빈값 계산**"
      ]
    },
    {
      "cell_type": "code",
      "metadata": {
        "colab": {
          "base_uri": "https://localhost:8080/"
        },
        "id": "dLbFGcFJ1SoO",
        "outputId": "812ce93f-ea49-4688-aabf-13763541c43c"
      },
      "source": [
        "pclass_survived.mode()"
      ],
      "execution_count": null,
      "outputs": [
        {
          "output_type": "execute_result",
          "data": {
            "text/plain": [
              "0    1\n",
              "dtype: int64"
            ]
          },
          "metadata": {
            "tags": []
          },
          "execution_count": 29
        }
      ]
    },
    {
      "cell_type": "markdown",
      "metadata": {
        "id": "n1J3zMDD1Sxq"
      },
      "source": [
        "**빈도 계산**"
      ]
    },
    {
      "cell_type": "code",
      "metadata": {
        "colab": {
          "base_uri": "https://localhost:8080/"
        },
        "id": "dEjeT0Mo1ime",
        "outputId": "30dda8bd-91d5-40d2-efc2-eaabdb3623e1"
      },
      "source": [
        "pclass_survived.value_counts()"
      ],
      "execution_count": null,
      "outputs": [
        {
          "output_type": "execute_result",
          "data": {
            "text/plain": [
              "1    136\n",
              "3    119\n",
              "2     87\n",
              "Name: Pclass, dtype: int64"
            ]
          },
          "metadata": {
            "tags": []
          },
          "execution_count": 30
        }
      ]
    },
    {
      "cell_type": "markdown",
      "metadata": {
        "id": "7kbTj5NE1TCu"
      },
      "source": [
        "**퍼센트 계산**"
      ]
    },
    {
      "cell_type": "code",
      "metadata": {
        "colab": {
          "base_uri": "https://localhost:8080/"
        },
        "id": "nYD_x57L1jZR",
        "outputId": "174e0c41-c03c-4c08-fab0-3e200ab30562"
      },
      "source": [
        "pclass_survived.value_counts()/len(df)*100"
      ],
      "execution_count": null,
      "outputs": [
        {
          "output_type": "execute_result",
          "data": {
            "text/plain": [
              "1    15.263749\n",
              "3    13.355780\n",
              "2     9.764310\n",
              "Name: Pclass, dtype: float64"
            ]
          },
          "metadata": {
            "tags": []
          },
          "execution_count": 31
        }
      ]
    },
    {
      "cell_type": "markdown",
      "metadata": {
        "id": "SAgSEDGPyAYR"
      },
      "source": [
        "## 양적 데이터 - 비율 데이터\n",
        "\n",
        "\n",
        "\n",
        "\n",
        "\n",
        "\n",
        "\n"
      ]
    },
    {
      "cell_type": "markdown",
      "metadata": {
        "id": "lUznYWW1OVxs"
      },
      "source": [
        "### 평균 vs. 중앙값\n",
        "\n",
        "* 양적 데이터를 대상으로 기술통계분석을 할 때 대표값으로 평균과 중앙값을 계산할 수 있음\n",
        "\n",
        "* 정규성 검정(normality test) 결과를 고려하여 평균 또는 중앙값을 대표값을 사용하면 됨\n",
        "\n",
        "* 정규성 검정은 데이터셋의 분포가 정규분포 (normal distribution)를 따르는지를 검정하는 것임\n",
        "\n",
        "* 정규성 검정 결과에서 p값이 0.05보다 작으면 데이터는 정규분포를 따르지 않음\n",
        "\n",
        "* 이때는 중앙값을 사용함. 반대로 정규분포를 따르면 평균을 대표값으로 사용하면 됨\n",
        "\n",
        "* 분포 데이터를 대상으로 정규성 검정을 실시하여 보겠음"
      ]
    },
    {
      "cell_type": "code",
      "metadata": {
        "colab": {
          "base_uri": "https://localhost:8080/",
          "height": 204
        },
        "id": "XW5FQdsJOZZG",
        "outputId": "1b4414dd-4003-4e5f-c3dc-4f9099dd41e4"
      },
      "source": [
        "df = getDistributionData()\n",
        "df.head()"
      ],
      "execution_count": null,
      "outputs": [
        {
          "output_type": "execute_result",
          "data": {
            "text/html": [
              "<div>\n",
              "<style scoped>\n",
              "    .dataframe tbody tr th:only-of-type {\n",
              "        vertical-align: middle;\n",
              "    }\n",
              "\n",
              "    .dataframe tbody tr th {\n",
              "        vertical-align: top;\n",
              "    }\n",
              "\n",
              "    .dataframe thead th {\n",
              "        text-align: right;\n",
              "    }\n",
              "</style>\n",
              "<table border=\"1\" class=\"dataframe\">\n",
              "  <thead>\n",
              "    <tr style=\"text-align: right;\">\n",
              "      <th></th>\n",
              "      <th>uniform</th>\n",
              "      <th>normal</th>\n",
              "      <th>bern</th>\n",
              "      <th>binom</th>\n",
              "    </tr>\n",
              "  </thead>\n",
              "  <tbody>\n",
              "    <tr>\n",
              "      <th>0</th>\n",
              "      <td>26.031871</td>\n",
              "      <td>9.792524</td>\n",
              "      <td>1</td>\n",
              "      <td>9</td>\n",
              "    </tr>\n",
              "    <tr>\n",
              "      <th>1</th>\n",
              "      <td>17.735726</td>\n",
              "      <td>10.337655</td>\n",
              "      <td>1</td>\n",
              "      <td>10</td>\n",
              "    </tr>\n",
              "    <tr>\n",
              "      <th>2</th>\n",
              "      <td>13.516215</td>\n",
              "      <td>10.742905</td>\n",
              "      <td>1</td>\n",
              "      <td>8</td>\n",
              "    </tr>\n",
              "    <tr>\n",
              "      <th>3</th>\n",
              "      <td>17.111709</td>\n",
              "      <td>9.861952</td>\n",
              "      <td>0</td>\n",
              "      <td>8</td>\n",
              "    </tr>\n",
              "    <tr>\n",
              "      <th>4</th>\n",
              "      <td>29.261332</td>\n",
              "      <td>8.891675</td>\n",
              "      <td>1</td>\n",
              "      <td>7</td>\n",
              "    </tr>\n",
              "  </tbody>\n",
              "</table>\n",
              "</div>"
            ],
            "text/plain": [
              "     uniform     normal  bern  binom\n",
              "0  26.031871   9.792524     1      9\n",
              "1  17.735726  10.337655     1     10\n",
              "2  13.516215  10.742905     1      8\n",
              "3  17.111709   9.861952     0      8\n",
              "4  29.261332   8.891675     1      7"
            ]
          },
          "metadata": {
            "tags": []
          },
          "execution_count": 38
        }
      ]
    },
    {
      "cell_type": "code",
      "metadata": {
        "colab": {
          "base_uri": "https://localhost:8080/"
        },
        "id": "byIZRgtxObQX",
        "outputId": "76ef28f9-542e-4889-b73d-9e7f5d752a2d"
      },
      "source": [
        "from scipy import stats\n",
        "\n",
        "for column in df.columns:\n",
        "  k2, p = stats.normaltest(df[column])\n",
        "  print('%s 컬럼 데이터는 정균분포를 따%s(p값 = %f )' % (column, '름' if 0.05 < p else '르지 않음', p) )"
      ],
      "execution_count": null,
      "outputs": [
        {
          "output_type": "stream",
          "text": [
            "uniform 컬럼 데이터는 정균분포를 따르지 않음(p값 = 0.000000 )\n",
            "normal 컬럼 데이터는 정균분포를 따름(p값 = 0.150349 )\n",
            "bern 컬럼 데이터는 정균분포를 따르지 않음(p값 = 0.000000 )\n",
            "binom 컬럼 데이터는 정균분포를 따르지 않음(p값 = 0.000000 )\n"
          ],
          "name": "stdout"
        }
      ]
    },
    {
      "cell_type": "markdown",
      "metadata": {
        "id": "W1-OaEjYN5gb"
      },
      "source": [
        "### 탑승객 만 나이\n",
        "\n"
      ]
    },
    {
      "cell_type": "markdown",
      "metadata": {
        "id": "FTJ02YLGbY_t"
      },
      "source": [
        "**정규성 검정**"
      ]
    },
    {
      "cell_type": "code",
      "metadata": {
        "colab": {
          "base_uri": "https://localhost:8080/"
        },
        "id": "sSMScr7nV4rr",
        "outputId": "d5f15814-8d6d-4e17-fe11-b699c8f008d0"
      },
      "source": [
        "from scipy import stats\n",
        "\n",
        "df = getTitanicData()\n",
        "\n",
        "k2, p = stats.normaltest(df['Age'])\n",
        "\n",
        "p "
      ],
      "execution_count": null,
      "outputs": [
        {
          "output_type": "execute_result",
          "data": {
            "text/plain": [
              "nan"
            ]
          },
          "metadata": {
            "tags": []
          },
          "execution_count": 41
        }
      ]
    },
    {
      "cell_type": "code",
      "metadata": {
        "colab": {
          "base_uri": "https://localhost:8080/"
        },
        "id": "zH160NYsY3Ci",
        "outputId": "e3fe2c2b-f010-4b7b-cd11-327c06d02f06"
      },
      "source": [
        "df['Age']"
      ],
      "execution_count": null,
      "outputs": [
        {
          "output_type": "execute_result",
          "data": {
            "text/plain": [
              "0      22.0\n",
              "1      38.0\n",
              "2      26.0\n",
              "3      35.0\n",
              "4      35.0\n",
              "       ... \n",
              "886    27.0\n",
              "887    19.0\n",
              "888     NaN\n",
              "889    26.0\n",
              "890    32.0\n",
              "Name: Age, Length: 891, dtype: float64"
            ]
          },
          "metadata": {
            "tags": []
          },
          "execution_count": 42
        }
      ]
    },
    {
      "cell_type": "markdown",
      "metadata": {
        "id": "UdKIf4CSZi3H"
      },
      "source": [
        "* 데이터에서 NaN 데이터값 제거(토픽 3 수업 참조)"
      ]
    },
    {
      "cell_type": "code",
      "metadata": {
        "colab": {
          "base_uri": "https://localhost:8080/"
        },
        "id": "ahGmrAeCZRzA",
        "outputId": "9888a824-5ad4-434b-e172-51002ace022a"
      },
      "source": [
        "age = df['Age'].dropna(axis=0, how='any')\n",
        "\n",
        "k2, p = stats.normaltest(age)\n",
        "\n",
        "p"
      ],
      "execution_count": null,
      "outputs": [
        {
          "output_type": "execute_result",
          "data": {
            "text/plain": [
              "0.00011709599657350757"
            ]
          },
          "metadata": {
            "tags": []
          },
          "execution_count": 43
        }
      ]
    },
    {
      "cell_type": "markdown",
      "metadata": {
        "id": "Ofnomjxzbm9Y"
      },
      "source": [
        "* 데이터가 정규분포를 따르지 않음"
      ]
    },
    {
      "cell_type": "markdown",
      "metadata": {
        "id": "wZMEI_TNbsg6"
      },
      "source": [
        "**중앙값 계산**"
      ]
    },
    {
      "cell_type": "code",
      "metadata": {
        "colab": {
          "base_uri": "https://localhost:8080/"
        },
        "id": "JItycjnDb1oP",
        "outputId": "e5dc27ec-387d-41e9-a03e-61e77e09607a"
      },
      "source": [
        "age.median()"
      ],
      "execution_count": null,
      "outputs": [
        {
          "output_type": "execute_result",
          "data": {
            "text/plain": [
              "28.0"
            ]
          },
          "metadata": {
            "tags": []
          },
          "execution_count": 44
        }
      ]
    },
    {
      "cell_type": "markdown",
      "metadata": {
        "id": "tLPwUXL4b7Vr"
      },
      "source": [
        "**최대값, 최소값 계산**"
      ]
    },
    {
      "cell_type": "code",
      "metadata": {
        "colab": {
          "base_uri": "https://localhost:8080/"
        },
        "id": "gZ9wz4bob-g2",
        "outputId": "5f5f00dd-c288-4d3b-baf4-e219ec3e1be9"
      },
      "source": [
        "age.max()"
      ],
      "execution_count": null,
      "outputs": [
        {
          "output_type": "execute_result",
          "data": {
            "text/plain": [
              "80.0"
            ]
          },
          "metadata": {
            "tags": []
          },
          "execution_count": 45
        }
      ]
    },
    {
      "cell_type": "code",
      "metadata": {
        "colab": {
          "base_uri": "https://localhost:8080/"
        },
        "id": "6kmKui5EcAeJ",
        "outputId": "39b8446f-4112-49dd-83d5-03c0464bdca5"
      },
      "source": [
        "age.min()"
      ],
      "execution_count": null,
      "outputs": [
        {
          "output_type": "execute_result",
          "data": {
            "text/plain": [
              "0.42"
            ]
          },
          "metadata": {
            "tags": []
          },
          "execution_count": 46
        }
      ]
    },
    {
      "cell_type": "markdown",
      "metadata": {
        "id": "O_LsoYGNcKij"
      },
      "source": [
        "**사분위수 범위 계산**\n",
        "\n",
        "제1사분위수(q1) 계산"
      ]
    },
    {
      "cell_type": "code",
      "metadata": {
        "colab": {
          "base_uri": "https://localhost:8080/"
        },
        "id": "-XR04zmjcUfP",
        "outputId": "f7fa1946-d8cd-4a67-e04f-0c8420594e38"
      },
      "source": [
        "age.quantile(0.25, interpolation='midpoint')"
      ],
      "execution_count": null,
      "outputs": [
        {
          "output_type": "execute_result",
          "data": {
            "text/plain": [
              "20.25"
            ]
          },
          "metadata": {
            "tags": []
          },
          "execution_count": 47
        }
      ]
    },
    {
      "cell_type": "markdown",
      "metadata": {
        "id": "xDKI5BuocVbS"
      },
      "source": [
        "제2사분위수(q2) 계산"
      ]
    },
    {
      "cell_type": "code",
      "metadata": {
        "colab": {
          "base_uri": "https://localhost:8080/"
        },
        "id": "vQHJ_MlBcuLI",
        "outputId": "988b7ff3-957a-4caa-ad99-9de05b305a52"
      },
      "source": [
        "age.quantile(0.50, interpolation='midpoint')"
      ],
      "execution_count": null,
      "outputs": [
        {
          "output_type": "execute_result",
          "data": {
            "text/plain": [
              "28.0"
            ]
          },
          "metadata": {
            "tags": []
          },
          "execution_count": 48
        }
      ]
    },
    {
      "cell_type": "markdown",
      "metadata": {
        "id": "rGAPxVBJcuZX"
      },
      "source": [
        "제3사분위수(q3) 계산"
      ]
    },
    {
      "cell_type": "code",
      "metadata": {
        "colab": {
          "base_uri": "https://localhost:8080/"
        },
        "id": "NXCLwDoOcup1",
        "outputId": "9f4a4076-8068-4555-8666-b6b3a5c39234"
      },
      "source": [
        "age.quantile(0.75, interpolation='midpoint')"
      ],
      "execution_count": null,
      "outputs": [
        {
          "output_type": "execute_result",
          "data": {
            "text/plain": [
              "38.0"
            ]
          },
          "metadata": {
            "tags": []
          },
          "execution_count": 49
        }
      ]
    },
    {
      "cell_type": "markdown",
      "metadata": {
        "id": "PrfCNswQV5QS"
      },
      "source": [
        "**평균 및 표준편차 계산**\n",
        "\n",
        "* 본 데이터는 정규분포를 따르지 않기에 평균과 표준편차를 사용하는 것은 적절하지 못함. 그러나 연습으로 구해보겠음\n",
        "\n",
        "평균 계산"
      ]
    },
    {
      "cell_type": "code",
      "metadata": {
        "id": "GNzBLtIQYnA9",
        "colab": {
          "base_uri": "https://localhost:8080/"
        },
        "outputId": "25dee917-1374-4cc8-a799-5b88a2b92c2d"
      },
      "source": [
        "age.mean()"
      ],
      "execution_count": null,
      "outputs": [
        {
          "output_type": "execute_result",
          "data": {
            "text/plain": [
              "29.69911764705882"
            ]
          },
          "metadata": {
            "tags": []
          },
          "execution_count": 50
        }
      ]
    },
    {
      "cell_type": "markdown",
      "metadata": {
        "id": "c8URS-sEdUq6"
      },
      "source": [
        "표준편차 계산"
      ]
    },
    {
      "cell_type": "code",
      "metadata": {
        "colab": {
          "base_uri": "https://localhost:8080/"
        },
        "id": "aCtDtTR4YNgN",
        "outputId": "24a4a93f-f56f-432a-dd8e-bf80034524c7"
      },
      "source": [
        "age.std()"
      ],
      "execution_count": null,
      "outputs": [
        {
          "output_type": "execute_result",
          "data": {
            "text/plain": [
              "14.526497332334044"
            ]
          },
          "metadata": {
            "tags": []
          },
          "execution_count": 51
        }
      ]
    },
    {
      "cell_type": "markdown",
      "metadata": {
        "id": "T4PbcG8jzsT_"
      },
      "source": [
        "### 생존자의 티켓 요금 "
      ]
    },
    {
      "cell_type": "markdown",
      "metadata": {
        "id": "i3ebwinjd3r-"
      },
      "source": [
        "**데이터 추출**"
      ]
    },
    {
      "cell_type": "code",
      "metadata": {
        "colab": {
          "base_uri": "https://localhost:8080/"
        },
        "id": "aHJNcP_4d51u",
        "outputId": "a9129620-3525-429b-fcaf-8e90239e8ef4"
      },
      "source": [
        "df = getTitanicData()\n",
        "survived_Fare = df.loc[df.Survived == 1, 'Fare']\n",
        "survived_Fare"
      ],
      "execution_count": null,
      "outputs": [
        {
          "output_type": "execute_result",
          "data": {
            "text/plain": [
              "1      71.2833\n",
              "2       7.9250\n",
              "3      53.1000\n",
              "8      11.1333\n",
              "9      30.0708\n",
              "        ...   \n",
              "875     7.2250\n",
              "879    83.1583\n",
              "880    26.0000\n",
              "887    30.0000\n",
              "889    30.0000\n",
              "Name: Fare, Length: 342, dtype: float64"
            ]
          },
          "metadata": {
            "tags": []
          },
          "execution_count": 57
        }
      ]
    },
    {
      "cell_type": "markdown",
      "metadata": {
        "id": "h_VjKQ1ud9J1"
      },
      "source": [
        "**정규성 검정**"
      ]
    },
    {
      "cell_type": "code",
      "metadata": {
        "colab": {
          "base_uri": "https://localhost:8080/"
        },
        "id": "vrkgExcmd9SH",
        "outputId": "0a0dd255-dd0c-43fb-f8fd-d537425a6dee"
      },
      "source": [
        "from scipy import stats\n",
        "\n",
        "k2, p = stats.normaltest(survived_Fare)\n",
        "\n",
        "p "
      ],
      "execution_count": null,
      "outputs": [
        {
          "output_type": "execute_result",
          "data": {
            "text/plain": [
              "3.749717312272261e-68"
            ]
          },
          "metadata": {
            "tags": []
          },
          "execution_count": 58
        }
      ]
    },
    {
      "cell_type": "markdown",
      "metadata": {
        "id": "5yl8D58Veb-c"
      },
      "source": [
        "* 데이터가 정규분화를 따름 "
      ]
    },
    {
      "cell_type": "markdown",
      "metadata": {
        "id": "Gx2W-urieygj"
      },
      "source": [
        "**중앙값 계산**"
      ]
    },
    {
      "cell_type": "code",
      "metadata": {
        "colab": {
          "base_uri": "https://localhost:8080/"
        },
        "id": "9QTWVABdeygu",
        "outputId": "7e37fc58-ceac-4af7-8f84-c8c01b15256a"
      },
      "source": [
        "survived_Fare.median()"
      ],
      "execution_count": null,
      "outputs": [
        {
          "output_type": "execute_result",
          "data": {
            "text/plain": [
              "26.0"
            ]
          },
          "metadata": {
            "tags": []
          },
          "execution_count": 59
        }
      ]
    },
    {
      "cell_type": "markdown",
      "metadata": {
        "id": "lPWP5t9weygu"
      },
      "source": [
        "**최대값, 최소값 계산**"
      ]
    },
    {
      "cell_type": "code",
      "metadata": {
        "colab": {
          "base_uri": "https://localhost:8080/"
        },
        "id": "KtmOB7sSeygv",
        "outputId": "62c3414f-52c7-4642-d430-8b28274baab6"
      },
      "source": [
        "survived_Fare.max()"
      ],
      "execution_count": null,
      "outputs": [
        {
          "output_type": "execute_result",
          "data": {
            "text/plain": [
              "512.3292"
            ]
          },
          "metadata": {
            "tags": []
          },
          "execution_count": 60
        }
      ]
    },
    {
      "cell_type": "code",
      "metadata": {
        "colab": {
          "base_uri": "https://localhost:8080/"
        },
        "id": "LhFmCwUTeygv",
        "outputId": "8f210855-0fa9-4a90-e1ce-0324d87f0558"
      },
      "source": [
        "survived_Fare.min()"
      ],
      "execution_count": null,
      "outputs": [
        {
          "output_type": "execute_result",
          "data": {
            "text/plain": [
              "0.0"
            ]
          },
          "metadata": {
            "tags": []
          },
          "execution_count": 61
        }
      ]
    },
    {
      "cell_type": "markdown",
      "metadata": {
        "id": "gizu2PUheygv"
      },
      "source": [
        "**사분위수 범위 계산**\n",
        "\n",
        "제1사분위수(q1) 계산"
      ]
    },
    {
      "cell_type": "code",
      "metadata": {
        "colab": {
          "base_uri": "https://localhost:8080/"
        },
        "id": "S6w4PK78eygw",
        "outputId": "f07fa06d-1e65-4277-857a-a5aad3df7c9f"
      },
      "source": [
        "survived_Fare.quantile(0.25, interpolation='midpoint')"
      ],
      "execution_count": null,
      "outputs": [
        {
          "output_type": "execute_result",
          "data": {
            "text/plain": [
              "12.475"
            ]
          },
          "metadata": {
            "tags": []
          },
          "execution_count": 62
        }
      ]
    },
    {
      "cell_type": "markdown",
      "metadata": {
        "id": "SPkiazIbeygw"
      },
      "source": [
        "제2사분위수(q2) 계산"
      ]
    },
    {
      "cell_type": "code",
      "metadata": {
        "colab": {
          "base_uri": "https://localhost:8080/"
        },
        "id": "4I4u3aDUeygw",
        "outputId": "15e319d5-7c05-4af6-c354-9a5e828f47f9"
      },
      "source": [
        "survived_Fare.quantile(0.50, interpolation='midpoint')"
      ],
      "execution_count": null,
      "outputs": [
        {
          "output_type": "execute_result",
          "data": {
            "text/plain": [
              "26.0"
            ]
          },
          "metadata": {
            "tags": []
          },
          "execution_count": 63
        }
      ]
    },
    {
      "cell_type": "markdown",
      "metadata": {
        "id": "1HVfV2sOeygx"
      },
      "source": [
        "제3사분위수(q3) 계산"
      ]
    },
    {
      "cell_type": "code",
      "metadata": {
        "colab": {
          "base_uri": "https://localhost:8080/"
        },
        "id": "U6f_ja-Neygx",
        "outputId": "4a008d61-4519-4f7d-cb85-c1b0d1aecdfa"
      },
      "source": [
        "survived_Fare.quantile(0.75, interpolation='midpoint')"
      ],
      "execution_count": null,
      "outputs": [
        {
          "output_type": "execute_result",
          "data": {
            "text/plain": [
              "57.0"
            ]
          },
          "metadata": {
            "tags": []
          },
          "execution_count": 64
        }
      ]
    },
    {
      "cell_type": "markdown",
      "metadata": {
        "id": "0Cdhki3Ceygx"
      },
      "source": [
        "**평균 및 표준편차 계산**\n",
        "\n",
        "평균 계산"
      ]
    },
    {
      "cell_type": "code",
      "metadata": {
        "colab": {
          "base_uri": "https://localhost:8080/"
        },
        "id": "LyT4S-Vgeygx",
        "outputId": "2ff90a68-c8db-4856-bd61-813823cce048"
      },
      "source": [
        "survived_Fare.mean()"
      ],
      "execution_count": null,
      "outputs": [
        {
          "output_type": "execute_result",
          "data": {
            "text/plain": [
              "48.39540760233917"
            ]
          },
          "metadata": {
            "tags": []
          },
          "execution_count": 65
        }
      ]
    },
    {
      "cell_type": "markdown",
      "metadata": {
        "id": "wb-HrsZeeygx"
      },
      "source": [
        "표준편차 계산"
      ]
    },
    {
      "cell_type": "code",
      "metadata": {
        "colab": {
          "base_uri": "https://localhost:8080/"
        },
        "id": "qlUMIH9peygy",
        "outputId": "50bfae64-a57e-4264-ef92-f8925a32dc2c"
      },
      "source": [
        "survived_Fare.std()"
      ],
      "execution_count": null,
      "outputs": [
        {
          "output_type": "execute_result",
          "data": {
            "text/plain": [
              "66.59699811829472"
            ]
          },
          "metadata": {
            "tags": []
          },
          "execution_count": 67
        }
      ]
    },
    {
      "cell_type": "code",
      "metadata": {
        "colab": {
          "base_uri": "https://localhost:8080/"
        },
        "id": "lOSi3BIRMV8y",
        "outputId": "3ef5fd6c-d29d-457e-d61d-f7d21eea385f"
      },
      "source": [
        "survived_Fare.mean() + survived_Fare.std()*2"
      ],
      "execution_count": null,
      "outputs": [
        {
          "output_type": "execute_result",
          "data": {
            "text/plain": [
              "181.5894038389286"
            ]
          },
          "metadata": {
            "tags": []
          },
          "execution_count": 70
        }
      ]
    }
  ]
}