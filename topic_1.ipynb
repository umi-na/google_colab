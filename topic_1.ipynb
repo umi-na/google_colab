{
  "nbformat": 4,
  "nbformat_minor": 0,
  "metadata": {
    "colab": {
      "provenance": [],
      "include_colab_link": true
    },
    "kernelspec": {
      "name": "python3",
      "display_name": "Python 3"
    }
  },
  "cells": [
    {
      "cell_type": "markdown",
      "metadata": {
        "id": "view-in-github",
        "colab_type": "text"
      },
      "source": [
        "<a href=\"https://colab.research.google.com/github/umi-na/google_colab/blob/main/topic_1.ipynb\" target=\"_parent\"><img src=\"https://colab.research.google.com/assets/colab-badge.svg\" alt=\"Open In Colab\"/></a>"
      ]
    },
    {
      "cell_type": "markdown",
      "metadata": {
        "id": "fAgs2Pf8BWuC"
      },
      "source": [
        "# 토픽 #1: Google Colab 사용법 학습 및 Python 기초 복습\n",
        "\n",
        "Colab 실습 시작 전, 이 노트북의 **복사본을 자신의 구글 드라이브에 저장**함: Colab 메뉴에서 \"File\" >> \"Save a Copy in Drive\". \"Save a Copy\" 메뉴 선택 시 \"Copy of topic#1.ipynb\" 복사본이 구글 드라이브의 'Colab Notebook' 폴더에 저장됨. 그리고 본사본이 새 브라우저 창에 열림.\n"
      ]
    },
    {
      "cell_type": "markdown",
      "metadata": {
        "id": "juUbbhcJEb6O"
      },
      "source": [
        "## 구글 드라이버 마운트하기\n",
        "\n"
      ]
    },
    {
      "cell_type": "markdown",
      "metadata": {
        "id": "7be2qXa_IduN"
      },
      "source": [
        "1. 먼저 '/content/drive' 디렉토리에 무엇이 있는지 확인함. 해당  디렉토리가 없어야함."
      ]
    },
    {
      "cell_type": "code",
      "metadata": {
        "id": "titogbcnG8iY",
        "colab": {
          "base_uri": "https://localhost:8080/"
        },
        "outputId": "ea806ffa-a66d-441f-bb53-f6bb5606382a"
      },
      "source": [
        "!ls /content/drive"
      ],
      "execution_count": null,
      "outputs": [
        {
          "output_type": "stream",
          "text": [
            "ls: cannot access '/content/drive': No such file or directory\n"
          ],
          "name": "stdout"
        }
      ]
    },
    {
      "cell_type": "markdown",
      "metadata": {
        "id": "QBEHMQUiLnQz"
      },
      "source": [
        "2. '/content/drive' 디렉토리에 구글 드라이버를 마운트함. 코드 실행 시 아래와 같이 인증 코드를 입력하라는 메시지가 표시됨. URL(웹사이트 주소)를 클릭하여 스트리밍 권한을 부여하면 인증 코드가 제공됨. 해당 코드를 복사하여 콘솔 창에 붙여 넣으면 마운트가 완료됨 (붙여넣기 후 'Enter'를 누름). \n",
        "\n",
        "  ```\n",
        "  Go to this URL in a browser: https://accounts..생략...\n",
        "\n",
        "  Enter your authorization code:\n",
        "  [                  ]\n",
        "  Mounted at /content/drive\n",
        "  ```"
      ]
    },
    {
      "cell_type": "code",
      "metadata": {
        "id": "V0IPlVJZPWRa",
        "colab": {
          "base_uri": "https://localhost:8080/"
        },
        "outputId": "189051a5-0702-4738-c9f8-15854a68409c"
      },
      "source": [
        "from google.colab import drive\n",
        "\n",
        "drive.mount('/content/drive')"
      ],
      "execution_count": null,
      "outputs": [
        {
          "output_type": "stream",
          "text": [
            "Mounted at /content/drive\n"
          ],
          "name": "stdout"
        }
      ]
    },
    {
      "cell_type": "markdown",
      "metadata": {
        "id": "jJZ3bbsL7FJN"
      },
      "source": [
        "또는 아래 그림처럼 간단하게 오른쪽 탭에서 \"Files\" 아이콘 >> \"Mount Drive\" 아이콘을 클릭하면 됨.\n",
        "\n",
        "![Click Mount Drive](https://drive.google.com/uc?export=view&id=1EFmI6N20zoJtV62tPq_OPgyw6NTMW7Tg) "
      ]
    },
    {
      "cell_type": "markdown",
      "metadata": {
        "id": "321mHDG6He-N"
      },
      "source": [
        "3. '/ content / drive /' 디렉토리를 다시 확인함. 성공적으로 마운트된 경우 구글 드라이브 폴더(예: 'My Drive')가 표시되어야 함."
      ]
    },
    {
      "cell_type": "code",
      "metadata": {
        "id": "vn8FhtpxG2P5",
        "colab": {
          "base_uri": "https://localhost:8080/",
          "height": 34
        },
        "outputId": "698f0fc7-7e20-4e75-de24-31ae1f1bb537"
      },
      "source": [
        "!ls /content/drive/"
      ],
      "execution_count": null,
      "outputs": [
        {
          "output_type": "stream",
          "text": [
            "'My Drive'\n"
          ],
          "name": "stdout"
        }
      ]
    },
    {
      "cell_type": "markdown",
      "metadata": {
        "id": "CT40guXRDd_i"
      },
      "source": [
        "구글 드라이브에서 데이터를 읽고 쓰는 방법만 다뤘음. 다른 외부 소스에서 파일을 읽고 쓸수도 있음. 예를 들어 로컬 파일 시스템에서 파일을 불러오거나 저장할 수 있음. 자세한 내용은 \"[외부 데이터: 로컬 파일, 드라이브, 스프레드 시트, 클라우드 저장소](https://colab.research.google.com/notebooks/io.ipynb)\" Colab 튜토리얼 가이드를 참조.\n"
      ]
    },
    {
      "cell_type": "markdown",
      "metadata": {
        "id": "jVYDk0OKMY9U"
      },
      "source": [
        "* 마운트된 구글 드라이브와 코랩의 연결 끊기"
      ]
    },
    {
      "cell_type": "code",
      "metadata": {
        "id": "Xsy_D3MpL2IO",
        "colab": {
          "base_uri": "https://localhost:8080/"
        },
        "outputId": "210f50a1-7b8b-4fd6-c90f-ebc171fac626"
      },
      "source": [
        "from google.colab import drive\n",
        "\n",
        "drive.flush_and_unmount()"
      ],
      "execution_count": null,
      "outputs": [
        {
          "output_type": "stream",
          "text": [
            "Drive not mounted, so nothing to flush and unmount.\n"
          ],
          "name": "stdout"
        }
      ]
    },
    {
      "cell_type": "markdown",
      "metadata": {
        "id": "xfeBe8T1DCbQ"
      },
      "source": [
        "## 구글 드라이브의 파일 다루기\n",
        "\n",
        "마운트가 성공적으로 완료되면 (1) 구글 드라이브의 파일을 탐색하거나, 구글 드라이버에 (2) 폴더를 생성하거나, (3) 파일을 읽고 쓸수가 있음."
      ]
    },
    {
      "cell_type": "markdown",
      "metadata": {
        "id": "SolC23X_Yj0-"
      },
      "source": [
        "### 파일 탐색\n"
      ]
    },
    {
      "cell_type": "markdown",
      "metadata": {
        "id": "gmYSdybmAmYI"
      },
      "source": [
        "\n",
        "#### 수작업으로 파일 탐색\n",
        "\n",
        "![Click Mount Drive](https://drive.google.com/uc?export=view&id=16hD47qknbzhctLan_IqoxbiW0rDW9Q0_) "
      ]
    },
    {
      "cell_type": "markdown",
      "metadata": {
        "id": "ZL9MK5yCAe6h"
      },
      "source": [
        "#### 코드로 자동 파일 탐색"
      ]
    },
    {
      "cell_type": "markdown",
      "metadata": {
        "id": "5qhJWciPBAhP"
      },
      "source": [
        "* 특정 경로에 있는 모든 파일/폴더 탐색. 단 탐색 시 하부 경로는 고려하지 않음\n"
      ]
    },
    {
      "cell_type": "code",
      "metadata": {
        "id": "vplTMqYyAoTV",
        "colab": {
          "base_uri": "https://localhost:8080/"
        },
        "outputId": "dc271f75-ce92-429f-87a4-d8e3259ed881"
      },
      "source": [
        "import os \n",
        "\n",
        "directory = '/content/'\n",
        "\n",
        "for file in os.listdir(directory): \n",
        "  print(os.path.join(directory, file))"
      ],
      "execution_count": null,
      "outputs": [
        {
          "output_type": "stream",
          "text": [
            "/content/.config\n",
            "/content/sample_data\n"
          ],
          "name": "stdout"
        }
      ]
    },
    {
      "cell_type": "code",
      "metadata": {
        "id": "8iuKAfDuBbTf",
        "colab": {
          "base_uri": "https://localhost:8080/"
        },
        "outputId": "ca65c0a5-f76e-4814-a48f-5508df0739f7"
      },
      "source": [
        "import os \n",
        "\n",
        "directory = '/content/sample_data'\n",
        "\n",
        "for file in os.listdir(directory):\n",
        "  file_path = os.path.join(directory, file)\n",
        "  if os.path.isfile(file_path): \n",
        "    print(file_path)"
      ],
      "execution_count": null,
      "outputs": [
        {
          "output_type": "stream",
          "text": [
            "/content/sample_data/anscombe.json\n",
            "/content/sample_data/README.md\n",
            "/content/sample_data/mnist_train_small.csv\n",
            "/content/sample_data/california_housing_train.csv\n",
            "/content/sample_data/california_housing_test.csv\n",
            "/content/sample_data/mnist_test.csv\n"
          ],
          "name": "stdout"
        }
      ]
    },
    {
      "cell_type": "markdown",
      "metadata": {
        "id": "x-ESrQMeCMGX"
      },
      "source": [
        "* 하부 경로를 포함하여 특정 경로에 있는 모든 파일/폴더 탐색."
      ]
    },
    {
      "cell_type": "code",
      "metadata": {
        "id": "LKI97u8UCMQg",
        "colab": {
          "base_uri": "https://localhost:8080/"
        },
        "outputId": "babaa2f9-d6ac-4452-a50f-0cf8cf07da5b"
      },
      "source": [
        "import os \n",
        "\n",
        "for root, dirs, files in os.walk(\"/content/\"): \n",
        "  for dir in dirs: \n",
        "      print(os.path.join(root, dir))\n",
        "\n",
        "  for file in files: \n",
        "      print(os.path.join(root, file))"
      ],
      "execution_count": null,
      "outputs": [
        {
          "output_type": "stream",
          "text": [
            "/content/.config\n",
            "/content/sample_data\n",
            "/content/.config/logs\n",
            "/content/.config/configurations\n",
            "/content/.config/config_sentinel\n",
            "/content/.config/.last_update_check.json\n",
            "/content/.config/.last_survey_prompt.yaml\n",
            "/content/.config/.last_opt_in_prompt.yaml\n",
            "/content/.config/gce\n",
            "/content/.config/active_config\n",
            "/content/.config/.metricsUUID\n",
            "/content/.config/logs/2020.11.06\n",
            "/content/.config/logs/2020.11.06/17.29.50.665666.log\n",
            "/content/.config/logs/2020.11.06/17.30.05.534498.log\n",
            "/content/.config/logs/2020.11.06/17.30.26.350934.log\n",
            "/content/.config/logs/2020.11.06/17.30.27.059027.log\n",
            "/content/.config/logs/2020.11.06/17.30.11.233615.log\n",
            "/content/.config/logs/2020.11.06/17.29.30.377972.log\n",
            "/content/.config/configurations/config_default\n",
            "/content/sample_data/anscombe.json\n",
            "/content/sample_data/README.md\n",
            "/content/sample_data/mnist_train_small.csv\n",
            "/content/sample_data/california_housing_train.csv\n",
            "/content/sample_data/california_housing_test.csv\n",
            "/content/sample_data/mnist_test.csv\n"
          ],
          "name": "stdout"
        }
      ]
    },
    {
      "cell_type": "markdown",
      "metadata": {
        "id": "bMOdWP3mFj4k"
      },
      "source": [
        "#### 폴더/파일 존재여부 확임"
      ]
    },
    {
      "cell_type": "code",
      "metadata": {
        "id": "UdH6uedmF22h",
        "colab": {
          "base_uri": "https://localhost:8080/"
        },
        "outputId": "5320412a-e82c-42c1-b901-1fe5aa2eac76"
      },
      "source": [
        "import os \n",
        "\n",
        "folder_directory = '/content/drive/My Drive/Data Science/'\n",
        "\n",
        "os.path.exists(folder_directory)"
      ],
      "execution_count": null,
      "outputs": [
        {
          "output_type": "execute_result",
          "data": {
            "text/plain": [
              "False"
            ]
          },
          "metadata": {
            "tags": []
          },
          "execution_count": 23
        }
      ]
    },
    {
      "cell_type": "markdown",
      "metadata": {
        "id": "RiScfaoZfl4Y"
      },
      "source": [
        "### 폴더 생성/삭제"
      ]
    },
    {
      "cell_type": "markdown",
      "metadata": {
        "id": "dIaFi5mtGM4W"
      },
      "source": [
        "#### 폴더 생성"
      ]
    },
    {
      "cell_type": "markdown",
      "metadata": {
        "id": "MnRJTo-gGPxy"
      },
      "source": [
        "* 하부 폴더는 생성하지 않음"
      ]
    },
    {
      "cell_type": "code",
      "metadata": {
        "id": "r0nkL6XwFdCh",
        "colab": {
          "base_uri": "https://localhost:8080/",
          "height": 34
        },
        "outputId": "96d5d984-ce8c-4882-c9f4-43dd170b0319"
      },
      "source": [
        "import os \n",
        "\n",
        "folder_directory = '/content/drive/My Drive/Data Science/'\n",
        "\n",
        "if not os.path.exists(folder_directory):\n",
        "  os.mkdir(folder_directory)"
      ],
      "execution_count": null,
      "outputs": [
        {
          "output_type": "stream",
          "text": [
            "Great Job!!!\n"
          ],
          "name": "stdout"
        }
      ]
    },
    {
      "cell_type": "markdown",
      "metadata": {
        "id": "aUer9JaVGS2T"
      },
      "source": [
        "* 존재하지 않는 하부 폴더도 생성함"
      ]
    },
    {
      "cell_type": "code",
      "metadata": {
        "id": "TEjtCsfyGS_r"
      },
      "source": [
        "import os \n",
        "\n",
        "folder_directory = '/content/drive/My Drive/Data Science/'\n",
        "\n",
        "os.makedirs(folder_directory)"
      ],
      "execution_count": null,
      "outputs": []
    },
    {
      "cell_type": "markdown",
      "metadata": {
        "id": "h1CV_ub7GBcM"
      },
      "source": [
        "#### 폴더 삭제"
      ]
    },
    {
      "cell_type": "code",
      "metadata": {
        "id": "NE60_SH2Ha9a"
      },
      "source": [
        "import os \n",
        "\n",
        "os.rmdir('/content/drive/My Drive/Data Science/')"
      ],
      "execution_count": null,
      "outputs": []
    },
    {
      "cell_type": "markdown",
      "metadata": {
        "id": "kSL1K3HqHg4j"
      },
      "source": [
        "### 파일 쓰기/읽기"
      ]
    },
    {
      "cell_type": "markdown",
      "metadata": {
        "id": "HAPKB1DiJOfa"
      },
      "source": [
        "#### 파일 쓰기\n",
        "'/content/drive/My Drive/Sensor Data Science/output' 폴더에 \"hello.py\" 파일을 씀.\n",
        "\n",
        ">*hello.py*\n",
        "```\n",
        "def say():\n",
        "  print(\"Hello world!\")\n",
        "```"
      ]
    },
    {
      "cell_type": "code",
      "metadata": {
        "id": "_Z7d1kI_LKIh"
      },
      "source": [
        "# Create “Sensor Data Science/output” folder if not exists \n",
        "if not os.path.exists('/content/drive/My Drive/Data Science/output'):\n",
        "  os.mkdir('/content/drive/My Drive/Data Science/output')\n",
        "\n",
        "hellopy_directory = '/content/drive/My Drive/Data Science/output/hello.py'\n",
        "\n",
        "# Save file\n",
        "with open(hellopy_directory, 'w') as f:\n",
        "  f.write('def say():\\n\\tprint(\"Hello world!\")')"
      ],
      "execution_count": null,
      "outputs": []
    },
    {
      "cell_type": "markdown",
      "metadata": {
        "id": "RXYyG2S6JTkq"
      },
      "source": [
        "#### 파일 읽기\n",
        "방금 저장한 *hello.py*를 읽음"
      ]
    },
    {
      "cell_type": "code",
      "metadata": {
        "id": "BkY_U90yLhxl",
        "colab": {
          "base_uri": "https://localhost:8080/",
          "height": 51
        },
        "outputId": "a330359b-7438-496c-c8dd-16417938f0be"
      },
      "source": [
        "with open(hellopy_directory, 'r') as f:\n",
        "    print(f.read())"
      ],
      "execution_count": null,
      "outputs": [
        {
          "output_type": "stream",
          "text": [
            "def say():\n",
            "\tprint(\"Hello world!\")\n"
          ],
          "name": "stdout"
        }
      ]
    },
    {
      "cell_type": "markdown",
      "metadata": {
        "id": "AAGcD3tTIP8R"
      },
      "source": [
        "#### 파일 삭제"
      ]
    },
    {
      "cell_type": "code",
      "metadata": {
        "id": "s8vhmXskIVkZ"
      },
      "source": [
        "import os \n",
        "\n",
        "os.remove(\"demofile.txt\")"
      ],
      "execution_count": null,
      "outputs": []
    },
    {
      "cell_type": "markdown",
      "metadata": {
        "id": "SRJEuGANIbMJ"
      },
      "source": [
        "# 실습 2\n",
        "\n",
        "* 다음 형식의 “information.csv” 파일 생성: “<이름>,<학번>, <학과>,<이메일>,<핸드폰>”\n",
        "\n",
        "* 파일을 구글 드라이버의 다음 경로에 저장: ‘/content/drive/My Drive/Data Science/\n",
        "\n",
        "* 저장된 파일을 읽어서 각 정보를 개별 줄에 프린트 \n"
      ]
    },
    {
      "cell_type": "code",
      "metadata": {
        "id": "L_0VSSWXIexV"
      },
      "source": [
        "if not os.path.exists('/content/drive/My Drive/Data Science/output'):\n",
        "  os.makedir('/content/drive/My Drive/Data Science/output')\n",
        "\n",
        "csv_directory = '/content/drive/My Drive/Data Science/output/information.csv'\n",
        "\n",
        "\n",
        "with open(csv_directory, 'w') as f:\n",
        "  f.write('김아욱,20145044,컴퓨터공학과,kimauk@kangwon.ac.kr,010-9968-8196')\n",
        "\n",
        "with open(hellopy_directory, 'r') as f:\n",
        "  content = f.read()\n",
        "  for column in content.split(','):\n",
        "    print(column)\n"
      ],
      "execution_count": null,
      "outputs": []
    }
  ]
}