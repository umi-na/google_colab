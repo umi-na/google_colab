{
  "nbformat": 4,
  "nbformat_minor": 0,
  "metadata": {
    "colab": {
      "provenance": [],
      "collapsed_sections": [
        "XF9HcJrnh0S4",
        "kh0Yrjv66J60"
      ],
      "include_colab_link": true
    },
    "kernelspec": {
      "name": "python3",
      "display_name": "Python 3"
    },
    "widgets": {
      "application/vnd.jupyter.widget-state+json": {
        "40c9cad3ee144bdb9b18bccc68103bc2": {
          "model_module": "@jupyter-widgets/controls",
          "model_name": "IntSliderModel",
          "state": {
            "_view_name": "IntSliderView",
            "style": "IPY_MODEL_14afcf240cd04a17a43f9fe167b0e30d",
            "_dom_classes": [],
            "description": "",
            "step": 1,
            "_model_name": "IntSliderModel",
            "orientation": "horizontal",
            "max": 35,
            "_view_module": "@jupyter-widgets/controls",
            "_model_module_version": "1.5.0",
            "value": 3,
            "_view_count": null,
            "disabled": false,
            "_view_module_version": "1.5.0",
            "min": 0,
            "continuous_update": true,
            "readout_format": "d",
            "description_tooltip": null,
            "readout": true,
            "_model_module": "@jupyter-widgets/controls",
            "layout": "IPY_MODEL_5964b12771ee453984fd16f332cf4ea0"
          },
          "model_module_version": "1.5.0"
        },
        "14afcf240cd04a17a43f9fe167b0e30d": {
          "model_module": "@jupyter-widgets/controls",
          "model_name": "SliderStyleModel",
          "state": {
            "_view_name": "StyleView",
            "handle_color": null,
            "_model_name": "SliderStyleModel",
            "description_width": "",
            "_view_module": "@jupyter-widgets/base",
            "_model_module_version": "1.5.0",
            "_view_count": null,
            "_view_module_version": "1.2.0",
            "_model_module": "@jupyter-widgets/controls"
          },
          "model_module_version": "1.5.0"
        },
        "5964b12771ee453984fd16f332cf4ea0": {
          "model_module": "@jupyter-widgets/base",
          "model_name": "LayoutModel",
          "state": {
            "_view_name": "LayoutView",
            "grid_template_rows": null,
            "right": null,
            "justify_content": null,
            "_view_module": "@jupyter-widgets/base",
            "overflow": null,
            "_model_module_version": "1.2.0",
            "_view_count": null,
            "flex_flow": null,
            "width": null,
            "min_width": null,
            "border": null,
            "align_items": null,
            "bottom": null,
            "_model_module": "@jupyter-widgets/base",
            "top": null,
            "grid_column": null,
            "overflow_y": null,
            "overflow_x": null,
            "grid_auto_flow": null,
            "grid_area": null,
            "grid_template_columns": null,
            "flex": null,
            "_model_name": "LayoutModel",
            "justify_items": null,
            "grid_row": null,
            "max_height": null,
            "align_content": null,
            "visibility": null,
            "align_self": null,
            "height": null,
            "min_height": null,
            "padding": null,
            "grid_auto_rows": null,
            "grid_gap": null,
            "max_width": null,
            "order": null,
            "_view_module_version": "1.2.0",
            "grid_template_areas": null,
            "object_position": null,
            "object_fit": null,
            "grid_auto_columns": null,
            "margin": null,
            "display": null,
            "left": null
          },
          "model_module_version": "1.2.0"
        }
      }
    }
  },
  "cells": [
    {
      "cell_type": "markdown",
      "metadata": {
        "id": "view-in-github",
        "colab_type": "text"
      },
      "source": [
        "<a href=\"https://colab.research.google.com/github/umi-na/google_colab/blob/main/topic_3.ipynb\" target=\"_parent\"><img src=\"https://colab.research.google.com/assets/colab-badge.svg\" alt=\"Open In Colab\"/></a>"
      ]
    },
    {
      "cell_type": "markdown",
      "metadata": {
        "id": "XwY0R5XR8U1c"
      },
      "source": [
        "# 토픽 #3: 데이터 수집 - 데이터 읽기/병합/제거\n",
        "\n",
        "Colab 실습 시작 전, 이 노트북의 **복사본을 자신의 구글 드라이브에 저장**함: Colab 메뉴에서 \"File\" >> \"Save a Copy in Drive\". \"Save a Copy\" 메뉴 선택 시 \"Copy of topic#3.ipynb\" 복사본이 구글 드라이브의 'Colab Notebook' 폴더에 저장됨. 그리고 본사본이 새 브라우저 창에 열림."
      ]
    },
    {
      "cell_type": "markdown",
      "metadata": {
        "id": "XF9HcJrnh0S4"
      },
      "source": [
        "# 데이터 수집\n",
        "![CSV Screenshot](https://drive.google.com/uc?export=view&id=18oV5qlzX63XJonj9HNJjn4FWg-9yCKt-) "
      ]
    },
    {
      "cell_type": "markdown",
      "metadata": {
        "id": "kh0Yrjv66J60"
      },
      "source": [
        "# 수업 목표\n",
        "* 데이터 읽기\n",
        "\n",
        "* 데이터 병합\n",
        "\n",
        "* 데이터 삭제"
      ]
    },
    {
      "cell_type": "markdown",
      "metadata": {
        "id": "6V6ZIwjT8jdS"
      },
      "source": [
        "# 데이터 읽기\n",
        "* 데이터 수집 단계에서 \"데이터 읽기/쓰기\"는 가장 기본/기초 과정 중 한개임\n",
        "\n",
        "* Pandas라이브러리를 활용하여 {CSV, Excel, JSON, HTML} 파일을 읽는 법에 대해 배우겠음\n",
        "\n",
        "* 이해들 돋기 위해 타이타닉 탑습객 데이터를 활용하여 파일 읽기에 대해 배우겠음"
      ]
    },
    {
      "cell_type": "markdown",
      "metadata": {
        "id": "Uc50ZmHGc7pj"
      },
      "source": [
        "## 타이타닉 탑습객 - 예시 데이터 소개"
      ]
    },
    {
      "cell_type": "markdown",
      "metadata": {
        "id": "Czb-6v7DCWfl"
      },
      "source": [
        "* [Kaggle](https://www.kaggle.com/)의 [타이타닉 탁습객 데이터](https://www.kaggle.com/c/titanic/data)를 활용해서 Pandas라이브러리로 읽어오는 법을 배우겠음\n",
        "\n",
        "* 본 수업을 위해 탑습객 데이터를 조금 수정하여 {CSV, Excel, JSON}파일로 변형하였음\n",
        "\n",
        "* 본 수업에서는 변형된 파일을 사용함([변형된 파일 다운로드 링크](https://drive.google.com/drive/folders/1KpfVquLkXBRByHmpwCvxHYpbpj7sebki?usp=sharing))\n",
        "\n",
        "* 타이타닉 탁습객 데이터는 아래와 같은 정보가 기록되어 있음\n",
        "\n",
        "컬럼 이름|\t설명|\t컬럼값 설명\n",
        "---| ---| ---\n",
        "PassengerId| 탑승객 번호| \n",
        "Survived|\t생존유무|\t0 = 사망, 1 = 생존\n",
        "pclass|\t티켓 글래스|\t1 = 1등석, 2 = 2등석, 3 = 3등석\n",
        "Sex|\t성별| Female = 여성, Male = 남성\t\n",
        "Age|\t만 나이 | 태어난지 1년 미만으면(만 나이 < 0) 소수로 표현\n",
        "Ticket|\t티켓 번호|\t\n",
        "Fare|\t티켓 가격|\t\n",
        "Cabin|\t객실 번호|\t\n",
        "Embarked|\t탑승 항구|\tC = 셰르부르(프랑스 서북부 항구), Q = 퀸즈타운(아일랜드 남부의 항구), S = 사우샘프턴 (영국 남부 항구)\n",
        "\n",
        "* 변형된 데이터 파일을 다운받아 구글 드라이브에 업로드하여 사용하면 됨"
      ]
    },
    {
      "cell_type": "markdown",
      "metadata": {
        "id": "9ENr1DwkGkuS"
      },
      "source": [
        "## 구글 드라이브 폴더 경로 설정\n",
        "\n",
        "\n",
        "\n",
        "* 아래 root_path의 스트링값은 파일이 있는 구글 드라이브 폴더 경로를 나타냄 \n",
        "\n",
        "* 자신에게 맞게 구글 드라이브 폴더 경로를 변경하여 사용하면 됨"
      ]
    },
    {
      "cell_type": "code",
      "metadata": {
        "colab": {
          "base_uri": "https://localhost:8080/"
        },
        "id": "Kr8ZNuL6y7kq",
        "outputId": "f24ed351-419d-4c2b-9c43-fb34d99f6612"
      },
      "source": [
        "from google.colab import drive\n",
        "drive.mount('/content/drive')"
      ],
      "execution_count": null,
      "outputs": [
        {
          "output_type": "stream",
          "text": [
            "Mounted at /content/drive\n"
          ],
          "name": "stdout"
        }
      ]
    },
    {
      "cell_type": "code",
      "metadata": {
        "id": "Ves74CaBaNLo"
      },
      "source": [
        "root_path = '/content/drive/MyDrive/Colab Notebooks/Colab/wk3_data'"
      ],
      "execution_count": null,
      "outputs": []
    },
    {
      "cell_type": "markdown",
      "metadata": {
        "id": "EV4QJB7j8mJ6"
      },
      "source": [
        "## CSV 파일 읽기/쓰기"
      ]
    },
    {
      "cell_type": "markdown",
      "metadata": {
        "id": "NlhjpsuPmSV7"
      },
      "source": [
        "### CSV 파일 읽기"
      ]
    },
    {
      "cell_type": "markdown",
      "metadata": {
        "id": "Op_d5Kp6a5Fo"
      },
      "source": [
        "![CSV Screenshot](https://drive.google.com/uc?export=view&id=1Z8K_TSH-K7DrPBEqi06VbhhCc5gkGv_Q) \n",
        "\n",
        "* [pandas.read_csv](https://pandas.pydata.org/pandas-docs/stable/reference/api/pandas.read_csv.html) 메소드를 사용하여 CSV 파일을 DataFrame으로 읽어올 수 있음\n",
        "\n",
        "* pandas.read_csv 메소드에 파일경로를 입력값으로 넣으면 됨\n",
        "\n",
        "* 아래 코드는 메소드를 사용하여 타이타닉 탑승객 정보 CSV 파일 (i.e., '*titanic.csv*')을 읽음\n",
        "\n",
        "* [os.path.join](https://docs.python.org/3/library/os.path.html)(경로#1, 경로#2...) 메소드는 입력된 모든 경로를 합쳐 한개의 경로로 만들어 반환함"
      ]
    },
    {
      "cell_type": "code",
      "metadata": {
        "colab": {
          "base_uri": "https://localhost:8080/",
          "height": 35
        },
        "id": "pDmzz4xg41mC",
        "outputId": "368b7e9d-759a-4cd8-89ff-b3bf2dcb73e7"
      },
      "source": [
        "path.join(root_path,'titanic.csv') #root_path+'titanic.csv'를 사용해도 되긴 하지만 os별로 /가 어떻게 붙을지(//나 \\로 붙는 경우가 있다) 모르기때문에 path.join을 써주는 것이 좋다"
      ],
      "execution_count": null,
      "outputs": [
        {
          "output_type": "execute_result",
          "data": {
            "application/vnd.google.colaboratory.intrinsic+json": {
              "type": "string"
            },
            "text/plain": [
              "'/content/drive/MyDrive/wk3_data/titanic.csv'"
            ]
          },
          "metadata": {
            "tags": []
          },
          "execution_count": 6
        }
      ]
    },
    {
      "cell_type": "code",
      "metadata": {
        "colab": {
          "base_uri": "https://localhost:8080/",
          "height": 212
        },
        "id": "9-kxKoCK8iSP",
        "outputId": "a6f08eef-b822-4f41-edbc-c082a0020472"
      },
      "source": [
        "import pandas as pd\n",
        "from os import path\n",
        "\n",
        "df = pd.read_csv(path.join(root_path,'titanic.csv'))\n",
        "df.head() #어떤 DataFrame의 첫 다섯 개의 정보를 보여줌"
      ],
      "execution_count": null,
      "outputs": [
        {
          "output_type": "execute_result",
          "data": {
            "text/html": [
              "<div>\n",
              "<style scoped>\n",
              "    .dataframe tbody tr th:only-of-type {\n",
              "        vertical-align: middle;\n",
              "    }\n",
              "\n",
              "    .dataframe tbody tr th {\n",
              "        vertical-align: top;\n",
              "    }\n",
              "\n",
              "    .dataframe thead th {\n",
              "        text-align: right;\n",
              "    }\n",
              "</style>\n",
              "<table border=\"1\" class=\"dataframe\">\n",
              "  <thead>\n",
              "    <tr style=\"text-align: right;\">\n",
              "      <th></th>\n",
              "      <th>PassengerId</th>\n",
              "      <th>Survived</th>\n",
              "      <th>Pclass</th>\n",
              "      <th>Sex</th>\n",
              "      <th>Age</th>\n",
              "      <th>Ticket</th>\n",
              "      <th>Fare</th>\n",
              "      <th>Cabin</th>\n",
              "      <th>Embarked</th>\n",
              "    </tr>\n",
              "  </thead>\n",
              "  <tbody>\n",
              "    <tr>\n",
              "      <th>0</th>\n",
              "      <td>1</td>\n",
              "      <td>0</td>\n",
              "      <td>3</td>\n",
              "      <td>male</td>\n",
              "      <td>22.0</td>\n",
              "      <td>A/5 21171</td>\n",
              "      <td>7.2500</td>\n",
              "      <td>NaN</td>\n",
              "      <td>S</td>\n",
              "    </tr>\n",
              "    <tr>\n",
              "      <th>1</th>\n",
              "      <td>2</td>\n",
              "      <td>1</td>\n",
              "      <td>1</td>\n",
              "      <td>female</td>\n",
              "      <td>38.0</td>\n",
              "      <td>PC 17599</td>\n",
              "      <td>71.2833</td>\n",
              "      <td>C85</td>\n",
              "      <td>C</td>\n",
              "    </tr>\n",
              "    <tr>\n",
              "      <th>2</th>\n",
              "      <td>3</td>\n",
              "      <td>1</td>\n",
              "      <td>3</td>\n",
              "      <td>female</td>\n",
              "      <td>26.0</td>\n",
              "      <td>STON/O2. 3101282</td>\n",
              "      <td>7.9250</td>\n",
              "      <td>NaN</td>\n",
              "      <td>S</td>\n",
              "    </tr>\n",
              "    <tr>\n",
              "      <th>3</th>\n",
              "      <td>4</td>\n",
              "      <td>1</td>\n",
              "      <td>1</td>\n",
              "      <td>female</td>\n",
              "      <td>35.0</td>\n",
              "      <td>113803</td>\n",
              "      <td>53.1000</td>\n",
              "      <td>C123</td>\n",
              "      <td>S</td>\n",
              "    </tr>\n",
              "    <tr>\n",
              "      <th>4</th>\n",
              "      <td>5</td>\n",
              "      <td>0</td>\n",
              "      <td>3</td>\n",
              "      <td>male</td>\n",
              "      <td>35.0</td>\n",
              "      <td>373450</td>\n",
              "      <td>8.0500</td>\n",
              "      <td>NaN</td>\n",
              "      <td>S</td>\n",
              "    </tr>\n",
              "  </tbody>\n",
              "</table>\n",
              "</div>"
            ],
            "text/plain": [
              "   PassengerId  Survived  Pclass  ...     Fare  Cabin Embarked\n",
              "0            1         0       3  ...   7.2500    NaN        S\n",
              "1            2         1       1  ...  71.2833    C85        C\n",
              "2            3         1       3  ...   7.9250    NaN        S\n",
              "3            4         1       1  ...  53.1000   C123        S\n",
              "4            5         0       3  ...   8.0500    NaN        S\n",
              "\n",
              "[5 rows x 9 columns]"
            ]
          },
          "metadata": {
            "tags": []
          },
          "execution_count": 5
        }
      ]
    },
    {
      "cell_type": "markdown",
      "metadata": {
        "id": "I2dz3d6kpB8y"
      },
      "source": [
        "* CSV 데이터의 구분자(separator)가 쉼표(',')가 아니면 구분자 설정이 필요함\n",
        "\n",
        "* 아래 그림은 '|'을 구분자로 사용하는 CSV 데이터('*titanic_sep.csv*') 예시임\n",
        "\n",
        "![CSV Screenshot](https://drive.google.com/uc?export=view&id=1jJn2z65CUs7gHtpRkXeRtFTQTYmGWL90)\n",
        "\n",
        "* pandas.read_csv 메소드의 sep 변수를 활용하여 구분자를 설정하여 CSV파일을 읽어 올 수 있음\n",
        "\n",
        "* 먼저 '|'을 구분자로 사용하는 CSV 데이터('*titanic_sep.csv*')를 sep 변수 설정 없이 읽어 보겠음\n",
        "\n",
        "* 총 9개의 컬럼이 있지만 DataFrame에 컬럼이 한개만 생성된 것을 알 수 있음\n"
      ]
    },
    {
      "cell_type": "code",
      "metadata": {
        "id": "e4fKOfxrpCHC",
        "colab": {
          "base_uri": "https://localhost:8080/",
          "height": 202
        },
        "outputId": "66ad7a08-462c-4c03-da38-ce80b4c5253e"
      },
      "source": [
        "df = pd.read_csv(path.join(root_path,'titanic_sep.csv'))\n",
        "df.head()"
      ],
      "execution_count": null,
      "outputs": [
        {
          "output_type": "execute_result",
          "data": {
            "text/html": [
              "<div>\n",
              "<style scoped>\n",
              "    .dataframe tbody tr th:only-of-type {\n",
              "        vertical-align: middle;\n",
              "    }\n",
              "\n",
              "    .dataframe tbody tr th {\n",
              "        vertical-align: top;\n",
              "    }\n",
              "\n",
              "    .dataframe thead th {\n",
              "        text-align: right;\n",
              "    }\n",
              "</style>\n",
              "<table border=\"1\" class=\"dataframe\">\n",
              "  <thead>\n",
              "    <tr style=\"text-align: right;\">\n",
              "      <th></th>\n",
              "      <th>PassengerId|Survived|Pclass|Sex|Age|Ticket|Fare|Cabin|Embarked</th>\n",
              "    </tr>\n",
              "  </thead>\n",
              "  <tbody>\n",
              "    <tr>\n",
              "      <th>0</th>\n",
              "      <td>1|0|3|male|22|A/5 21171|7.25||S</td>\n",
              "    </tr>\n",
              "    <tr>\n",
              "      <th>1</th>\n",
              "      <td>2|1|1|female|38|PC 17599|71.2833|C85|C</td>\n",
              "    </tr>\n",
              "    <tr>\n",
              "      <th>2</th>\n",
              "      <td>3|1|3|female|26|STON/O2. 3101282|7.925||S</td>\n",
              "    </tr>\n",
              "    <tr>\n",
              "      <th>3</th>\n",
              "      <td>4|1|1|female|35|113803|53.1|C123|S</td>\n",
              "    </tr>\n",
              "    <tr>\n",
              "      <th>4</th>\n",
              "      <td>5|0|3|male|35|373450|8.05||S</td>\n",
              "    </tr>\n",
              "  </tbody>\n",
              "</table>\n",
              "</div>"
            ],
            "text/plain": [
              "  PassengerId|Survived|Pclass|Sex|Age|Ticket|Fare|Cabin|Embarked\n",
              "0                    1|0|3|male|22|A/5 21171|7.25||S            \n",
              "1             2|1|1|female|38|PC 17599|71.2833|C85|C            \n",
              "2          3|1|3|female|26|STON/O2. 3101282|7.925||S            \n",
              "3                 4|1|1|female|35|113803|53.1|C123|S            \n",
              "4                       5|0|3|male|35|373450|8.05||S            "
            ]
          },
          "metadata": {
            "tags": []
          },
          "execution_count": 13
        }
      ]
    },
    {
      "cell_type": "markdown",
      "metadata": {
        "id": "ICdGgTO19y6T"
      },
      "source": [
        "\n",
        "\n",
        "* 다음으로 sep 변수를 '|'로 설정하여 읽어 보겠음. 9개의 컬럼이 잘 생성된 것을 알 수 있음"
      ]
    },
    {
      "cell_type": "code",
      "metadata": {
        "colab": {
          "base_uri": "https://localhost:8080/",
          "height": 202
        },
        "id": "DpeZqUbb9ypo",
        "outputId": "0bfdb57d-623d-4f65-8c48-f1ea25be0ea2"
      },
      "source": [
        "df = pd.read_csv(path.join(root_path,'titanic_sep.csv'), sep='|') #sep을 사용하여 |를 구분자로 사용함\n",
        "df.head()"
      ],
      "execution_count": null,
      "outputs": [
        {
          "output_type": "execute_result",
          "data": {
            "text/html": [
              "<div>\n",
              "<style scoped>\n",
              "    .dataframe tbody tr th:only-of-type {\n",
              "        vertical-align: middle;\n",
              "    }\n",
              "\n",
              "    .dataframe tbody tr th {\n",
              "        vertical-align: top;\n",
              "    }\n",
              "\n",
              "    .dataframe thead th {\n",
              "        text-align: right;\n",
              "    }\n",
              "</style>\n",
              "<table border=\"1\" class=\"dataframe\">\n",
              "  <thead>\n",
              "    <tr style=\"text-align: right;\">\n",
              "      <th></th>\n",
              "      <th>PassengerId</th>\n",
              "      <th>Survived</th>\n",
              "      <th>Pclass</th>\n",
              "      <th>Sex</th>\n",
              "      <th>Age</th>\n",
              "      <th>Ticket</th>\n",
              "      <th>Fare</th>\n",
              "      <th>Cabin</th>\n",
              "      <th>Embarked</th>\n",
              "    </tr>\n",
              "  </thead>\n",
              "  <tbody>\n",
              "    <tr>\n",
              "      <th>0</th>\n",
              "      <td>1</td>\n",
              "      <td>0</td>\n",
              "      <td>3</td>\n",
              "      <td>male</td>\n",
              "      <td>22.0</td>\n",
              "      <td>A/5 21171</td>\n",
              "      <td>7.2500</td>\n",
              "      <td>NaN</td>\n",
              "      <td>S</td>\n",
              "    </tr>\n",
              "    <tr>\n",
              "      <th>1</th>\n",
              "      <td>2</td>\n",
              "      <td>1</td>\n",
              "      <td>1</td>\n",
              "      <td>female</td>\n",
              "      <td>38.0</td>\n",
              "      <td>PC 17599</td>\n",
              "      <td>71.2833</td>\n",
              "      <td>C85</td>\n",
              "      <td>C</td>\n",
              "    </tr>\n",
              "    <tr>\n",
              "      <th>2</th>\n",
              "      <td>3</td>\n",
              "      <td>1</td>\n",
              "      <td>3</td>\n",
              "      <td>female</td>\n",
              "      <td>26.0</td>\n",
              "      <td>STON/O2. 3101282</td>\n",
              "      <td>7.9250</td>\n",
              "      <td>NaN</td>\n",
              "      <td>S</td>\n",
              "    </tr>\n",
              "    <tr>\n",
              "      <th>3</th>\n",
              "      <td>4</td>\n",
              "      <td>1</td>\n",
              "      <td>1</td>\n",
              "      <td>female</td>\n",
              "      <td>35.0</td>\n",
              "      <td>113803</td>\n",
              "      <td>53.1000</td>\n",
              "      <td>C123</td>\n",
              "      <td>S</td>\n",
              "    </tr>\n",
              "    <tr>\n",
              "      <th>4</th>\n",
              "      <td>5</td>\n",
              "      <td>0</td>\n",
              "      <td>3</td>\n",
              "      <td>male</td>\n",
              "      <td>35.0</td>\n",
              "      <td>373450</td>\n",
              "      <td>8.0500</td>\n",
              "      <td>NaN</td>\n",
              "      <td>S</td>\n",
              "    </tr>\n",
              "  </tbody>\n",
              "</table>\n",
              "</div>"
            ],
            "text/plain": [
              "   PassengerId  Survived  Pclass  ...     Fare  Cabin Embarked\n",
              "0            1         0       3  ...   7.2500    NaN        S\n",
              "1            2         1       1  ...  71.2833    C85        C\n",
              "2            3         1       3  ...   7.9250    NaN        S\n",
              "3            4         1       1  ...  53.1000   C123        S\n",
              "4            5         0       3  ...   8.0500    NaN        S\n",
              "\n",
              "[5 rows x 9 columns]"
            ]
          },
          "metadata": {
            "tags": []
          },
          "execution_count": 6
        }
      ]
    },
    {
      "cell_type": "markdown",
      "metadata": {
        "id": "SuafL5n0pYQh"
      },
      "source": [
        "### CSV 파일 쓰기\n",
        "\n",
        "* [DataFrame.to_csv](https://pandas.pydata.org/pandas-docs/stable/reference/api/pandas.DataFrame.to_csv.html) 메소드로 DataFrame을 CSV파일로 저장할 수 있음\n",
        "\n",
        "* 아래 코드는 df1, df2를 CSV파일로 저장함"
      ]
    },
    {
      "cell_type": "code",
      "metadata": {
        "id": "ynh_H3sRpb00"
      },
      "source": [
        "df1 = pd.DataFrame({'A': ['df1_A0', 'df1_A1', 'df1_A2'],\n",
        "                    'B': ['df1_B0', 'df1_B1', 'df1_B2'],\n",
        "                    'C': ['df1_C0', 'df1_C1', 'df1_C2']},\n",
        "                   index=[0, 1, 2])\n",
        "df2 = pd.DataFrame({'A': ['df2_A2', 'df2_A3', 'df2_A4'],\n",
        "                    'B': ['df2_B2', 'df2_B3', 'df2_B4'],\n",
        "                    'C': ['df2_C2', 'df2_C3', 'df2_C4']},\n",
        "                   index=[2, 3, 4])"
      ],
      "execution_count": null,
      "outputs": []
    },
    {
      "cell_type": "markdown",
      "metadata": {
        "id": "jmLVNry5B-hr"
      },
      "source": [
        "* DataFrame.to_csv 메소드에 파일 경로(e.g., '*.../df1.csv*')를 넣으면 됨"
      ]
    },
    {
      "cell_type": "code",
      "metadata": {
        "id": "oMJXxLMgpk18"
      },
      "source": [
        "df1.to_csv(path.join(root_path,'df1.csv'))\n",
        "df2.to_csv(path.join(root_path,'df2.csv'))"
      ],
      "execution_count": null,
      "outputs": []
    },
    {
      "cell_type": "markdown",
      "metadata": {
        "id": "b1x0KCdRrS2D"
      },
      "source": [
        "* 오른쪽 3번째 탭으로 저장된 CSV 파일(i.e., df1.csv, df2.csv) 확인 가능\n",
        "\n",
        "![Excel Screenshot](https://drive.google.com/uc?export=view&id=1NmU1iT31VKS6261_TC8PionBdBIPZkWT) \n"
      ]
    },
    {
      "cell_type": "markdown",
      "metadata": {
        "id": "FrLjXUA1vVXw"
      },
      "source": [
        "* 오른쪽 3번째 탭으로 파일 이름 더블 클릭 시 왼쪽 탭에 파일 데이터를 표시함. 데이터를 표시할 수 없는 파일은 다운로드됨\n",
        "* CSV 파일(e.g., df1.csv) 클릭 시 왼쪽 탭에 파일 데이터를 테이블로 표시함\n",
        "\n",
        "![Excel Screenshot](https://drive.google.com/uc?export=view&id=1Pw40anRF-X1OkWzBsxw6tn5_wfIxHHPO) "
      ]
    },
    {
      "cell_type": "markdown",
      "metadata": {
        "id": "mw0x9zYcY-oD"
      },
      "source": [
        "## Excel 파일 읽기"
      ]
    },
    {
      "cell_type": "markdown",
      "metadata": {
        "id": "v-77hRuvcimC"
      },
      "source": [
        "### 엑셀 읽기 (기본)\n",
        "![Excel Screenshot](https://drive.google.com/uc?export=view&id=1W03Va3J6wwq2wrC2iT8zFHm1etGHh5oF) \n",
        "\n",
        "* [pandas.read_excel](https://pandas.pydata.org/pandas-docs/stable/reference/api/pandas.read_excel.html) 메소드를 사용하여 excel 파일을 DataFrame으로 읽어올 수 있음\n",
        "\n",
        "* pandas.read_excel 메소드에 파일경로를 입력값으로 넣으면 됨\n",
        "\n",
        "* 아래 코드는 메소드를 사용하여 타이타닉 탑승객 정보 excel 파일 (i.e., '*titanic.xlsx*')을 읽음"
      ]
    },
    {
      "cell_type": "code",
      "metadata": {
        "colab": {
          "base_uri": "https://localhost:8080/",
          "height": 602
        },
        "id": "DJxbmpnZY-zo",
        "outputId": "55a1561b-a5fb-4f9c-ca0e-04c3a648302e"
      },
      "source": [
        "df = pd.read_excel(path.join(root_path,'titanic.xlsx'))\n",
        "df.head()"
      ],
      "execution_count": null,
      "outputs": [
        {
          "output_type": "execute_result",
          "data": {
            "text/html": [
              "<div>\n",
              "<style scoped>\n",
              "    .dataframe tbody tr th:only-of-type {\n",
              "        vertical-align: middle;\n",
              "    }\n",
              "\n",
              "    .dataframe tbody tr th {\n",
              "        vertical-align: top;\n",
              "    }\n",
              "\n",
              "    .dataframe thead th {\n",
              "        text-align: right;\n",
              "    }\n",
              "</style>\n",
              "<table border=\"1\" class=\"dataframe\">\n",
              "  <thead>\n",
              "    <tr style=\"text-align: right;\">\n",
              "      <th></th>\n",
              "      <th>PassengerId</th>\n",
              "      <th>Survived</th>\n",
              "      <th>Pclass</th>\n",
              "      <th>Name</th>\n",
              "      <th>Sex</th>\n",
              "      <th>Age</th>\n",
              "      <th>SibSp</th>\n",
              "      <th>Parch</th>\n",
              "      <th>Ticket</th>\n",
              "      <th>Fare</th>\n",
              "      <th>Cabin</th>\n",
              "      <th>Embarked</th>\n",
              "    </tr>\n",
              "  </thead>\n",
              "  <tbody>\n",
              "    <tr>\n",
              "      <th>0</th>\n",
              "      <td>2</td>\n",
              "      <td>1</td>\n",
              "      <td>1</td>\n",
              "      <td>Cumings, Mrs. John Bradley (Florence Briggs Th...</td>\n",
              "      <td>female</td>\n",
              "      <td>38.0</td>\n",
              "      <td>1</td>\n",
              "      <td>0</td>\n",
              "      <td>PC 17599</td>\n",
              "      <td>71.2833</td>\n",
              "      <td>C85</td>\n",
              "      <td>C</td>\n",
              "    </tr>\n",
              "    <tr>\n",
              "      <th>1</th>\n",
              "      <td>4</td>\n",
              "      <td>1</td>\n",
              "      <td>1</td>\n",
              "      <td>Futrelle, Mrs. Jacques Heath (Lily May Peel)</td>\n",
              "      <td>female</td>\n",
              "      <td>35.0</td>\n",
              "      <td>1</td>\n",
              "      <td>0</td>\n",
              "      <td>113803</td>\n",
              "      <td>53.1000</td>\n",
              "      <td>C123</td>\n",
              "      <td>S</td>\n",
              "    </tr>\n",
              "    <tr>\n",
              "      <th>2</th>\n",
              "      <td>12</td>\n",
              "      <td>1</td>\n",
              "      <td>1</td>\n",
              "      <td>Bonnell, Miss. Elizabeth</td>\n",
              "      <td>female</td>\n",
              "      <td>58.0</td>\n",
              "      <td>0</td>\n",
              "      <td>0</td>\n",
              "      <td>113783</td>\n",
              "      <td>26.5500</td>\n",
              "      <td>C103</td>\n",
              "      <td>S</td>\n",
              "    </tr>\n",
              "    <tr>\n",
              "      <th>3</th>\n",
              "      <td>32</td>\n",
              "      <td>1</td>\n",
              "      <td>1</td>\n",
              "      <td>Spencer, Mrs. William Augustus (Marie Eugenie)</td>\n",
              "      <td>female</td>\n",
              "      <td>NaN</td>\n",
              "      <td>1</td>\n",
              "      <td>0</td>\n",
              "      <td>PC 17569</td>\n",
              "      <td>146.5208</td>\n",
              "      <td>B78</td>\n",
              "      <td>C</td>\n",
              "    </tr>\n",
              "    <tr>\n",
              "      <th>4</th>\n",
              "      <td>53</td>\n",
              "      <td>1</td>\n",
              "      <td>1</td>\n",
              "      <td>Harper, Mrs. Henry Sleeper (Myna Haxtun)</td>\n",
              "      <td>female</td>\n",
              "      <td>49.0</td>\n",
              "      <td>1</td>\n",
              "      <td>0</td>\n",
              "      <td>PC 17572</td>\n",
              "      <td>76.7292</td>\n",
              "      <td>D33</td>\n",
              "      <td>C</td>\n",
              "    </tr>\n",
              "  </tbody>\n",
              "</table>\n",
              "</div>"
            ],
            "text/plain": [
              "   PassengerId  Survived  Pclass  ...      Fare Cabin  Embarked\n",
              "0            2         1       1  ...   71.2833   C85         C\n",
              "1            4         1       1  ...   53.1000  C123         S\n",
              "2           12         1       1  ...   26.5500  C103         S\n",
              "3           32         1       1  ...  146.5208   B78         C\n",
              "4           53         1       1  ...   76.7292   D33         C\n",
              "\n",
              "[5 rows x 12 columns]"
            ]
          },
          "metadata": {
            "tags": []
          },
          "execution_count": 7
        }
      ]
    },
    {
      "cell_type": "markdown",
      "metadata": {
        "id": "0fiKxJl9aHHh"
      },
      "source": [
        "### 시트 선택\n",
        "\n",
        "* 엑셀 파일에 시트 페이지가 2개 이상 있을 수 있음. 이 경우 첫 페지 외 다른 페이지를 읽고 오고 싶으면 추가 설정이 필요함\n",
        "\n",
        "* 시트 페이지 번호 또는 시트 이름을 pandas.read_excel 메소드에 설정해야 함\n",
        "\n",
        "* 시트 페이지 번호 또는 시트 이름을 설정하는 법을 배우겠음"
      ]
    },
    {
      "cell_type": "markdown",
      "metadata": {
        "id": "FsIgVyP1cGvw"
      },
      "source": [
        "#### 번호로 선택\n",
        "\n",
        "![Excel Screenshot](https://drive.google.com/uc?export=view&id=1HzPhs0TbZv_Eovb1zHE797QGEhhbRFCL)\n",
        "\n",
        "* 윗 그림은 각 시트 페이지에 대응되는 시트 번호를 보려주고 있음\n",
        "\n",
        "* 시트 번호는 0으로 시작함. 예컨대 총 3 페이지가 있으면 마지막 시트 번호는 2임\n",
        "\n",
        "* 아래 코드는 Pandas.read_excel의 sheet_name을 '1'로 설정하여 시트번호 2번째 페이지(시트 번호 1)를 읽음"
      ]
    },
    {
      "cell_type": "code",
      "metadata": {
        "colab": {
          "base_uri": "https://localhost:8080/",
          "height": 202
        },
        "id": "aNP_gVn9aHTA",
        "outputId": "f9759d41-7f3d-4ac8-c0b7-046e0fb1c5e4"
      },
      "source": [
        "df = pd.read_excel(path.join(root_path,'titanic.xlsx'), sheet_name=1) #두번째 시트의 정보를 가져옴\n",
        "df.head()"
      ],
      "execution_count": null,
      "outputs": [
        {
          "output_type": "execute_result",
          "data": {
            "text/html": [
              "<div>\n",
              "<style scoped>\n",
              "    .dataframe tbody tr th:only-of-type {\n",
              "        vertical-align: middle;\n",
              "    }\n",
              "\n",
              "    .dataframe tbody tr th {\n",
              "        vertical-align: top;\n",
              "    }\n",
              "\n",
              "    .dataframe thead th {\n",
              "        text-align: right;\n",
              "    }\n",
              "</style>\n",
              "<table border=\"1\" class=\"dataframe\">\n",
              "  <thead>\n",
              "    <tr style=\"text-align: right;\">\n",
              "      <th></th>\n",
              "      <th>PassengerId</th>\n",
              "      <th>Survived</th>\n",
              "      <th>Pclass</th>\n",
              "      <th>Sex</th>\n",
              "      <th>Age</th>\n",
              "      <th>Ticket</th>\n",
              "      <th>Fare</th>\n",
              "      <th>Cabin</th>\n",
              "      <th>Embarked</th>\n",
              "    </tr>\n",
              "  </thead>\n",
              "  <tbody>\n",
              "    <tr>\n",
              "      <th>0</th>\n",
              "      <td>10</td>\n",
              "      <td>1</td>\n",
              "      <td>2</td>\n",
              "      <td>female</td>\n",
              "      <td>14.0</td>\n",
              "      <td>237736</td>\n",
              "      <td>30.0708</td>\n",
              "      <td>NaN</td>\n",
              "      <td>C</td>\n",
              "    </tr>\n",
              "    <tr>\n",
              "      <th>1</th>\n",
              "      <td>16</td>\n",
              "      <td>1</td>\n",
              "      <td>2</td>\n",
              "      <td>female</td>\n",
              "      <td>55.0</td>\n",
              "      <td>248706</td>\n",
              "      <td>16.0000</td>\n",
              "      <td>NaN</td>\n",
              "      <td>S</td>\n",
              "    </tr>\n",
              "    <tr>\n",
              "      <th>2</th>\n",
              "      <td>18</td>\n",
              "      <td>1</td>\n",
              "      <td>2</td>\n",
              "      <td>male</td>\n",
              "      <td>NaN</td>\n",
              "      <td>244373</td>\n",
              "      <td>13.0000</td>\n",
              "      <td>NaN</td>\n",
              "      <td>S</td>\n",
              "    </tr>\n",
              "    <tr>\n",
              "      <th>3</th>\n",
              "      <td>21</td>\n",
              "      <td>0</td>\n",
              "      <td>2</td>\n",
              "      <td>male</td>\n",
              "      <td>35.0</td>\n",
              "      <td>239865</td>\n",
              "      <td>26.0000</td>\n",
              "      <td>NaN</td>\n",
              "      <td>S</td>\n",
              "    </tr>\n",
              "    <tr>\n",
              "      <th>4</th>\n",
              "      <td>22</td>\n",
              "      <td>1</td>\n",
              "      <td>2</td>\n",
              "      <td>male</td>\n",
              "      <td>34.0</td>\n",
              "      <td>248698</td>\n",
              "      <td>13.0000</td>\n",
              "      <td>D56</td>\n",
              "      <td>S</td>\n",
              "    </tr>\n",
              "  </tbody>\n",
              "</table>\n",
              "</div>"
            ],
            "text/plain": [
              "   PassengerId  Survived  Pclass     Sex   Age  Ticket     Fare Cabin Embarked\n",
              "0           10         1       2  female  14.0  237736  30.0708   NaN        C\n",
              "1           16         1       2  female  55.0  248706  16.0000   NaN        S\n",
              "2           18         1       2    male   NaN  244373  13.0000   NaN        S\n",
              "3           21         0       2    male  35.0  239865  26.0000   NaN        S\n",
              "4           22         1       2    male  34.0  248698  13.0000   D56        S"
            ]
          },
          "metadata": {
            "tags": []
          },
          "execution_count": 18
        }
      ]
    },
    {
      "cell_type": "markdown",
      "metadata": {
        "id": "8H8rNd1Oap19"
      },
      "source": [
        "#### 이름으로 선택\n",
        "![CSV Screenshot](https://drive.google.com/uc?export=view&id=1_O63OdH0V6KAcxq7yNI9qMAOgkXfrK_r) \n",
        "\n",
        "* sheet_name에 실제 페이지 이름을 설정하여 해당 페이지를 읽어 올 수 있음\n",
        "\n",
        "* 윗 그림은 각 시트 페이지의 시트 이름을 보여주고 있음\n",
        "\n",
        "* 아래 코드는 Pandas.read_excel의 sheet_name을 'Pclass3'으로 설정하여 3번째 페이지를 읽음\n"
      ]
    },
    {
      "cell_type": "code",
      "metadata": {
        "colab": {
          "base_uri": "https://localhost:8080/",
          "height": 383
        },
        "id": "vZppQRvNaj60",
        "outputId": "5ec59c62-5f7a-4d3b-a8d0-16e56749d6f3"
      },
      "source": [
        "df = pd.read_excel(path.join(root_path,'titanic.xlsx'), sheet_name='Pclass3') #시트 이름으로 가져옴\n",
        "df.head()"
      ],
      "execution_count": null,
      "outputs": [
        {
          "output_type": "execute_result",
          "data": {
            "text/html": [
              "<div>\n",
              "<style scoped>\n",
              "    .dataframe tbody tr th:only-of-type {\n",
              "        vertical-align: middle;\n",
              "    }\n",
              "\n",
              "    .dataframe tbody tr th {\n",
              "        vertical-align: top;\n",
              "    }\n",
              "\n",
              "    .dataframe thead th {\n",
              "        text-align: right;\n",
              "    }\n",
              "</style>\n",
              "<table border=\"1\" class=\"dataframe\">\n",
              "  <thead>\n",
              "    <tr style=\"text-align: right;\">\n",
              "      <th></th>\n",
              "      <th>PassengerId</th>\n",
              "      <th>Survived</th>\n",
              "      <th>Pclass</th>\n",
              "      <th>Name</th>\n",
              "      <th>Sex</th>\n",
              "      <th>Age</th>\n",
              "      <th>SibSp</th>\n",
              "      <th>Parch</th>\n",
              "      <th>Ticket</th>\n",
              "      <th>Fare</th>\n",
              "      <th>Cabin</th>\n",
              "      <th>Embarked</th>\n",
              "    </tr>\n",
              "  </thead>\n",
              "  <tbody>\n",
              "    <tr>\n",
              "      <th>0</th>\n",
              "      <td>1</td>\n",
              "      <td>0</td>\n",
              "      <td>3</td>\n",
              "      <td>Braund, Mr. Owen Harris</td>\n",
              "      <td>male</td>\n",
              "      <td>22.0</td>\n",
              "      <td>1</td>\n",
              "      <td>0</td>\n",
              "      <td>A/5 21171</td>\n",
              "      <td>7.2500</td>\n",
              "      <td>NaN</td>\n",
              "      <td>S</td>\n",
              "    </tr>\n",
              "    <tr>\n",
              "      <th>1</th>\n",
              "      <td>3</td>\n",
              "      <td>1</td>\n",
              "      <td>3</td>\n",
              "      <td>Heikkinen, Miss. Laina</td>\n",
              "      <td>female</td>\n",
              "      <td>26.0</td>\n",
              "      <td>0</td>\n",
              "      <td>0</td>\n",
              "      <td>STON/O2. 3101282</td>\n",
              "      <td>7.9250</td>\n",
              "      <td>NaN</td>\n",
              "      <td>S</td>\n",
              "    </tr>\n",
              "    <tr>\n",
              "      <th>2</th>\n",
              "      <td>5</td>\n",
              "      <td>0</td>\n",
              "      <td>3</td>\n",
              "      <td>Allen, Mr. William Henry</td>\n",
              "      <td>male</td>\n",
              "      <td>35.0</td>\n",
              "      <td>0</td>\n",
              "      <td>0</td>\n",
              "      <td>373450</td>\n",
              "      <td>8.0500</td>\n",
              "      <td>NaN</td>\n",
              "      <td>S</td>\n",
              "    </tr>\n",
              "    <tr>\n",
              "      <th>3</th>\n",
              "      <td>6</td>\n",
              "      <td>0</td>\n",
              "      <td>3</td>\n",
              "      <td>Moran, Mr. James</td>\n",
              "      <td>male</td>\n",
              "      <td>NaN</td>\n",
              "      <td>0</td>\n",
              "      <td>0</td>\n",
              "      <td>330877</td>\n",
              "      <td>8.4583</td>\n",
              "      <td>NaN</td>\n",
              "      <td>Q</td>\n",
              "    </tr>\n",
              "    <tr>\n",
              "      <th>4</th>\n",
              "      <td>8</td>\n",
              "      <td>0</td>\n",
              "      <td>3</td>\n",
              "      <td>Palsson, Master. Gosta Leonard</td>\n",
              "      <td>male</td>\n",
              "      <td>2.0</td>\n",
              "      <td>3</td>\n",
              "      <td>1</td>\n",
              "      <td>349909</td>\n",
              "      <td>21.0750</td>\n",
              "      <td>NaN</td>\n",
              "      <td>S</td>\n",
              "    </tr>\n",
              "  </tbody>\n",
              "</table>\n",
              "</div>"
            ],
            "text/plain": [
              "   PassengerId  Survived  Pclass  ...     Fare Cabin  Embarked\n",
              "0            1         0       3  ...   7.2500   NaN         S\n",
              "1            3         1       3  ...   7.9250   NaN         S\n",
              "2            5         0       3  ...   8.0500   NaN         S\n",
              "3            6         0       3  ...   8.4583   NaN         Q\n",
              "4            8         0       3  ...  21.0750   NaN         S\n",
              "\n",
              "[5 rows x 12 columns]"
            ]
          },
          "metadata": {
            "tags": []
          },
          "execution_count": 8
        }
      ]
    },
    {
      "cell_type": "markdown",
      "metadata": {
        "id": "o0DSwjpyeUnx"
      },
      "source": [
        "## JSON 파일 읽기\n",
        "![CSV Screenshot](https://drive.google.com/uc?export=view&id=1_HC_1KIMi2iTJXeeVqTwkHrE77mHCsE5) \n",
        "\n",
        "* CSV, Excel 파일 외 JSON, HTML, SQL, SPSS 등의 다른 유형의 파일도 읽어와 DataFrame으로 생성 할 수 있음\n",
        "\n",
        "* 아래 코드는 pandas.to_json 메소드로 JSON 파일('*titanic.json*')을 읽어와 DataFrame을 생성하는 예시 코드임\n"
      ]
    },
    {
      "cell_type": "code",
      "metadata": {
        "colab": {
          "base_uri": "https://localhost:8080/",
          "height": 219
        },
        "id": "FrAX_K9BkhXK",
        "outputId": "96769e07-d418-48b8-d866-e385606bc5ba"
      },
      "source": [
        "df = pd.read_json(path.join(root_path,'titanic.json'))\n",
        "df.head()"
      ],
      "execution_count": null,
      "outputs": [
        {
          "output_type": "execute_result",
          "data": {
            "text/html": [
              "<div>\n",
              "<style scoped>\n",
              "    .dataframe tbody tr th:only-of-type {\n",
              "        vertical-align: middle;\n",
              "    }\n",
              "\n",
              "    .dataframe tbody tr th {\n",
              "        vertical-align: top;\n",
              "    }\n",
              "\n",
              "    .dataframe thead th {\n",
              "        text-align: right;\n",
              "    }\n",
              "</style>\n",
              "<table border=\"1\" class=\"dataframe\">\n",
              "  <thead>\n",
              "    <tr style=\"text-align: right;\">\n",
              "      <th></th>\n",
              "      <th>PassengerId</th>\n",
              "      <th>Survived</th>\n",
              "      <th>Pclass</th>\n",
              "      <th>Sex</th>\n",
              "      <th>Age</th>\n",
              "      <th>Ticket</th>\n",
              "      <th>Fare</th>\n",
              "      <th>Cabin</th>\n",
              "      <th>Embarked</th>\n",
              "    </tr>\n",
              "  </thead>\n",
              "  <tbody>\n",
              "    <tr>\n",
              "      <th>0</th>\n",
              "      <td>1</td>\n",
              "      <td>0</td>\n",
              "      <td>3</td>\n",
              "      <td>male</td>\n",
              "      <td>22.0</td>\n",
              "      <td>A/5 21171</td>\n",
              "      <td>7.2500</td>\n",
              "      <td>None</td>\n",
              "      <td>S</td>\n",
              "    </tr>\n",
              "    <tr>\n",
              "      <th>1</th>\n",
              "      <td>2</td>\n",
              "      <td>1</td>\n",
              "      <td>1</td>\n",
              "      <td>female</td>\n",
              "      <td>38.0</td>\n",
              "      <td>PC 17599</td>\n",
              "      <td>71.2833</td>\n",
              "      <td>C85</td>\n",
              "      <td>C</td>\n",
              "    </tr>\n",
              "    <tr>\n",
              "      <th>2</th>\n",
              "      <td>3</td>\n",
              "      <td>1</td>\n",
              "      <td>3</td>\n",
              "      <td>female</td>\n",
              "      <td>26.0</td>\n",
              "      <td>STON/O2. 3101282</td>\n",
              "      <td>7.9250</td>\n",
              "      <td>None</td>\n",
              "      <td>S</td>\n",
              "    </tr>\n",
              "    <tr>\n",
              "      <th>3</th>\n",
              "      <td>4</td>\n",
              "      <td>1</td>\n",
              "      <td>1</td>\n",
              "      <td>female</td>\n",
              "      <td>35.0</td>\n",
              "      <td>113803</td>\n",
              "      <td>53.1000</td>\n",
              "      <td>C123</td>\n",
              "      <td>S</td>\n",
              "    </tr>\n",
              "    <tr>\n",
              "      <th>4</th>\n",
              "      <td>5</td>\n",
              "      <td>0</td>\n",
              "      <td>3</td>\n",
              "      <td>male</td>\n",
              "      <td>35.0</td>\n",
              "      <td>373450</td>\n",
              "      <td>8.0500</td>\n",
              "      <td>None</td>\n",
              "      <td>S</td>\n",
              "    </tr>\n",
              "  </tbody>\n",
              "</table>\n",
              "</div>"
            ],
            "text/plain": [
              "   PassengerId  Survived  Pclass  ...     Fare  Cabin Embarked\n",
              "0            1         0       3  ...   7.2500   None        S\n",
              "1            2         1       1  ...  71.2833    C85        C\n",
              "2            3         1       3  ...   7.9250   None        S\n",
              "3            4         1       1  ...  53.1000   C123        S\n",
              "4            5         0       3  ...   8.0500   None        S\n",
              "\n",
              "[5 rows x 9 columns]"
            ]
          },
          "metadata": {
            "tags": []
          },
          "execution_count": 20
        }
      ]
    },
    {
      "cell_type": "markdown",
      "metadata": {
        "id": "62NvQiE5hYs8"
      },
      "source": [
        "## 다른 유형의 파일 읽기"
      ]
    },
    {
      "cell_type": "markdown",
      "metadata": {
        "id": "cMXUkBi9ZTaJ"
      },
      "source": [
        "* 이전 코드와 유사하게 다른 유형의 파일도 읽을 수 있음.\n",
        "\n",
        "* 데이터 파일을 읽을 때 사용하는 메소드의 이름은 다음과 같은 패턴임: to_<데이터 확장자 이름 소문자> **(to가 아니라 read인 것 같다)**\n",
        "\n",
        "* 예컨대 아래 3개의 메소드는 HTML, SQL, SPSS 파일 유형을 읽을 때 사용하는 메소드임\n",
        "\n",
        " * pandas.to_html\n",
        "\n",
        " * pandas.to_sql\n",
        "\n",
        " * pandas.to_spss"
      ]
    },
    {
      "cell_type": "markdown",
      "metadata": {
        "id": "ySZkoGZ2iWTL"
      },
      "source": [
        "### HTML 파일 읽기\n",
        "\n",
        "* 예시로 pandas.to_html 메소드를 사용해서 HTML 파일('*titanic.html*')을 읽어 보겠음.\n",
        "\n",
        "* pandas.to_html은 HTML 데이터에 있는 테이블을 읽어와 DataFrame을 생성함\n",
        "\n",
        "* 아래 그림은 볼러올 HTML 파일인 *titanic.html*을 웹브라우저로 봤을 때의 스크린샷임\n",
        "\n",
        "![CSV Screenshot](https://drive.google.com/uc?export=view&id=1EJDBaZhrf0TXqbf-V4IB2pX0cfoEKyVV). \n",
        "\n",
        "* HTML 데이터에는 한개 이상의 테이블이 있을 수 있음. 따라서 이 메소드는 DataFrame을 담고 있는 list를 반환함\n",
        "\n",
        "* 윗 그림을 보면 테이블이 한개 있음. 따라서 아래 코드의 pandas.to_html는 길이가 1개인 리스트를 반환함"
      ]
    },
    {
      "cell_type": "code",
      "metadata": {
        "colab": {
          "base_uri": "https://localhost:8080/",
          "height": 257
        },
        "id": "oE_UQsJKZRz6",
        "outputId": "95f23837-c748-4977-da27-632cd6aec5e8"
      },
      "source": [
        "df = pd.read_html(path.join(root_path,'titanic.html'))\n",
        "df[0].head() #html안의 모든 테이블을 가져올 수 있기 때문에 html을 읽으면 리스트로 반환함"
      ],
      "execution_count": null,
      "outputs": [
        {
          "output_type": "execute_result",
          "data": {
            "text/html": [
              "<div>\n",
              "<style scoped>\n",
              "    .dataframe tbody tr th:only-of-type {\n",
              "        vertical-align: middle;\n",
              "    }\n",
              "\n",
              "    .dataframe tbody tr th {\n",
              "        vertical-align: top;\n",
              "    }\n",
              "\n",
              "    .dataframe thead th {\n",
              "        text-align: right;\n",
              "    }\n",
              "</style>\n",
              "<table border=\"1\" class=\"dataframe\">\n",
              "  <thead>\n",
              "    <tr style=\"text-align: right;\">\n",
              "      <th></th>\n",
              "      <th>Unnamed: 0</th>\n",
              "      <th>PassengerId</th>\n",
              "      <th>Survived</th>\n",
              "      <th>Pclass</th>\n",
              "      <th>Sex</th>\n",
              "      <th>Age</th>\n",
              "      <th>Ticket</th>\n",
              "      <th>Fare</th>\n",
              "      <th>Cabin</th>\n",
              "      <th>Embarked</th>\n",
              "    </tr>\n",
              "  </thead>\n",
              "  <tbody>\n",
              "    <tr>\n",
              "      <th>0</th>\n",
              "      <td>0</td>\n",
              "      <td>1</td>\n",
              "      <td>0</td>\n",
              "      <td>3</td>\n",
              "      <td>male</td>\n",
              "      <td>22.0</td>\n",
              "      <td>A/5 21171</td>\n",
              "      <td>7.2500</td>\n",
              "      <td>None</td>\n",
              "      <td>S</td>\n",
              "    </tr>\n",
              "    <tr>\n",
              "      <th>1</th>\n",
              "      <td>1</td>\n",
              "      <td>2</td>\n",
              "      <td>1</td>\n",
              "      <td>1</td>\n",
              "      <td>female</td>\n",
              "      <td>38.0</td>\n",
              "      <td>PC 17599</td>\n",
              "      <td>71.2833</td>\n",
              "      <td>C85</td>\n",
              "      <td>C</td>\n",
              "    </tr>\n",
              "    <tr>\n",
              "      <th>2</th>\n",
              "      <td>2</td>\n",
              "      <td>3</td>\n",
              "      <td>1</td>\n",
              "      <td>3</td>\n",
              "      <td>female</td>\n",
              "      <td>26.0</td>\n",
              "      <td>STON/O2. 3101282</td>\n",
              "      <td>7.9250</td>\n",
              "      <td>None</td>\n",
              "      <td>S</td>\n",
              "    </tr>\n",
              "    <tr>\n",
              "      <th>3</th>\n",
              "      <td>3</td>\n",
              "      <td>4</td>\n",
              "      <td>1</td>\n",
              "      <td>1</td>\n",
              "      <td>female</td>\n",
              "      <td>35.0</td>\n",
              "      <td>113803</td>\n",
              "      <td>53.1000</td>\n",
              "      <td>C123</td>\n",
              "      <td>S</td>\n",
              "    </tr>\n",
              "    <tr>\n",
              "      <th>4</th>\n",
              "      <td>4</td>\n",
              "      <td>5</td>\n",
              "      <td>0</td>\n",
              "      <td>3</td>\n",
              "      <td>male</td>\n",
              "      <td>35.0</td>\n",
              "      <td>373450</td>\n",
              "      <td>8.0500</td>\n",
              "      <td>None</td>\n",
              "      <td>S</td>\n",
              "    </tr>\n",
              "  </tbody>\n",
              "</table>\n",
              "</div>"
            ],
            "text/plain": [
              "   Unnamed: 0  PassengerId  Survived  ...     Fare Cabin  Embarked\n",
              "0           0            1         0  ...   7.2500  None         S\n",
              "1           1            2         1  ...  71.2833   C85         C\n",
              "2           2            3         1  ...   7.9250  None         S\n",
              "3           3            4         1  ...  53.1000  C123         S\n",
              "4           4            5         0  ...   8.0500  None         S\n",
              "\n",
              "[5 rows x 10 columns]"
            ]
          },
          "metadata": {
            "tags": []
          },
          "execution_count": 21
        }
      ]
    },
    {
      "cell_type": "markdown",
      "metadata": {
        "id": "5QglrODQkC1F"
      },
      "source": [
        "## 폴더 안의 모든 데이터 파일 읽기\n",
        "\n",
        "* 데이터 분석 작업을 하다보면 폴더에 있는 특정 유형의 모든 데이터 파일을 DataFrame으로 읽어와 리스트로 만드는 작업을 하는 경우가 많음\n",
        "\n",
        "* 아래 코드는 '.../splits/ '폴더 안에 있는 모든 CSV 파일을 DataFrame으로 읽어와 리스트로 만드는 코드임\n",
        "\n",
        "* [os.listdir](https://docs.python.org/3/library/os.html) 메소드는 첫주차에 \"자동 파일 탐색\"에서 다른 내용임. 기억이 나지 않는다면 [첫주차 colab](https://colab.research.google.com/drive/1-28UPcDO68IGnwZ0SeuG_jnvMQ--oL6E?usp=sharing) 참조"
      ]
    },
    {
      "cell_type": "code",
      "metadata": {
        "id": "bn43uRONm-o7"
      },
      "source": [
        "import os \n",
        "\n",
        "directory = os.path.join(root_path,'splits')\n",
        "\n",
        "df_list = []\n",
        "\n",
        "for file in os.listdir(directory):\n",
        "  file_path = os.path.join(directory, file)\n",
        "  if os.path.isfile(file_path) and '.csv' in file: \n",
        "    df = pd.read_csv(file_path)\n",
        "    df_list.append(df)"
      ],
      "execution_count": null,
      "outputs": []
    },
    {
      "cell_type": "markdown",
      "metadata": {
        "id": "DQ3bzaojqXeD"
      },
      "source": [
        "* 아래 코드는 반환된 list에서의 특정 index에 있는 DateFrame의 첫 데이터 5개을 보여주는 코드임. "
      ]
    },
    {
      "cell_type": "code",
      "metadata": {
        "colab": {
          "base_uri": "https://localhost:8080/",
          "height": 85,
          "referenced_widgets": [
            "40c9cad3ee144bdb9b18bccc68103bc2",
            "14afcf240cd04a17a43f9fe167b0e30d",
            "5964b12771ee453984fd16f332cf4ea0"
          ]
        },
        "id": "fgw8LPYNo3RY",
        "outputId": "21c368ef-3db4-487c-9c49-d8bdd501fc1b"
      },
      "source": [
        "import ipywidgets as widgets\n",
        "\n",
        "print('리스트 길이 = {:d}'.format(len(df_list)))\n",
        "print('보고 싶은 index 번호를 선택한 후 다음 코드를 수행하시오.')\n",
        "slider = widgets.IntSlider(value=0, max=(len(df_list)-1))\n",
        "display(slider)"
      ],
      "execution_count": null,
      "outputs": [
        {
          "output_type": "stream",
          "text": [
            "리스트 길이 = 36\n",
            "보고 싶은 index 번호를 선택한 후 다음 코드를 수행하시오.\n"
          ],
          "name": "stdout"
        },
        {
          "output_type": "display_data",
          "data": {
            "application/vnd.jupyter.widget-view+json": {
              "model_id": "40c9cad3ee144bdb9b18bccc68103bc2",
              "version_minor": 0,
              "version_major": 2
            },
            "text/plain": [
              "IntSlider(value=0, max=35)"
            ]
          },
          "metadata": {
            "tags": []
          }
        }
      ]
    },
    {
      "cell_type": "code",
      "metadata": {
        "colab": {
          "base_uri": "https://localhost:8080/",
          "height": 202
        },
        "id": "wB5gCYnGpmqD",
        "outputId": "41c8a4d0-ca68-44a6-b397-dfbdb1189598"
      },
      "source": [
        "df_list[slider.value].head()"
      ],
      "execution_count": null,
      "outputs": [
        {
          "output_type": "execute_result",
          "data": {
            "text/html": [
              "<div>\n",
              "<style scoped>\n",
              "    .dataframe tbody tr th:only-of-type {\n",
              "        vertical-align: middle;\n",
              "    }\n",
              "\n",
              "    .dataframe tbody tr th {\n",
              "        vertical-align: top;\n",
              "    }\n",
              "\n",
              "    .dataframe thead th {\n",
              "        text-align: right;\n",
              "    }\n",
              "</style>\n",
              "<table border=\"1\" class=\"dataframe\">\n",
              "  <thead>\n",
              "    <tr style=\"text-align: right;\">\n",
              "      <th></th>\n",
              "      <th>PassengerId</th>\n",
              "      <th>Embarked</th>\n",
              "    </tr>\n",
              "  </thead>\n",
              "  <tbody>\n",
              "    <tr>\n",
              "      <th>0</th>\n",
              "      <td>3</td>\n",
              "      <td>S</td>\n",
              "    </tr>\n",
              "    <tr>\n",
              "      <th>1</th>\n",
              "      <td>9</td>\n",
              "      <td>S</td>\n",
              "    </tr>\n",
              "    <tr>\n",
              "      <th>2</th>\n",
              "      <td>11</td>\n",
              "      <td>S</td>\n",
              "    </tr>\n",
              "    <tr>\n",
              "      <th>3</th>\n",
              "      <td>15</td>\n",
              "      <td>S</td>\n",
              "    </tr>\n",
              "    <tr>\n",
              "      <th>4</th>\n",
              "      <td>19</td>\n",
              "      <td>S</td>\n",
              "    </tr>\n",
              "  </tbody>\n",
              "</table>\n",
              "</div>"
            ],
            "text/plain": [
              "   PassengerId Embarked\n",
              "0            3        S\n",
              "1            9        S\n",
              "2           11        S\n",
              "3           15        S\n",
              "4           19        S"
            ]
          },
          "metadata": {
            "tags": []
          },
          "execution_count": 26
        }
      ]
    },
    {
      "cell_type": "markdown",
      "metadata": {
        "id": "oUCsoTi7pSO2"
      },
      "source": [
        "# 데이터 병합"
      ]
    },
    {
      "cell_type": "markdown",
      "metadata": {
        "id": "ZCCP4lrrmKkz"
      },
      "source": [
        "* 보통 데이터 수집 단계에 수집되는 데이터들은 다양함. 수집된 모든 데이터 파일을 병합하여 한개 데이터로 만드는 작업이 필요함\n",
        "\n",
        "*  아래 DataFrame df1, df2을 사용해서 데이터 병합 방법에 대해 배우겠음"
      ]
    },
    {
      "cell_type": "code",
      "metadata": {
        "id": "kbVsmHRK4n2u"
      },
      "source": [
        "import pandas as pd\n",
        "\n",
        "df1 = pd.DataFrame({'A': ['df1_A0', 'df1_A1', 'df1_A2'],\n",
        "                    'B': ['df1_B0', 'df1_B1', 'df1_B2'],\n",
        "                    'C': ['df1_C0', 'df1_C1', 'df1_C2']},\n",
        "                   index=[0, 1, 2])\n",
        "\n",
        "df2 = pd.DataFrame({'E': ['df2_E4', 'df2_E3', 'df2_E2'],\n",
        "                    'D': ['df2_D4', 'df2_D3', 'df2_D2'],\n",
        "                    'C': ['df1_C4', 'df1_C3', 'df1_C2']},\n",
        "                   index=[4, 3, 2])"
      ],
      "execution_count": null,
      "outputs": []
    },
    {
      "cell_type": "markdown",
      "metadata": {
        "id": "QK2aX3rQ8Jwd"
      },
      "source": [
        "## pandas.concat\n",
        "\n",
        "* [Pandas.concat](https://pandas.pydata.org/pandas-docs/stable/reference/api/pandas.concat.html)으로 여러 DataFrame을 한개로 병합하는 방법에 대해 배우겠음\n",
        "\n",
        "* 데이터를 병합하는 방식은 (1) index기준 병합과 (2) column 기준 병합으로 나누어짐\n",
        "\n",
        "* Index기준 병합은 index값 중복을 고려하지 않고 병합하는 방법으로 중복되는 column 이름이 있으면 해당되는 column의 모든 column 데이터들은 한개의 column으로 병함됨\n",
        "\n",
        "* Column 기준 병합은 column 이름 중복을 고려하지 않고 병합하는 방법으로 중복되는 index값이 있으면 해당되는 모든 index의 row 데이터들은 한개의 row로 병함됨\n"
      ]
    },
    {
      "cell_type": "markdown",
      "metadata": {
        "id": "7kp3hYe1nlny"
      },
      "source": [
        "### Index기준으로 데이터 병합\n",
        "![CSV Screenshot](https://drive.google.com/uc?export=view&id=1ydyUjNJq7vnFBL2n_XRvC7flI-YN_-ZX) \n"
      ]
    },
    {
      "cell_type": "markdown",
      "metadata": {
        "id": "p93bXRihEx4r"
      },
      "source": [
        "* Index 기준으로 여러 DataFrame을 한개로 병합하는 방법에 대해 먼저 배우겠음\n",
        "\n",
        "* 위의 그림과 같이 Index기준 병합은 index값 중복을 고려하지 않고 병합함\n",
        "\n",
        "* 만약 중복되는 column 이름이 있다면 해당되는 column의 모든 column 데이터들은 한개의 column으로 병함됨\n",
        "\n",
        "* 그림에서 보면 주황색 row 두개는 병합 후에도 그래도 있지만, 빨간색 column 두개는 한 column으로 병합되었음\n",
        "\n",
        "* 아래 코드는 Pandas.concat에 입력값으로 넣어진 DataFrame 리스트를 index기준으로 병합을 함\n",
        "\n",
        "* 병합된 DataFrame (i.e., result)를 보면 df1과 df2의 column name = C가 한개의 column으로 병합된 것을 알 수 있음"
      ]
    },
    {
      "cell_type": "code",
      "metadata": {
        "colab": {
          "base_uri": "https://localhost:8080/",
          "height": 233
        },
        "id": "JCNzfGpd5A5S",
        "outputId": "15fe149a-700a-40e6-84d2-11598008bab7"
      },
      "source": [
        "result = pd.concat([df1, df2])\n",
        "result"
      ],
      "execution_count": null,
      "outputs": [
        {
          "output_type": "execute_result",
          "data": {
            "text/html": [
              "<div>\n",
              "<style scoped>\n",
              "    .dataframe tbody tr th:only-of-type {\n",
              "        vertical-align: middle;\n",
              "    }\n",
              "\n",
              "    .dataframe tbody tr th {\n",
              "        vertical-align: top;\n",
              "    }\n",
              "\n",
              "    .dataframe thead th {\n",
              "        text-align: right;\n",
              "    }\n",
              "</style>\n",
              "<table border=\"1\" class=\"dataframe\">\n",
              "  <thead>\n",
              "    <tr style=\"text-align: right;\">\n",
              "      <th></th>\n",
              "      <th>A</th>\n",
              "      <th>B</th>\n",
              "      <th>C</th>\n",
              "      <th>E</th>\n",
              "      <th>D</th>\n",
              "    </tr>\n",
              "  </thead>\n",
              "  <tbody>\n",
              "    <tr>\n",
              "      <th>0</th>\n",
              "      <td>df1_A0</td>\n",
              "      <td>df1_B0</td>\n",
              "      <td>df1_C0</td>\n",
              "      <td>NaN</td>\n",
              "      <td>NaN</td>\n",
              "    </tr>\n",
              "    <tr>\n",
              "      <th>1</th>\n",
              "      <td>df1_A1</td>\n",
              "      <td>df1_B1</td>\n",
              "      <td>df1_C1</td>\n",
              "      <td>NaN</td>\n",
              "      <td>NaN</td>\n",
              "    </tr>\n",
              "    <tr>\n",
              "      <th>2</th>\n",
              "      <td>df1_A2</td>\n",
              "      <td>df1_B2</td>\n",
              "      <td>df1_C2</td>\n",
              "      <td>NaN</td>\n",
              "      <td>NaN</td>\n",
              "    </tr>\n",
              "    <tr>\n",
              "      <th>4</th>\n",
              "      <td>NaN</td>\n",
              "      <td>NaN</td>\n",
              "      <td>df1_C4</td>\n",
              "      <td>df2_E4</td>\n",
              "      <td>df2_D4</td>\n",
              "    </tr>\n",
              "    <tr>\n",
              "      <th>3</th>\n",
              "      <td>NaN</td>\n",
              "      <td>NaN</td>\n",
              "      <td>df1_C3</td>\n",
              "      <td>df2_E3</td>\n",
              "      <td>df2_D3</td>\n",
              "    </tr>\n",
              "    <tr>\n",
              "      <th>2</th>\n",
              "      <td>NaN</td>\n",
              "      <td>NaN</td>\n",
              "      <td>df1_C2</td>\n",
              "      <td>df2_E2</td>\n",
              "      <td>df2_D2</td>\n",
              "    </tr>\n",
              "  </tbody>\n",
              "</table>\n",
              "</div>"
            ],
            "text/plain": [
              "        A       B       C       E       D\n",
              "0  df1_A0  df1_B0  df1_C0     NaN     NaN\n",
              "1  df1_A1  df1_B1  df1_C1     NaN     NaN\n",
              "2  df1_A2  df1_B2  df1_C2     NaN     NaN\n",
              "4     NaN     NaN  df1_C4  df2_E4  df2_D4\n",
              "3     NaN     NaN  df1_C3  df2_E3  df2_D3\n",
              "2     NaN     NaN  df1_C2  df2_E2  df2_D2"
            ]
          },
          "metadata": {
            "tags": []
          },
          "execution_count": 30
        }
      ]
    },
    {
      "cell_type": "markdown",
      "metadata": {
        "id": "EPmHQpeXn-lw"
      },
      "source": [
        "* 위의 코드는 Pandas.concat의 axis 값을 '0'으로(axis=0) 했을 때와 병합 결과가 같음\n",
        "\n",
        "* axis 값은 병합 시 사용하는 기준을 설정할 때 사용하는 입력값임. 0은 index 기존 병합을 나타내면 1은 column 기준 병합을 나타냄\n",
        "\n",
        "* axis 값의 기본값이 0이기에 index 기존 병합을 고려할 때는 axis 값을 생략할 수 있음"
      ]
    },
    {
      "cell_type": "code",
      "metadata": {
        "colab": {
          "base_uri": "https://localhost:8080/",
          "height": 233
        },
        "id": "kV1c4hb35oLt",
        "outputId": "d87842b1-c0fc-4359-8921-797db95a6088"
      },
      "source": [
        "result = pd.concat([df1, df2], axis=0, sort=False) #axis가 0이라 index기준 병합이 됨\n",
        "result"
      ],
      "execution_count": null,
      "outputs": [
        {
          "output_type": "execute_result",
          "data": {
            "text/html": [
              "<div>\n",
              "<style scoped>\n",
              "    .dataframe tbody tr th:only-of-type {\n",
              "        vertical-align: middle;\n",
              "    }\n",
              "\n",
              "    .dataframe tbody tr th {\n",
              "        vertical-align: top;\n",
              "    }\n",
              "\n",
              "    .dataframe thead th {\n",
              "        text-align: right;\n",
              "    }\n",
              "</style>\n",
              "<table border=\"1\" class=\"dataframe\">\n",
              "  <thead>\n",
              "    <tr style=\"text-align: right;\">\n",
              "      <th></th>\n",
              "      <th>A</th>\n",
              "      <th>B</th>\n",
              "      <th>C</th>\n",
              "      <th>E</th>\n",
              "      <th>D</th>\n",
              "    </tr>\n",
              "  </thead>\n",
              "  <tbody>\n",
              "    <tr>\n",
              "      <th>0</th>\n",
              "      <td>df1_A0</td>\n",
              "      <td>df1_B0</td>\n",
              "      <td>df1_C0</td>\n",
              "      <td>NaN</td>\n",
              "      <td>NaN</td>\n",
              "    </tr>\n",
              "    <tr>\n",
              "      <th>1</th>\n",
              "      <td>df1_A1</td>\n",
              "      <td>df1_B1</td>\n",
              "      <td>df1_C1</td>\n",
              "      <td>NaN</td>\n",
              "      <td>NaN</td>\n",
              "    </tr>\n",
              "    <tr>\n",
              "      <th>2</th>\n",
              "      <td>df1_A2</td>\n",
              "      <td>df1_B2</td>\n",
              "      <td>df1_C2</td>\n",
              "      <td>NaN</td>\n",
              "      <td>NaN</td>\n",
              "    </tr>\n",
              "    <tr>\n",
              "      <th>4</th>\n",
              "      <td>NaN</td>\n",
              "      <td>NaN</td>\n",
              "      <td>df1_C4</td>\n",
              "      <td>df2_E4</td>\n",
              "      <td>df2_D4</td>\n",
              "    </tr>\n",
              "    <tr>\n",
              "      <th>3</th>\n",
              "      <td>NaN</td>\n",
              "      <td>NaN</td>\n",
              "      <td>df1_C3</td>\n",
              "      <td>df2_E3</td>\n",
              "      <td>df2_D3</td>\n",
              "    </tr>\n",
              "    <tr>\n",
              "      <th>2</th>\n",
              "      <td>NaN</td>\n",
              "      <td>NaN</td>\n",
              "      <td>df1_C2</td>\n",
              "      <td>df2_E2</td>\n",
              "      <td>df2_D2</td>\n",
              "    </tr>\n",
              "  </tbody>\n",
              "</table>\n",
              "</div>"
            ],
            "text/plain": [
              "        A       B       C       E       D\n",
              "0  df1_A0  df1_B0  df1_C0     NaN     NaN\n",
              "1  df1_A1  df1_B1  df1_C1     NaN     NaN\n",
              "2  df1_A2  df1_B2  df1_C2     NaN     NaN\n",
              "4     NaN     NaN  df1_C4  df2_E4  df2_D4\n",
              "3     NaN     NaN  df1_C3  df2_E3  df2_D3\n",
              "2     NaN     NaN  df1_C2  df2_E2  df2_D2"
            ]
          },
          "metadata": {
            "tags": []
          },
          "execution_count": 32
        }
      ]
    },
    {
      "cell_type": "markdown",
      "metadata": {
        "id": "a0Gwwwq2vXxQ"
      },
      "source": [
        "#### Column 정렬\n",
        "\n",
        "* 다음 코드는 sort값으로 True로 설정하여 column을 column name에 따라 정력함\n",
        "* 위의 코드 결과(column name: A, B, C, E, D)와 비교하여 column이 A, B, C, D, E 순으로 정열되어 있음을 할 수 있음"
      ]
    },
    {
      "cell_type": "code",
      "metadata": {
        "colab": {
          "base_uri": "https://localhost:8080/",
          "height": 225
        },
        "id": "xO0AmnLcvX5N",
        "outputId": "94486fd1-1568-44c1-f4a0-7b904f30248d"
      },
      "source": [
        "result = pd.concat([df1, df2], sort=True) #column이 알파벳 순으로 정렬 sort의 기본값은 false\n",
        "result"
      ],
      "execution_count": null,
      "outputs": [
        {
          "output_type": "execute_result",
          "data": {
            "text/html": [
              "<div>\n",
              "<style scoped>\n",
              "    .dataframe tbody tr th:only-of-type {\n",
              "        vertical-align: middle;\n",
              "    }\n",
              "\n",
              "    .dataframe tbody tr th {\n",
              "        vertical-align: top;\n",
              "    }\n",
              "\n",
              "    .dataframe thead th {\n",
              "        text-align: right;\n",
              "    }\n",
              "</style>\n",
              "<table border=\"1\" class=\"dataframe\">\n",
              "  <thead>\n",
              "    <tr style=\"text-align: right;\">\n",
              "      <th></th>\n",
              "      <th>A</th>\n",
              "      <th>B</th>\n",
              "      <th>C</th>\n",
              "      <th>D</th>\n",
              "      <th>E</th>\n",
              "    </tr>\n",
              "  </thead>\n",
              "  <tbody>\n",
              "    <tr>\n",
              "      <th>0</th>\n",
              "      <td>df1_A0</td>\n",
              "      <td>df1_B0</td>\n",
              "      <td>df1_C0</td>\n",
              "      <td>NaN</td>\n",
              "      <td>NaN</td>\n",
              "    </tr>\n",
              "    <tr>\n",
              "      <th>1</th>\n",
              "      <td>df1_A1</td>\n",
              "      <td>df1_B1</td>\n",
              "      <td>df1_C1</td>\n",
              "      <td>NaN</td>\n",
              "      <td>NaN</td>\n",
              "    </tr>\n",
              "    <tr>\n",
              "      <th>2</th>\n",
              "      <td>df1_A2</td>\n",
              "      <td>df1_B2</td>\n",
              "      <td>df1_C2</td>\n",
              "      <td>NaN</td>\n",
              "      <td>NaN</td>\n",
              "    </tr>\n",
              "    <tr>\n",
              "      <th>4</th>\n",
              "      <td>NaN</td>\n",
              "      <td>NaN</td>\n",
              "      <td>df1_C4</td>\n",
              "      <td>df2_D4</td>\n",
              "      <td>df2_E4</td>\n",
              "    </tr>\n",
              "    <tr>\n",
              "      <th>3</th>\n",
              "      <td>NaN</td>\n",
              "      <td>NaN</td>\n",
              "      <td>df1_C3</td>\n",
              "      <td>df2_D3</td>\n",
              "      <td>df2_E3</td>\n",
              "    </tr>\n",
              "    <tr>\n",
              "      <th>2</th>\n",
              "      <td>NaN</td>\n",
              "      <td>NaN</td>\n",
              "      <td>df1_C2</td>\n",
              "      <td>df2_D2</td>\n",
              "      <td>df2_E2</td>\n",
              "    </tr>\n",
              "  </tbody>\n",
              "</table>\n",
              "</div>"
            ],
            "text/plain": [
              "        A       B       C       D       E\n",
              "0  df1_A0  df1_B0  df1_C0     NaN     NaN\n",
              "1  df1_A1  df1_B1  df1_C1     NaN     NaN\n",
              "2  df1_A2  df1_B2  df1_C2     NaN     NaN\n",
              "4     NaN     NaN  df1_C4  df2_D4  df2_E4\n",
              "3     NaN     NaN  df1_C3  df2_D3  df2_E3\n",
              "2     NaN     NaN  df1_C2  df2_D2  df2_E2"
            ]
          },
          "metadata": {
            "tags": []
          },
          "execution_count": 19
        }
      ]
    },
    {
      "cell_type": "markdown",
      "metadata": {
        "id": "POPcshYczALl"
      },
      "source": [
        "#### Index 재설정\n",
        "* 아래 코드는 ignore_index값을 True로(ignore_index=True) 설정하여 병합 후 index 값을 [0 ~ n-1]으로 자동 재설정함\n",
        "\n",
        "* 위의 코드 결과와 비교하여 병합된 DataFrame의 index값이 0~5로 되어 있는 것을 할 수 있음"
      ]
    },
    {
      "cell_type": "code",
      "metadata": {
        "colab": {
          "base_uri": "https://localhost:8080/",
          "height": 225
        },
        "id": "C9PYUVJ1ywn-",
        "outputId": "b3b2d2ce-9b1e-4f70-d16c-6cfe011d2207"
      },
      "source": [
        "result = pd.concat([df1, df2], ignore_index=True) #index를 순서대로\n",
        "result"
      ],
      "execution_count": null,
      "outputs": [
        {
          "output_type": "execute_result",
          "data": {
            "text/html": [
              "<div>\n",
              "<style scoped>\n",
              "    .dataframe tbody tr th:only-of-type {\n",
              "        vertical-align: middle;\n",
              "    }\n",
              "\n",
              "    .dataframe tbody tr th {\n",
              "        vertical-align: top;\n",
              "    }\n",
              "\n",
              "    .dataframe thead th {\n",
              "        text-align: right;\n",
              "    }\n",
              "</style>\n",
              "<table border=\"1\" class=\"dataframe\">\n",
              "  <thead>\n",
              "    <tr style=\"text-align: right;\">\n",
              "      <th></th>\n",
              "      <th>A</th>\n",
              "      <th>B</th>\n",
              "      <th>C</th>\n",
              "      <th>E</th>\n",
              "      <th>D</th>\n",
              "    </tr>\n",
              "  </thead>\n",
              "  <tbody>\n",
              "    <tr>\n",
              "      <th>0</th>\n",
              "      <td>df1_A0</td>\n",
              "      <td>df1_B0</td>\n",
              "      <td>df1_C0</td>\n",
              "      <td>NaN</td>\n",
              "      <td>NaN</td>\n",
              "    </tr>\n",
              "    <tr>\n",
              "      <th>1</th>\n",
              "      <td>df1_A1</td>\n",
              "      <td>df1_B1</td>\n",
              "      <td>df1_C1</td>\n",
              "      <td>NaN</td>\n",
              "      <td>NaN</td>\n",
              "    </tr>\n",
              "    <tr>\n",
              "      <th>2</th>\n",
              "      <td>df1_A2</td>\n",
              "      <td>df1_B2</td>\n",
              "      <td>df1_C2</td>\n",
              "      <td>NaN</td>\n",
              "      <td>NaN</td>\n",
              "    </tr>\n",
              "    <tr>\n",
              "      <th>3</th>\n",
              "      <td>NaN</td>\n",
              "      <td>NaN</td>\n",
              "      <td>df1_C4</td>\n",
              "      <td>df2_E4</td>\n",
              "      <td>df2_D4</td>\n",
              "    </tr>\n",
              "    <tr>\n",
              "      <th>4</th>\n",
              "      <td>NaN</td>\n",
              "      <td>NaN</td>\n",
              "      <td>df1_C3</td>\n",
              "      <td>df2_E3</td>\n",
              "      <td>df2_D3</td>\n",
              "    </tr>\n",
              "    <tr>\n",
              "      <th>5</th>\n",
              "      <td>NaN</td>\n",
              "      <td>NaN</td>\n",
              "      <td>df1_C2</td>\n",
              "      <td>df2_E2</td>\n",
              "      <td>df2_D2</td>\n",
              "    </tr>\n",
              "  </tbody>\n",
              "</table>\n",
              "</div>"
            ],
            "text/plain": [
              "        A       B       C       E       D\n",
              "0  df1_A0  df1_B0  df1_C0     NaN     NaN\n",
              "1  df1_A1  df1_B1  df1_C1     NaN     NaN\n",
              "2  df1_A2  df1_B2  df1_C2     NaN     NaN\n",
              "3     NaN     NaN  df1_C4  df2_E4  df2_D4\n",
              "4     NaN     NaN  df1_C3  df2_E3  df2_D3\n",
              "5     NaN     NaN  df1_C2  df2_E2  df2_D2"
            ]
          },
          "metadata": {
            "tags": []
          },
          "execution_count": 20
        }
      ]
    },
    {
      "cell_type": "markdown",
      "metadata": {
        "id": "39s30a7R0cc7"
      },
      "source": [
        "#### 병합 전 DataFrame 정보 표시\n",
        "\n",
        "* 아래 코드는 병합 시 사용된 DataFrame의 정보는 나타내는 key값을 리스트로 넣어 병합 후 index에 key값을 나타내도록 함\n",
        "\n",
        "* 결과를 보면 key = ['df1', 'df2']에 넣어준 값들이 index에 표시된 것을 알 수 있음"
      ]
    },
    {
      "cell_type": "code",
      "metadata": {
        "colab": {
          "base_uri": "https://localhost:8080/",
          "height": 233
        },
        "id": "tiP58_680cku",
        "outputId": "ecc8dbe1-61a9-45f5-8c63-a2ec1e69a5fa"
      },
      "source": [
        "result = pd.concat([df1, df2], keys=['df1', 'df2'])\n",
        "result"
      ],
      "execution_count": null,
      "outputs": [
        {
          "output_type": "execute_result",
          "data": {
            "text/html": [
              "<div>\n",
              "<style scoped>\n",
              "    .dataframe tbody tr th:only-of-type {\n",
              "        vertical-align: middle;\n",
              "    }\n",
              "\n",
              "    .dataframe tbody tr th {\n",
              "        vertical-align: top;\n",
              "    }\n",
              "\n",
              "    .dataframe thead th {\n",
              "        text-align: right;\n",
              "    }\n",
              "</style>\n",
              "<table border=\"1\" class=\"dataframe\">\n",
              "  <thead>\n",
              "    <tr style=\"text-align: right;\">\n",
              "      <th></th>\n",
              "      <th></th>\n",
              "      <th>A</th>\n",
              "      <th>B</th>\n",
              "      <th>C</th>\n",
              "      <th>E</th>\n",
              "      <th>D</th>\n",
              "    </tr>\n",
              "  </thead>\n",
              "  <tbody>\n",
              "    <tr>\n",
              "      <th rowspan=\"3\" valign=\"top\">df1</th>\n",
              "      <th>0</th>\n",
              "      <td>df1_A0</td>\n",
              "      <td>df1_B0</td>\n",
              "      <td>df1_C0</td>\n",
              "      <td>NaN</td>\n",
              "      <td>NaN</td>\n",
              "    </tr>\n",
              "    <tr>\n",
              "      <th>1</th>\n",
              "      <td>df1_A1</td>\n",
              "      <td>df1_B1</td>\n",
              "      <td>df1_C1</td>\n",
              "      <td>NaN</td>\n",
              "      <td>NaN</td>\n",
              "    </tr>\n",
              "    <tr>\n",
              "      <th>2</th>\n",
              "      <td>df1_A2</td>\n",
              "      <td>df1_B2</td>\n",
              "      <td>df1_C2</td>\n",
              "      <td>NaN</td>\n",
              "      <td>NaN</td>\n",
              "    </tr>\n",
              "    <tr>\n",
              "      <th rowspan=\"3\" valign=\"top\">df2</th>\n",
              "      <th>4</th>\n",
              "      <td>NaN</td>\n",
              "      <td>NaN</td>\n",
              "      <td>df1_C4</td>\n",
              "      <td>df2_E4</td>\n",
              "      <td>df2_D4</td>\n",
              "    </tr>\n",
              "    <tr>\n",
              "      <th>3</th>\n",
              "      <td>NaN</td>\n",
              "      <td>NaN</td>\n",
              "      <td>df1_C3</td>\n",
              "      <td>df2_E3</td>\n",
              "      <td>df2_D3</td>\n",
              "    </tr>\n",
              "    <tr>\n",
              "      <th>2</th>\n",
              "      <td>NaN</td>\n",
              "      <td>NaN</td>\n",
              "      <td>df1_C2</td>\n",
              "      <td>df2_E2</td>\n",
              "      <td>df2_D2</td>\n",
              "    </tr>\n",
              "  </tbody>\n",
              "</table>\n",
              "</div>"
            ],
            "text/plain": [
              "            A       B       C       E       D\n",
              "df1 0  df1_A0  df1_B0  df1_C0     NaN     NaN\n",
              "    1  df1_A1  df1_B1  df1_C1     NaN     NaN\n",
              "    2  df1_A2  df1_B2  df1_C2     NaN     NaN\n",
              "df2 4     NaN     NaN  df1_C4  df2_E4  df2_D4\n",
              "    3     NaN     NaN  df1_C3  df2_E3  df2_D3\n",
              "    2     NaN     NaN  df1_C2  df2_E2  df2_D2"
            ]
          },
          "metadata": {
            "tags": []
          },
          "execution_count": 35
        }
      ]
    },
    {
      "cell_type": "markdown",
      "metadata": {
        "id": "dQizyjYPvI3I"
      },
      "source": [
        "#### 중복되는 Column만 남기기\n",
        "* 아래 코드는 join갑을 inner로 설절하여(join='inner') 입력된 DataFrame을 병합할 때 중복되는 column만 병합하여 반환함\n",
        "\n",
        "* 결과를 보면 중복되는 column name = C만 반환된 것을 알 수 있음 \n"
      ]
    },
    {
      "cell_type": "code",
      "metadata": {
        "colab": {
          "base_uri": "https://localhost:8080/",
          "height": 233
        },
        "id": "yFmBIbnLvI-z",
        "outputId": "b9b54ba7-0afa-489f-8c80-d326e9e2ac95"
      },
      "source": [
        "result = pd.concat([df1, df2], join='inner') #중복되는 값만 나옴\n",
        "result"
      ],
      "execution_count": null,
      "outputs": [
        {
          "output_type": "execute_result",
          "data": {
            "text/html": [
              "<div>\n",
              "<style scoped>\n",
              "    .dataframe tbody tr th:only-of-type {\n",
              "        vertical-align: middle;\n",
              "    }\n",
              "\n",
              "    .dataframe tbody tr th {\n",
              "        vertical-align: top;\n",
              "    }\n",
              "\n",
              "    .dataframe thead th {\n",
              "        text-align: right;\n",
              "    }\n",
              "</style>\n",
              "<table border=\"1\" class=\"dataframe\">\n",
              "  <thead>\n",
              "    <tr style=\"text-align: right;\">\n",
              "      <th></th>\n",
              "      <th>C</th>\n",
              "    </tr>\n",
              "  </thead>\n",
              "  <tbody>\n",
              "    <tr>\n",
              "      <th>0</th>\n",
              "      <td>df1_C0</td>\n",
              "    </tr>\n",
              "    <tr>\n",
              "      <th>1</th>\n",
              "      <td>df1_C1</td>\n",
              "    </tr>\n",
              "    <tr>\n",
              "      <th>2</th>\n",
              "      <td>df1_C2</td>\n",
              "    </tr>\n",
              "    <tr>\n",
              "      <th>4</th>\n",
              "      <td>df1_C4</td>\n",
              "    </tr>\n",
              "    <tr>\n",
              "      <th>3</th>\n",
              "      <td>df1_C3</td>\n",
              "    </tr>\n",
              "    <tr>\n",
              "      <th>2</th>\n",
              "      <td>df1_C2</td>\n",
              "    </tr>\n",
              "  </tbody>\n",
              "</table>\n",
              "</div>"
            ],
            "text/plain": [
              "        C\n",
              "0  df1_C0\n",
              "1  df1_C1\n",
              "2  df1_C2\n",
              "4  df1_C4\n",
              "3  df1_C3\n",
              "2  df1_C2"
            ]
          },
          "metadata": {
            "tags": []
          },
          "execution_count": 36
        }
      ]
    },
    {
      "cell_type": "markdown",
      "metadata": {
        "id": "VwU-Pfs3oC_F"
      },
      "source": [
        "### Column기준으로 데이터 병합\n",
        "![CSV Screenshot](https://drive.google.com/uc?export=view&id=1H83ISWM1w1xVJf0SeD3FD4nkmhYTZabo) \n",
        "\n",
        "* 다음으로 column 기준으로 여러 DataFrame을 한개로 병합하는 방법에 대해 배우겠음\n",
        "\n",
        "* 위의 그림과 같이 column기준 병합은 column name 중복을 고려하지 않고 병합함\n",
        "\n",
        "* 만약 중복되는 index가 있다면 해당되는 row 데이터들은 한개의 row로 병함됨\n",
        "\n",
        "* 그림에서 보면 빨간색 column 두개는 병합 후에도 그래도 있지만, 주황색 row 두개는 한 row로 병합되었음\n",
        "\n",
        "* 아래 코드는 Pandas.concat에 axis값을 1로 설정하여(axis=1) 입력된 DataFrame 리스트를 column기준으로 병합을 함\n",
        "\n",
        "* 병합된 DataFrame (i.e., result)를 보면 df1과 df2의 index = 2가 한개의 row로 병합된 것을 알 수 있음\n",
        "\n"
      ]
    },
    {
      "cell_type": "code",
      "metadata": {
        "colab": {
          "base_uri": "https://localhost:8080/",
          "height": 202
        },
        "id": "mg-5sOKo5ZOZ",
        "outputId": "739c5bc6-b425-4bca-8459-fbef4b92f456"
      },
      "source": [
        "result = pd.concat([df1, df2], axis=1)\n",
        "result"
      ],
      "execution_count": null,
      "outputs": [
        {
          "output_type": "execute_result",
          "data": {
            "text/html": [
              "<div>\n",
              "<style scoped>\n",
              "    .dataframe tbody tr th:only-of-type {\n",
              "        vertical-align: middle;\n",
              "    }\n",
              "\n",
              "    .dataframe tbody tr th {\n",
              "        vertical-align: top;\n",
              "    }\n",
              "\n",
              "    .dataframe thead th {\n",
              "        text-align: right;\n",
              "    }\n",
              "</style>\n",
              "<table border=\"1\" class=\"dataframe\">\n",
              "  <thead>\n",
              "    <tr style=\"text-align: right;\">\n",
              "      <th></th>\n",
              "      <th>A</th>\n",
              "      <th>B</th>\n",
              "      <th>C</th>\n",
              "      <th>E</th>\n",
              "      <th>D</th>\n",
              "      <th>C</th>\n",
              "    </tr>\n",
              "  </thead>\n",
              "  <tbody>\n",
              "    <tr>\n",
              "      <th>0</th>\n",
              "      <td>df1_A0</td>\n",
              "      <td>df1_B0</td>\n",
              "      <td>df1_C0</td>\n",
              "      <td>NaN</td>\n",
              "      <td>NaN</td>\n",
              "      <td>NaN</td>\n",
              "    </tr>\n",
              "    <tr>\n",
              "      <th>1</th>\n",
              "      <td>df1_A1</td>\n",
              "      <td>df1_B1</td>\n",
              "      <td>df1_C1</td>\n",
              "      <td>NaN</td>\n",
              "      <td>NaN</td>\n",
              "      <td>NaN</td>\n",
              "    </tr>\n",
              "    <tr>\n",
              "      <th>2</th>\n",
              "      <td>df1_A2</td>\n",
              "      <td>df1_B2</td>\n",
              "      <td>df1_C2</td>\n",
              "      <td>df2_E2</td>\n",
              "      <td>df2_D2</td>\n",
              "      <td>df1_C2</td>\n",
              "    </tr>\n",
              "    <tr>\n",
              "      <th>3</th>\n",
              "      <td>NaN</td>\n",
              "      <td>NaN</td>\n",
              "      <td>NaN</td>\n",
              "      <td>df2_E3</td>\n",
              "      <td>df2_D3</td>\n",
              "      <td>df1_C3</td>\n",
              "    </tr>\n",
              "    <tr>\n",
              "      <th>4</th>\n",
              "      <td>NaN</td>\n",
              "      <td>NaN</td>\n",
              "      <td>NaN</td>\n",
              "      <td>df2_E4</td>\n",
              "      <td>df2_D4</td>\n",
              "      <td>df1_C4</td>\n",
              "    </tr>\n",
              "  </tbody>\n",
              "</table>\n",
              "</div>"
            ],
            "text/plain": [
              "        A       B       C       E       D       C\n",
              "0  df1_A0  df1_B0  df1_C0     NaN     NaN     NaN\n",
              "1  df1_A1  df1_B1  df1_C1     NaN     NaN     NaN\n",
              "2  df1_A2  df1_B2  df1_C2  df2_E2  df2_D2  df1_C2\n",
              "3     NaN     NaN     NaN  df2_E3  df2_D3  df1_C3\n",
              "4     NaN     NaN     NaN  df2_E4  df2_D4  df1_C4"
            ]
          },
          "metadata": {
            "tags": []
          },
          "execution_count": 37
        }
      ]
    },
    {
      "cell_type": "markdown",
      "metadata": {
        "id": "xT1w2u7_0KOk"
      },
      "source": [
        "#### 병합 전 DataFrame정보 남기기"
      ]
    },
    {
      "cell_type": "code",
      "metadata": {
        "colab": {
          "base_uri": "https://localhost:8080/",
          "height": 233
        },
        "id": "969gJoIa0KZO",
        "outputId": "c6b2d69c-be06-4a5d-ee6b-37e32f24e242"
      },
      "source": [
        "result = pd.concat([df1,df2], keys=['df1', 'df2'], axis=1)\n",
        "result"
      ],
      "execution_count": null,
      "outputs": [
        {
          "output_type": "execute_result",
          "data": {
            "text/html": [
              "<div>\n",
              "<style scoped>\n",
              "    .dataframe tbody tr th:only-of-type {\n",
              "        vertical-align: middle;\n",
              "    }\n",
              "\n",
              "    .dataframe tbody tr th {\n",
              "        vertical-align: top;\n",
              "    }\n",
              "\n",
              "    .dataframe thead tr th {\n",
              "        text-align: left;\n",
              "    }\n",
              "</style>\n",
              "<table border=\"1\" class=\"dataframe\">\n",
              "  <thead>\n",
              "    <tr>\n",
              "      <th></th>\n",
              "      <th colspan=\"3\" halign=\"left\">df1</th>\n",
              "      <th colspan=\"3\" halign=\"left\">df2</th>\n",
              "    </tr>\n",
              "    <tr>\n",
              "      <th></th>\n",
              "      <th>A</th>\n",
              "      <th>B</th>\n",
              "      <th>C</th>\n",
              "      <th>E</th>\n",
              "      <th>D</th>\n",
              "      <th>C</th>\n",
              "    </tr>\n",
              "  </thead>\n",
              "  <tbody>\n",
              "    <tr>\n",
              "      <th>0</th>\n",
              "      <td>df1_A0</td>\n",
              "      <td>df1_B0</td>\n",
              "      <td>df1_C0</td>\n",
              "      <td>NaN</td>\n",
              "      <td>NaN</td>\n",
              "      <td>NaN</td>\n",
              "    </tr>\n",
              "    <tr>\n",
              "      <th>1</th>\n",
              "      <td>df1_A1</td>\n",
              "      <td>df1_B1</td>\n",
              "      <td>df1_C1</td>\n",
              "      <td>NaN</td>\n",
              "      <td>NaN</td>\n",
              "      <td>NaN</td>\n",
              "    </tr>\n",
              "    <tr>\n",
              "      <th>2</th>\n",
              "      <td>df1_A2</td>\n",
              "      <td>df1_B2</td>\n",
              "      <td>df1_C2</td>\n",
              "      <td>df2_E2</td>\n",
              "      <td>df2_D2</td>\n",
              "      <td>df1_C2</td>\n",
              "    </tr>\n",
              "    <tr>\n",
              "      <th>3</th>\n",
              "      <td>NaN</td>\n",
              "      <td>NaN</td>\n",
              "      <td>NaN</td>\n",
              "      <td>df2_E3</td>\n",
              "      <td>df2_D3</td>\n",
              "      <td>df1_C3</td>\n",
              "    </tr>\n",
              "    <tr>\n",
              "      <th>4</th>\n",
              "      <td>NaN</td>\n",
              "      <td>NaN</td>\n",
              "      <td>NaN</td>\n",
              "      <td>df2_E4</td>\n",
              "      <td>df2_D4</td>\n",
              "      <td>df1_C4</td>\n",
              "    </tr>\n",
              "  </tbody>\n",
              "</table>\n",
              "</div>"
            ],
            "text/plain": [
              "      df1                     df2                \n",
              "        A       B       C       E       D       C\n",
              "0  df1_A0  df1_B0  df1_C0     NaN     NaN     NaN\n",
              "1  df1_A1  df1_B1  df1_C1     NaN     NaN     NaN\n",
              "2  df1_A2  df1_B2  df1_C2  df2_E2  df2_D2  df1_C2\n",
              "3     NaN     NaN     NaN  df2_E3  df2_D3  df1_C3\n",
              "4     NaN     NaN     NaN  df2_E4  df2_D4  df1_C4"
            ]
          },
          "metadata": {
            "tags": []
          },
          "execution_count": 38
        }
      ]
    },
    {
      "cell_type": "markdown",
      "metadata": {
        "id": "nv8T_7XDoFM-"
      },
      "source": [
        "#### 중복되는 row만 남기기\n",
        "\n",
        "* 아래코드는 join 값을 inner로 설정하여(join='inner') 중복되는 row만 반환함\n",
        "\n",
        "* 위의 코드 결과와 비교하면 index = 2 row만 반환된 것을 알 수 있음"
      ]
    },
    {
      "cell_type": "code",
      "metadata": {
        "colab": {
          "base_uri": "https://localhost:8080/",
          "height": 79
        },
        "id": "WcBXrLkP5xtr",
        "outputId": "ada9cf04-79b3-4159-9793-117ed4ee5d67"
      },
      "source": [
        "result = pd.concat([df1, df2], axis=1, join='inner')\n",
        "result"
      ],
      "execution_count": null,
      "outputs": [
        {
          "output_type": "execute_result",
          "data": {
            "text/html": [
              "<div>\n",
              "<style scoped>\n",
              "    .dataframe tbody tr th:only-of-type {\n",
              "        vertical-align: middle;\n",
              "    }\n",
              "\n",
              "    .dataframe tbody tr th {\n",
              "        vertical-align: top;\n",
              "    }\n",
              "\n",
              "    .dataframe thead th {\n",
              "        text-align: right;\n",
              "    }\n",
              "</style>\n",
              "<table border=\"1\" class=\"dataframe\">\n",
              "  <thead>\n",
              "    <tr style=\"text-align: right;\">\n",
              "      <th></th>\n",
              "      <th>A</th>\n",
              "      <th>B</th>\n",
              "      <th>C</th>\n",
              "      <th>E</th>\n",
              "      <th>D</th>\n",
              "      <th>C</th>\n",
              "    </tr>\n",
              "  </thead>\n",
              "  <tbody>\n",
              "    <tr>\n",
              "      <th>2</th>\n",
              "      <td>df1_A2</td>\n",
              "      <td>df1_B2</td>\n",
              "      <td>df1_C2</td>\n",
              "      <td>df2_E2</td>\n",
              "      <td>df2_D2</td>\n",
              "      <td>df1_C2</td>\n",
              "    </tr>\n",
              "  </tbody>\n",
              "</table>\n",
              "</div>"
            ],
            "text/plain": [
              "        A       B       C       E       D       C\n",
              "2  df1_A2  df1_B2  df1_C2  df2_E2  df2_D2  df1_C2"
            ]
          },
          "metadata": {
            "tags": []
          },
          "execution_count": 39
        }
      ]
    },
    {
      "cell_type": "markdown",
      "metadata": {
        "id": "492Uhjq8oME8"
      },
      "source": [
        "#### 중복되는 row외 다른 특정 DataFrame에 속한 row도 남기기"
      ]
    },
    {
      "cell_type": "code",
      "metadata": {
        "colab": {
          "base_uri": "https://localhost:8080/",
          "height": 141
        },
        "id": "QAsvfx0r76XB",
        "outputId": "31f2452a-f976-48d0-8269-181c8e742b0e"
      },
      "source": [
        "result = pd.concat([df1, df2], axis=1).reindex(df1.index)\n",
        "result"
      ],
      "execution_count": null,
      "outputs": [
        {
          "output_type": "execute_result",
          "data": {
            "text/html": [
              "<div>\n",
              "<style scoped>\n",
              "    .dataframe tbody tr th:only-of-type {\n",
              "        vertical-align: middle;\n",
              "    }\n",
              "\n",
              "    .dataframe tbody tr th {\n",
              "        vertical-align: top;\n",
              "    }\n",
              "\n",
              "    .dataframe thead th {\n",
              "        text-align: right;\n",
              "    }\n",
              "</style>\n",
              "<table border=\"1\" class=\"dataframe\">\n",
              "  <thead>\n",
              "    <tr style=\"text-align: right;\">\n",
              "      <th></th>\n",
              "      <th>A</th>\n",
              "      <th>B</th>\n",
              "      <th>C</th>\n",
              "      <th>E</th>\n",
              "      <th>D</th>\n",
              "      <th>C</th>\n",
              "    </tr>\n",
              "  </thead>\n",
              "  <tbody>\n",
              "    <tr>\n",
              "      <th>0</th>\n",
              "      <td>df1_A0</td>\n",
              "      <td>df1_B0</td>\n",
              "      <td>df1_C0</td>\n",
              "      <td>NaN</td>\n",
              "      <td>NaN</td>\n",
              "      <td>NaN</td>\n",
              "    </tr>\n",
              "    <tr>\n",
              "      <th>1</th>\n",
              "      <td>df1_A1</td>\n",
              "      <td>df1_B1</td>\n",
              "      <td>df1_C1</td>\n",
              "      <td>NaN</td>\n",
              "      <td>NaN</td>\n",
              "      <td>NaN</td>\n",
              "    </tr>\n",
              "    <tr>\n",
              "      <th>2</th>\n",
              "      <td>df1_A2</td>\n",
              "      <td>df1_B2</td>\n",
              "      <td>df1_C2</td>\n",
              "      <td>df2_E2</td>\n",
              "      <td>df2_D2</td>\n",
              "      <td>df1_C2</td>\n",
              "    </tr>\n",
              "  </tbody>\n",
              "</table>\n",
              "</div>"
            ],
            "text/plain": [
              "        A       B       C       E       D       C\n",
              "0  df1_A0  df1_B0  df1_C0     NaN     NaN     NaN\n",
              "1  df1_A1  df1_B1  df1_C1     NaN     NaN     NaN\n",
              "2  df1_A2  df1_B2  df1_C2  df2_E2  df2_D2  df1_C2"
            ]
          },
          "metadata": {
            "tags": []
          },
          "execution_count": 40
        }
      ]
    },
    {
      "cell_type": "code",
      "metadata": {
        "colab": {
          "base_uri": "https://localhost:8080/",
          "height": 136
        },
        "id": "furYDWNf8EGZ",
        "outputId": "50185b14-8a5b-4b82-8a9d-020b31742480"
      },
      "source": [
        "result = pd.concat([df1, df2], axis=1).reindex(df2.index)\n",
        "result"
      ],
      "execution_count": null,
      "outputs": [
        {
          "output_type": "execute_result",
          "data": {
            "text/html": [
              "<div>\n",
              "<style scoped>\n",
              "    .dataframe tbody tr th:only-of-type {\n",
              "        vertical-align: middle;\n",
              "    }\n",
              "\n",
              "    .dataframe tbody tr th {\n",
              "        vertical-align: top;\n",
              "    }\n",
              "\n",
              "    .dataframe thead th {\n",
              "        text-align: right;\n",
              "    }\n",
              "</style>\n",
              "<table border=\"1\" class=\"dataframe\">\n",
              "  <thead>\n",
              "    <tr style=\"text-align: right;\">\n",
              "      <th></th>\n",
              "      <th>A</th>\n",
              "      <th>B</th>\n",
              "      <th>C</th>\n",
              "      <th>E</th>\n",
              "      <th>D</th>\n",
              "      <th>C</th>\n",
              "    </tr>\n",
              "  </thead>\n",
              "  <tbody>\n",
              "    <tr>\n",
              "      <th>4</th>\n",
              "      <td>NaN</td>\n",
              "      <td>NaN</td>\n",
              "      <td>NaN</td>\n",
              "      <td>df2_E4</td>\n",
              "      <td>df2_D4</td>\n",
              "      <td>df1_C4</td>\n",
              "    </tr>\n",
              "    <tr>\n",
              "      <th>3</th>\n",
              "      <td>NaN</td>\n",
              "      <td>NaN</td>\n",
              "      <td>NaN</td>\n",
              "      <td>df2_E3</td>\n",
              "      <td>df2_D3</td>\n",
              "      <td>df1_C3</td>\n",
              "    </tr>\n",
              "    <tr>\n",
              "      <th>2</th>\n",
              "      <td>df1_A2</td>\n",
              "      <td>df1_B2</td>\n",
              "      <td>df1_C2</td>\n",
              "      <td>df2_E2</td>\n",
              "      <td>df2_D2</td>\n",
              "      <td>df1_C2</td>\n",
              "    </tr>\n",
              "  </tbody>\n",
              "</table>\n",
              "</div>"
            ],
            "text/plain": [
              "        A       B       C       E       D       C\n",
              "4     NaN     NaN     NaN  df2_E4  df2_D4  df1_C4\n",
              "3     NaN     NaN     NaN  df2_E3  df2_D3  df1_C3\n",
              "2  df1_A2  df1_B2  df1_C2  df2_E2  df2_D2  df1_C2"
            ]
          },
          "metadata": {
            "tags": []
          },
          "execution_count": 27
        }
      ]
    },
    {
      "cell_type": "markdown",
      "metadata": {
        "id": "gzR63kv9oTWg"
      },
      "source": [
        "* 윗 코드는 아래 코드와 같음"
      ]
    },
    {
      "cell_type": "code",
      "metadata": {
        "colab": {
          "base_uri": "https://localhost:8080/",
          "height": 141
        },
        "id": "0MShqp71oZok",
        "outputId": "83dd62f3-32dd-4816-a52a-4ab8004d6484"
      },
      "source": [
        "result = pd.concat([df1, df2], axis=1)\n",
        "result = result.reindex(df1.index)\n",
        "result"
      ],
      "execution_count": null,
      "outputs": [
        {
          "output_type": "execute_result",
          "data": {
            "text/html": [
              "<div>\n",
              "<style scoped>\n",
              "    .dataframe tbody tr th:only-of-type {\n",
              "        vertical-align: middle;\n",
              "    }\n",
              "\n",
              "    .dataframe tbody tr th {\n",
              "        vertical-align: top;\n",
              "    }\n",
              "\n",
              "    .dataframe thead th {\n",
              "        text-align: right;\n",
              "    }\n",
              "</style>\n",
              "<table border=\"1\" class=\"dataframe\">\n",
              "  <thead>\n",
              "    <tr style=\"text-align: right;\">\n",
              "      <th></th>\n",
              "      <th>A</th>\n",
              "      <th>B</th>\n",
              "      <th>C</th>\n",
              "      <th>E</th>\n",
              "      <th>D</th>\n",
              "      <th>C</th>\n",
              "    </tr>\n",
              "  </thead>\n",
              "  <tbody>\n",
              "    <tr>\n",
              "      <th>0</th>\n",
              "      <td>df1_A0</td>\n",
              "      <td>df1_B0</td>\n",
              "      <td>df1_C0</td>\n",
              "      <td>NaN</td>\n",
              "      <td>NaN</td>\n",
              "      <td>NaN</td>\n",
              "    </tr>\n",
              "    <tr>\n",
              "      <th>1</th>\n",
              "      <td>df1_A1</td>\n",
              "      <td>df1_B1</td>\n",
              "      <td>df1_C1</td>\n",
              "      <td>NaN</td>\n",
              "      <td>NaN</td>\n",
              "      <td>NaN</td>\n",
              "    </tr>\n",
              "    <tr>\n",
              "      <th>2</th>\n",
              "      <td>df1_A2</td>\n",
              "      <td>df1_B2</td>\n",
              "      <td>df1_C2</td>\n",
              "      <td>df2_E2</td>\n",
              "      <td>df2_D2</td>\n",
              "      <td>df1_C2</td>\n",
              "    </tr>\n",
              "  </tbody>\n",
              "</table>\n",
              "</div>"
            ],
            "text/plain": [
              "        A       B       C       E       D       C\n",
              "0  df1_A0  df1_B0  df1_C0     NaN     NaN     NaN\n",
              "1  df1_A1  df1_B1  df1_C1     NaN     NaN     NaN\n",
              "2  df1_A2  df1_B2  df1_C2  df2_E2  df2_D2  df1_C2"
            ]
          },
          "metadata": {
            "tags": []
          },
          "execution_count": 41
        }
      ]
    },
    {
      "cell_type": "markdown",
      "metadata": {
        "id": "HLAF8mFcomkH"
      },
      "source": [
        "## DataFrame.append\n",
        "\n",
        "* [DataFrame.append](https://pandas.pydata.org/pandas-docs/stable/reference/api/pandas.DataFrame.append.html)로 여러 DataFrame을 한개로 병합하는 방법에 대해 배우겠음\n",
        "\n",
        "* 정확하게는 DataFrame.append는 병합이 아니고 특정 DataFrame에 다른 DataFrame 값을 **추가**하는 방식임\n",
        "\n",
        "* 아래 DataFrame df1와 df2을 활용하여 DataFrame.append 사용법을 배우겠음\n"
      ]
    },
    {
      "cell_type": "code",
      "metadata": {
        "id": "8tvS4j3DouPv"
      },
      "source": [
        "import pandas as pd\n",
        "\n",
        "df1 = pd.DataFrame({'A': ['df1_A0', 'df1_A1', 'df1_A2'],\n",
        "                    'B': ['df1_B0', 'df1_B1', 'df1_B2'],\n",
        "                    'C': ['df1_C0', 'df1_C1', 'df1_C2']},\n",
        "                   index=[0, 1, 2])\n",
        "\n",
        "df2 = pd.DataFrame({'E': ['df2_E4', 'df2_E3', 'df2_E2'],\n",
        "                    'D': ['df2_D4', 'df2_D3', 'df2_D2'],\n",
        "                    'C': ['df1_C4', 'df1_C3', 'df1_C2']},\n",
        "                   index=[4, 3, 2])"
      ],
      "execution_count": null,
      "outputs": []
    },
    {
      "cell_type": "markdown",
      "metadata": {
        "id": "ecKSLh3ZVUFN"
      },
      "source": [
        "* 아래 코드는 df1에 df2의 데이터를 추가한 후 반환함"
      ]
    },
    {
      "cell_type": "code",
      "metadata": {
        "colab": {
          "base_uri": "https://localhost:8080/",
          "height": 233
        },
        "id": "zjnB2gKNoyLA",
        "outputId": "d45fe3a8-5046-49c7-9983-387abac49567"
      },
      "source": [
        "result = df1.append(df2) #index기준 병합과 같아지네\n",
        "result"
      ],
      "execution_count": null,
      "outputs": [
        {
          "output_type": "execute_result",
          "data": {
            "text/html": [
              "<div>\n",
              "<style scoped>\n",
              "    .dataframe tbody tr th:only-of-type {\n",
              "        vertical-align: middle;\n",
              "    }\n",
              "\n",
              "    .dataframe tbody tr th {\n",
              "        vertical-align: top;\n",
              "    }\n",
              "\n",
              "    .dataframe thead th {\n",
              "        text-align: right;\n",
              "    }\n",
              "</style>\n",
              "<table border=\"1\" class=\"dataframe\">\n",
              "  <thead>\n",
              "    <tr style=\"text-align: right;\">\n",
              "      <th></th>\n",
              "      <th>A</th>\n",
              "      <th>B</th>\n",
              "      <th>C</th>\n",
              "      <th>E</th>\n",
              "      <th>D</th>\n",
              "    </tr>\n",
              "  </thead>\n",
              "  <tbody>\n",
              "    <tr>\n",
              "      <th>0</th>\n",
              "      <td>df1_A0</td>\n",
              "      <td>df1_B0</td>\n",
              "      <td>df1_C0</td>\n",
              "      <td>NaN</td>\n",
              "      <td>NaN</td>\n",
              "    </tr>\n",
              "    <tr>\n",
              "      <th>1</th>\n",
              "      <td>df1_A1</td>\n",
              "      <td>df1_B1</td>\n",
              "      <td>df1_C1</td>\n",
              "      <td>NaN</td>\n",
              "      <td>NaN</td>\n",
              "    </tr>\n",
              "    <tr>\n",
              "      <th>2</th>\n",
              "      <td>df1_A2</td>\n",
              "      <td>df1_B2</td>\n",
              "      <td>df1_C2</td>\n",
              "      <td>NaN</td>\n",
              "      <td>NaN</td>\n",
              "    </tr>\n",
              "    <tr>\n",
              "      <th>4</th>\n",
              "      <td>NaN</td>\n",
              "      <td>NaN</td>\n",
              "      <td>df1_C4</td>\n",
              "      <td>df2_E4</td>\n",
              "      <td>df2_D4</td>\n",
              "    </tr>\n",
              "    <tr>\n",
              "      <th>3</th>\n",
              "      <td>NaN</td>\n",
              "      <td>NaN</td>\n",
              "      <td>df1_C3</td>\n",
              "      <td>df2_E3</td>\n",
              "      <td>df2_D3</td>\n",
              "    </tr>\n",
              "    <tr>\n",
              "      <th>2</th>\n",
              "      <td>NaN</td>\n",
              "      <td>NaN</td>\n",
              "      <td>df1_C2</td>\n",
              "      <td>df2_E2</td>\n",
              "      <td>df2_D2</td>\n",
              "    </tr>\n",
              "  </tbody>\n",
              "</table>\n",
              "</div>"
            ],
            "text/plain": [
              "        A       B       C       E       D\n",
              "0  df1_A0  df1_B0  df1_C0     NaN     NaN\n",
              "1  df1_A1  df1_B1  df1_C1     NaN     NaN\n",
              "2  df1_A2  df1_B2  df1_C2     NaN     NaN\n",
              "4     NaN     NaN  df1_C4  df2_E4  df2_D4\n",
              "3     NaN     NaN  df1_C3  df2_E3  df2_D3\n",
              "2     NaN     NaN  df1_C2  df2_E2  df2_D2"
            ]
          },
          "metadata": {
            "tags": []
          },
          "execution_count": 42
        }
      ]
    },
    {
      "cell_type": "markdown",
      "metadata": {
        "id": "e9nQz7CXpF2i"
      },
      "source": [
        "* DataFrame.concate를 사용하여 index기준 병합을 한 것과 차이가 없음"
      ]
    },
    {
      "cell_type": "code",
      "metadata": {
        "colab": {
          "base_uri": "https://localhost:8080/",
          "height": 233
        },
        "id": "_RNgkPSOo5wW",
        "outputId": "1d091f5f-fc3a-48ce-ff2b-e1a8aa03c19d"
      },
      "source": [
        "result = pd.concat([df1, df2])\n",
        "result"
      ],
      "execution_count": null,
      "outputs": [
        {
          "output_type": "execute_result",
          "data": {
            "text/html": [
              "<div>\n",
              "<style scoped>\n",
              "    .dataframe tbody tr th:only-of-type {\n",
              "        vertical-align: middle;\n",
              "    }\n",
              "\n",
              "    .dataframe tbody tr th {\n",
              "        vertical-align: top;\n",
              "    }\n",
              "\n",
              "    .dataframe thead th {\n",
              "        text-align: right;\n",
              "    }\n",
              "</style>\n",
              "<table border=\"1\" class=\"dataframe\">\n",
              "  <thead>\n",
              "    <tr style=\"text-align: right;\">\n",
              "      <th></th>\n",
              "      <th>A</th>\n",
              "      <th>B</th>\n",
              "      <th>C</th>\n",
              "      <th>E</th>\n",
              "      <th>D</th>\n",
              "    </tr>\n",
              "  </thead>\n",
              "  <tbody>\n",
              "    <tr>\n",
              "      <th>0</th>\n",
              "      <td>df1_A0</td>\n",
              "      <td>df1_B0</td>\n",
              "      <td>df1_C0</td>\n",
              "      <td>NaN</td>\n",
              "      <td>NaN</td>\n",
              "    </tr>\n",
              "    <tr>\n",
              "      <th>1</th>\n",
              "      <td>df1_A1</td>\n",
              "      <td>df1_B1</td>\n",
              "      <td>df1_C1</td>\n",
              "      <td>NaN</td>\n",
              "      <td>NaN</td>\n",
              "    </tr>\n",
              "    <tr>\n",
              "      <th>2</th>\n",
              "      <td>df1_A2</td>\n",
              "      <td>df1_B2</td>\n",
              "      <td>df1_C2</td>\n",
              "      <td>NaN</td>\n",
              "      <td>NaN</td>\n",
              "    </tr>\n",
              "    <tr>\n",
              "      <th>4</th>\n",
              "      <td>NaN</td>\n",
              "      <td>NaN</td>\n",
              "      <td>df1_C4</td>\n",
              "      <td>df2_E4</td>\n",
              "      <td>df2_D4</td>\n",
              "    </tr>\n",
              "    <tr>\n",
              "      <th>3</th>\n",
              "      <td>NaN</td>\n",
              "      <td>NaN</td>\n",
              "      <td>df1_C3</td>\n",
              "      <td>df2_E3</td>\n",
              "      <td>df2_D3</td>\n",
              "    </tr>\n",
              "    <tr>\n",
              "      <th>2</th>\n",
              "      <td>NaN</td>\n",
              "      <td>NaN</td>\n",
              "      <td>df1_C2</td>\n",
              "      <td>df2_E2</td>\n",
              "      <td>df2_D2</td>\n",
              "    </tr>\n",
              "  </tbody>\n",
              "</table>\n",
              "</div>"
            ],
            "text/plain": [
              "        A       B       C       E       D\n",
              "0  df1_A0  df1_B0  df1_C0     NaN     NaN\n",
              "1  df1_A1  df1_B1  df1_C1     NaN     NaN\n",
              "2  df1_A2  df1_B2  df1_C2     NaN     NaN\n",
              "4     NaN     NaN  df1_C4  df2_E4  df2_D4\n",
              "3     NaN     NaN  df1_C3  df2_E3  df2_D3\n",
              "2     NaN     NaN  df1_C2  df2_E2  df2_D2"
            ]
          },
          "metadata": {
            "tags": []
          },
          "execution_count": 43
        }
      ]
    },
    {
      "cell_type": "markdown",
      "metadata": {
        "id": "5w3Guoy5yX8R"
      },
      "source": [
        "#### 여러 DataFrame 첨부하기\n",
        "\n",
        "* 특정 DataFrame에 여러 DataFrame 데이터를 동시에 추가할 수 도 있음\n",
        "\n",
        "* DataFrame df3을 추가하여 df2, df3 데이터를 df1에 추가하여 보겠음"
      ]
    },
    {
      "cell_type": "code",
      "metadata": {
        "id": "KscWFg50yZi5"
      },
      "source": [
        "df3 = pd.DataFrame({'F': ['df2_F5', 'df2_F6', 'df2_F7'],\n",
        "                    'G': ['df2_G5', 'df2_G6', 'df2_G7'],\n",
        "                    'H': ['df1_H5', 'df1_H6', 'df1_H7']},\n",
        "                   index=[5, 6, 7])"
      ],
      "execution_count": null,
      "outputs": []
    },
    {
      "cell_type": "code",
      "metadata": {
        "colab": {
          "base_uri": "https://localhost:8080/",
          "height": 325
        },
        "id": "CguY32rtyYFV",
        "outputId": "48a98a5e-7fce-4500-e8a9-03b10c992166"
      },
      "source": [
        "result = df1.append([df2, df3])\n",
        "result"
      ],
      "execution_count": null,
      "outputs": [
        {
          "output_type": "execute_result",
          "data": {
            "text/html": [
              "<div>\n",
              "<style scoped>\n",
              "    .dataframe tbody tr th:only-of-type {\n",
              "        vertical-align: middle;\n",
              "    }\n",
              "\n",
              "    .dataframe tbody tr th {\n",
              "        vertical-align: top;\n",
              "    }\n",
              "\n",
              "    .dataframe thead th {\n",
              "        text-align: right;\n",
              "    }\n",
              "</style>\n",
              "<table border=\"1\" class=\"dataframe\">\n",
              "  <thead>\n",
              "    <tr style=\"text-align: right;\">\n",
              "      <th></th>\n",
              "      <th>A</th>\n",
              "      <th>B</th>\n",
              "      <th>C</th>\n",
              "      <th>E</th>\n",
              "      <th>D</th>\n",
              "      <th>F</th>\n",
              "      <th>G</th>\n",
              "      <th>H</th>\n",
              "    </tr>\n",
              "  </thead>\n",
              "  <tbody>\n",
              "    <tr>\n",
              "      <th>0</th>\n",
              "      <td>df1_A0</td>\n",
              "      <td>df1_B0</td>\n",
              "      <td>df1_C0</td>\n",
              "      <td>NaN</td>\n",
              "      <td>NaN</td>\n",
              "      <td>NaN</td>\n",
              "      <td>NaN</td>\n",
              "      <td>NaN</td>\n",
              "    </tr>\n",
              "    <tr>\n",
              "      <th>1</th>\n",
              "      <td>df1_A1</td>\n",
              "      <td>df1_B1</td>\n",
              "      <td>df1_C1</td>\n",
              "      <td>NaN</td>\n",
              "      <td>NaN</td>\n",
              "      <td>NaN</td>\n",
              "      <td>NaN</td>\n",
              "      <td>NaN</td>\n",
              "    </tr>\n",
              "    <tr>\n",
              "      <th>2</th>\n",
              "      <td>df1_A2</td>\n",
              "      <td>df1_B2</td>\n",
              "      <td>df1_C2</td>\n",
              "      <td>NaN</td>\n",
              "      <td>NaN</td>\n",
              "      <td>NaN</td>\n",
              "      <td>NaN</td>\n",
              "      <td>NaN</td>\n",
              "    </tr>\n",
              "    <tr>\n",
              "      <th>4</th>\n",
              "      <td>NaN</td>\n",
              "      <td>NaN</td>\n",
              "      <td>df1_C4</td>\n",
              "      <td>df2_E4</td>\n",
              "      <td>df2_D4</td>\n",
              "      <td>NaN</td>\n",
              "      <td>NaN</td>\n",
              "      <td>NaN</td>\n",
              "    </tr>\n",
              "    <tr>\n",
              "      <th>3</th>\n",
              "      <td>NaN</td>\n",
              "      <td>NaN</td>\n",
              "      <td>df1_C3</td>\n",
              "      <td>df2_E3</td>\n",
              "      <td>df2_D3</td>\n",
              "      <td>NaN</td>\n",
              "      <td>NaN</td>\n",
              "      <td>NaN</td>\n",
              "    </tr>\n",
              "    <tr>\n",
              "      <th>2</th>\n",
              "      <td>NaN</td>\n",
              "      <td>NaN</td>\n",
              "      <td>df1_C2</td>\n",
              "      <td>df2_E2</td>\n",
              "      <td>df2_D2</td>\n",
              "      <td>NaN</td>\n",
              "      <td>NaN</td>\n",
              "      <td>NaN</td>\n",
              "    </tr>\n",
              "    <tr>\n",
              "      <th>5</th>\n",
              "      <td>NaN</td>\n",
              "      <td>NaN</td>\n",
              "      <td>NaN</td>\n",
              "      <td>NaN</td>\n",
              "      <td>NaN</td>\n",
              "      <td>df2_F5</td>\n",
              "      <td>df2_G5</td>\n",
              "      <td>df1_H5</td>\n",
              "    </tr>\n",
              "    <tr>\n",
              "      <th>6</th>\n",
              "      <td>NaN</td>\n",
              "      <td>NaN</td>\n",
              "      <td>NaN</td>\n",
              "      <td>NaN</td>\n",
              "      <td>NaN</td>\n",
              "      <td>df2_F6</td>\n",
              "      <td>df2_G6</td>\n",
              "      <td>df1_H6</td>\n",
              "    </tr>\n",
              "    <tr>\n",
              "      <th>7</th>\n",
              "      <td>NaN</td>\n",
              "      <td>NaN</td>\n",
              "      <td>NaN</td>\n",
              "      <td>NaN</td>\n",
              "      <td>NaN</td>\n",
              "      <td>df2_F7</td>\n",
              "      <td>df2_G7</td>\n",
              "      <td>df1_H7</td>\n",
              "    </tr>\n",
              "  </tbody>\n",
              "</table>\n",
              "</div>"
            ],
            "text/plain": [
              "        A       B       C       E       D       F       G       H\n",
              "0  df1_A0  df1_B0  df1_C0     NaN     NaN     NaN     NaN     NaN\n",
              "1  df1_A1  df1_B1  df1_C1     NaN     NaN     NaN     NaN     NaN\n",
              "2  df1_A2  df1_B2  df1_C2     NaN     NaN     NaN     NaN     NaN\n",
              "4     NaN     NaN  df1_C4  df2_E4  df2_D4     NaN     NaN     NaN\n",
              "3     NaN     NaN  df1_C3  df2_E3  df2_D3     NaN     NaN     NaN\n",
              "2     NaN     NaN  df1_C2  df2_E2  df2_D2     NaN     NaN     NaN\n",
              "5     NaN     NaN     NaN     NaN     NaN  df2_F5  df2_G5  df1_H5\n",
              "6     NaN     NaN     NaN     NaN     NaN  df2_F6  df2_G6  df1_H6\n",
              "7     NaN     NaN     NaN     NaN     NaN  df2_F7  df2_G7  df1_H7"
            ]
          },
          "metadata": {
            "tags": []
          },
          "execution_count": 46
        }
      ]
    },
    {
      "cell_type": "markdown",
      "metadata": {
        "id": "CTubYer1Uju1"
      },
      "source": [
        "#### Column 정렬\n",
        "\n",
        "* 다음 코드는 sort값으로 True로 설정하여 column을 column name에 따라 정력함\n",
        "* 위의 코드 결과(column name: A, B, C, E, D)와 비교하여 column이 A, B, C, D, E 순으로 정열되어 있음을 할 수 있음"
      ]
    },
    {
      "cell_type": "code",
      "metadata": {
        "colab": {
          "base_uri": "https://localhost:8080/",
          "height": 233
        },
        "id": "NltcYOOHpdpg",
        "outputId": "e48aaf4e-7bd9-49be-f859-89b6394f877d"
      },
      "source": [
        "result = df1.append(df2, sort=True)\n",
        "result"
      ],
      "execution_count": null,
      "outputs": [
        {
          "output_type": "execute_result",
          "data": {
            "text/html": [
              "<div>\n",
              "<style scoped>\n",
              "    .dataframe tbody tr th:only-of-type {\n",
              "        vertical-align: middle;\n",
              "    }\n",
              "\n",
              "    .dataframe tbody tr th {\n",
              "        vertical-align: top;\n",
              "    }\n",
              "\n",
              "    .dataframe thead th {\n",
              "        text-align: right;\n",
              "    }\n",
              "</style>\n",
              "<table border=\"1\" class=\"dataframe\">\n",
              "  <thead>\n",
              "    <tr style=\"text-align: right;\">\n",
              "      <th></th>\n",
              "      <th>A</th>\n",
              "      <th>B</th>\n",
              "      <th>C</th>\n",
              "      <th>D</th>\n",
              "      <th>E</th>\n",
              "    </tr>\n",
              "  </thead>\n",
              "  <tbody>\n",
              "    <tr>\n",
              "      <th>0</th>\n",
              "      <td>df1_A0</td>\n",
              "      <td>df1_B0</td>\n",
              "      <td>df1_C0</td>\n",
              "      <td>NaN</td>\n",
              "      <td>NaN</td>\n",
              "    </tr>\n",
              "    <tr>\n",
              "      <th>1</th>\n",
              "      <td>df1_A1</td>\n",
              "      <td>df1_B1</td>\n",
              "      <td>df1_C1</td>\n",
              "      <td>NaN</td>\n",
              "      <td>NaN</td>\n",
              "    </tr>\n",
              "    <tr>\n",
              "      <th>2</th>\n",
              "      <td>df1_A2</td>\n",
              "      <td>df1_B2</td>\n",
              "      <td>df1_C2</td>\n",
              "      <td>NaN</td>\n",
              "      <td>NaN</td>\n",
              "    </tr>\n",
              "    <tr>\n",
              "      <th>4</th>\n",
              "      <td>NaN</td>\n",
              "      <td>NaN</td>\n",
              "      <td>df1_C4</td>\n",
              "      <td>df2_D4</td>\n",
              "      <td>df2_E4</td>\n",
              "    </tr>\n",
              "    <tr>\n",
              "      <th>3</th>\n",
              "      <td>NaN</td>\n",
              "      <td>NaN</td>\n",
              "      <td>df1_C3</td>\n",
              "      <td>df2_D3</td>\n",
              "      <td>df2_E3</td>\n",
              "    </tr>\n",
              "    <tr>\n",
              "      <th>2</th>\n",
              "      <td>NaN</td>\n",
              "      <td>NaN</td>\n",
              "      <td>df1_C2</td>\n",
              "      <td>df2_D2</td>\n",
              "      <td>df2_E2</td>\n",
              "    </tr>\n",
              "  </tbody>\n",
              "</table>\n",
              "</div>"
            ],
            "text/plain": [
              "        A       B       C       D       E\n",
              "0  df1_A0  df1_B0  df1_C0     NaN     NaN\n",
              "1  df1_A1  df1_B1  df1_C1     NaN     NaN\n",
              "2  df1_A2  df1_B2  df1_C2     NaN     NaN\n",
              "4     NaN     NaN  df1_C4  df2_D4  df2_E4\n",
              "3     NaN     NaN  df1_C3  df2_D3  df2_E3\n",
              "2     NaN     NaN  df1_C2  df2_D2  df2_E2"
            ]
          },
          "metadata": {
            "tags": []
          },
          "execution_count": 47
        }
      ]
    },
    {
      "cell_type": "markdown",
      "metadata": {
        "id": "-EU3s29Xzvx_"
      },
      "source": [
        "#### Index 재설정\n",
        "\n",
        "* 아래 코드는 ignore_index값을 True로(ignore_index=True) 설정하여 병합 후 index 값을 [0 ~ n-1]으로 자동 재설정함\n",
        "\n",
        "* 위의 코드 결과와 비교하여 병합된 DataFrame의 index값이 0~5로 되어 있는 것을 할 수 있음"
      ]
    },
    {
      "cell_type": "code",
      "metadata": {
        "colab": {
          "base_uri": "https://localhost:8080/",
          "height": 233
        },
        "id": "0bmMVQJ-zv7g",
        "outputId": "a9331b23-d004-4855-e477-decafb6c1fbf"
      },
      "source": [
        " result = df1.append(df2, ignore_index=True)\n",
        " result"
      ],
      "execution_count": null,
      "outputs": [
        {
          "output_type": "execute_result",
          "data": {
            "text/html": [
              "<div>\n",
              "<style scoped>\n",
              "    .dataframe tbody tr th:only-of-type {\n",
              "        vertical-align: middle;\n",
              "    }\n",
              "\n",
              "    .dataframe tbody tr th {\n",
              "        vertical-align: top;\n",
              "    }\n",
              "\n",
              "    .dataframe thead th {\n",
              "        text-align: right;\n",
              "    }\n",
              "</style>\n",
              "<table border=\"1\" class=\"dataframe\">\n",
              "  <thead>\n",
              "    <tr style=\"text-align: right;\">\n",
              "      <th></th>\n",
              "      <th>A</th>\n",
              "      <th>B</th>\n",
              "      <th>C</th>\n",
              "      <th>E</th>\n",
              "      <th>D</th>\n",
              "    </tr>\n",
              "  </thead>\n",
              "  <tbody>\n",
              "    <tr>\n",
              "      <th>0</th>\n",
              "      <td>df1_A0</td>\n",
              "      <td>df1_B0</td>\n",
              "      <td>df1_C0</td>\n",
              "      <td>NaN</td>\n",
              "      <td>NaN</td>\n",
              "    </tr>\n",
              "    <tr>\n",
              "      <th>1</th>\n",
              "      <td>df1_A1</td>\n",
              "      <td>df1_B1</td>\n",
              "      <td>df1_C1</td>\n",
              "      <td>NaN</td>\n",
              "      <td>NaN</td>\n",
              "    </tr>\n",
              "    <tr>\n",
              "      <th>2</th>\n",
              "      <td>df1_A2</td>\n",
              "      <td>df1_B2</td>\n",
              "      <td>df1_C2</td>\n",
              "      <td>NaN</td>\n",
              "      <td>NaN</td>\n",
              "    </tr>\n",
              "    <tr>\n",
              "      <th>3</th>\n",
              "      <td>NaN</td>\n",
              "      <td>NaN</td>\n",
              "      <td>df1_C4</td>\n",
              "      <td>df2_E4</td>\n",
              "      <td>df2_D4</td>\n",
              "    </tr>\n",
              "    <tr>\n",
              "      <th>4</th>\n",
              "      <td>NaN</td>\n",
              "      <td>NaN</td>\n",
              "      <td>df1_C3</td>\n",
              "      <td>df2_E3</td>\n",
              "      <td>df2_D3</td>\n",
              "    </tr>\n",
              "    <tr>\n",
              "      <th>5</th>\n",
              "      <td>NaN</td>\n",
              "      <td>NaN</td>\n",
              "      <td>df1_C2</td>\n",
              "      <td>df2_E2</td>\n",
              "      <td>df2_D2</td>\n",
              "    </tr>\n",
              "  </tbody>\n",
              "</table>\n",
              "</div>"
            ],
            "text/plain": [
              "        A       B       C       E       D\n",
              "0  df1_A0  df1_B0  df1_C0     NaN     NaN\n",
              "1  df1_A1  df1_B1  df1_C1     NaN     NaN\n",
              "2  df1_A2  df1_B2  df1_C2     NaN     NaN\n",
              "3     NaN     NaN  df1_C4  df2_E4  df2_D4\n",
              "4     NaN     NaN  df1_C3  df2_E3  df2_D3\n",
              "5     NaN     NaN  df1_C2  df2_E2  df2_D2"
            ]
          },
          "metadata": {
            "tags": []
          },
          "execution_count": 48
        }
      ]
    },
    {
      "cell_type": "markdown",
      "metadata": {
        "id": "34KQnllGM6w0"
      },
      "source": [
        "## 폴더 안의 모든 데이터 파일 병합하기\n",
        "\n",
        "* 폴더 안의 모든 데이터 파일 읽기 section에서 splits 폴더(i.e., '*.../splites/*') 안에 있는 모든 CSV 파일을 DataFrame으로 읽어와 리스트(list)로 만드는 것을 배웠음\n",
        "\n",
        "* 이번에는 CSV파일을 읽어온 후 병합하여 아래 테이블 같은 형태의 DataFrame을 만들어 보겠음\n",
        "\n",
        "index| PassengerId| Survived| Pclass| Sex| Age| Ticket| Fare| Cabin| Embarked\n",
        ":---:|:---:|:---:|:---:|:---:|:---:|:---:|:---:|:---:|:---:| \n",
        "0|1|0|3|male|22.0|A/5 21171|7.2500|NaN|S\n",
        "1|2|1|1|female|38.0|PC 17599|71.2833|C85|C\n",
        "2|3|1|3|female|26.0|STON/O2. 3101282|7.9250|NaN|S\n",
        "3|4|1|1|female|35.0|113803|53.1000|C123|S\n",
        "4|5|0|3|male|35.0|373450|8.0500|NaN|S\n",
        "\n",
        "* 윗 테이블의 'titanic.csv'로 생성한 DataFrame 형태와 같음"
      ]
    },
    {
      "cell_type": "code",
      "metadata": {
        "colab": {
          "base_uri": "https://localhost:8080/",
          "height": 219
        },
        "id": "2RR6VHzzPK3l",
        "outputId": "c5c6f2ed-af2d-4c1c-8aaf-fc96546e36c1"
      },
      "source": [
        "import pandas as pd\n",
        "from os import path\n",
        "\n",
        "df = pd.read_csv(path.join(root_path,'titanic.csv'))\n",
        "df.head()"
      ],
      "execution_count": null,
      "outputs": [
        {
          "output_type": "execute_result",
          "data": {
            "text/html": [
              "<div>\n",
              "<style scoped>\n",
              "    .dataframe tbody tr th:only-of-type {\n",
              "        vertical-align: middle;\n",
              "    }\n",
              "\n",
              "    .dataframe tbody tr th {\n",
              "        vertical-align: top;\n",
              "    }\n",
              "\n",
              "    .dataframe thead th {\n",
              "        text-align: right;\n",
              "    }\n",
              "</style>\n",
              "<table border=\"1\" class=\"dataframe\">\n",
              "  <thead>\n",
              "    <tr style=\"text-align: right;\">\n",
              "      <th></th>\n",
              "      <th>PassengerId</th>\n",
              "      <th>Survived</th>\n",
              "      <th>Pclass</th>\n",
              "      <th>Sex</th>\n",
              "      <th>Age</th>\n",
              "      <th>Ticket</th>\n",
              "      <th>Fare</th>\n",
              "      <th>Cabin</th>\n",
              "      <th>Embarked</th>\n",
              "    </tr>\n",
              "  </thead>\n",
              "  <tbody>\n",
              "    <tr>\n",
              "      <th>0</th>\n",
              "      <td>1</td>\n",
              "      <td>0</td>\n",
              "      <td>3</td>\n",
              "      <td>male</td>\n",
              "      <td>22.0</td>\n",
              "      <td>A/5 21171</td>\n",
              "      <td>7.2500</td>\n",
              "      <td>NaN</td>\n",
              "      <td>S</td>\n",
              "    </tr>\n",
              "    <tr>\n",
              "      <th>1</th>\n",
              "      <td>2</td>\n",
              "      <td>1</td>\n",
              "      <td>1</td>\n",
              "      <td>female</td>\n",
              "      <td>38.0</td>\n",
              "      <td>PC 17599</td>\n",
              "      <td>71.2833</td>\n",
              "      <td>C85</td>\n",
              "      <td>C</td>\n",
              "    </tr>\n",
              "    <tr>\n",
              "      <th>2</th>\n",
              "      <td>3</td>\n",
              "      <td>1</td>\n",
              "      <td>3</td>\n",
              "      <td>female</td>\n",
              "      <td>26.0</td>\n",
              "      <td>STON/O2. 3101282</td>\n",
              "      <td>7.9250</td>\n",
              "      <td>NaN</td>\n",
              "      <td>S</td>\n",
              "    </tr>\n",
              "    <tr>\n",
              "      <th>3</th>\n",
              "      <td>4</td>\n",
              "      <td>1</td>\n",
              "      <td>1</td>\n",
              "      <td>female</td>\n",
              "      <td>35.0</td>\n",
              "      <td>113803</td>\n",
              "      <td>53.1000</td>\n",
              "      <td>C123</td>\n",
              "      <td>S</td>\n",
              "    </tr>\n",
              "    <tr>\n",
              "      <th>4</th>\n",
              "      <td>5</td>\n",
              "      <td>0</td>\n",
              "      <td>3</td>\n",
              "      <td>male</td>\n",
              "      <td>35.0</td>\n",
              "      <td>373450</td>\n",
              "      <td>8.0500</td>\n",
              "      <td>NaN</td>\n",
              "      <td>S</td>\n",
              "    </tr>\n",
              "  </tbody>\n",
              "</table>\n",
              "</div>"
            ],
            "text/plain": [
              "   PassengerId  Survived  Pclass  ...     Fare  Cabin Embarked\n",
              "0            1         0       3  ...   7.2500    NaN        S\n",
              "1            2         1       1  ...  71.2833    C85        C\n",
              "2            3         1       3  ...   7.9250    NaN        S\n",
              "3            4         1       1  ...  53.1000   C123        S\n",
              "4            5         0       3  ...   8.0500    NaN        S\n",
              "\n",
              "[5 rows x 9 columns]"
            ]
          },
          "metadata": {
            "tags": []
          },
          "execution_count": 49
        }
      ]
    },
    {
      "cell_type": "markdown",
      "metadata": {
        "id": "IuQSLkiuRjYx"
      },
      "source": [
        "* splits 폴더에 있는 파일은 아래와 그림과 같음\n",
        "\n",
        "![CSV Screenshot](https://drive.google.com/uc?export=view&id=1qb1Nh28ywoTL1mGgSDyXDcOs8pgMAyVu) \n",
        "\n",
        "*  개별 파일은 특정 Pclass의 특정 성별을 가진 탑승객의 {Survived, Age, Ticket, Fare, Cabin, \tEmbarked}의 정보 중 한개를 담고 있음\n",
        "\n",
        "* 예컨대 'titanic_Age_class1_female.csv' 파일을 보면 Class1에 탑승한 여성 승객의 PassengerId와 Age정보가 나와 있음"
      ]
    },
    {
      "cell_type": "code",
      "metadata": {
        "colab": {
          "base_uri": "https://localhost:8080/",
          "height": 202
        },
        "id": "2nt_6lk2SDVI",
        "outputId": "273d39b3-4b78-455f-be55-f24c8806a33d"
      },
      "source": [
        "import pandas as pd\n",
        "from os import path\n",
        "\n",
        "directory = os.path.join(root_path,'splits')\n",
        "\n",
        "df = pd.read_csv(path.join(directory,'titanic_Age_class1_female.csv'))\n",
        "df.head()"
      ],
      "execution_count": null,
      "outputs": [
        {
          "output_type": "execute_result",
          "data": {
            "text/html": [
              "<div>\n",
              "<style scoped>\n",
              "    .dataframe tbody tr th:only-of-type {\n",
              "        vertical-align: middle;\n",
              "    }\n",
              "\n",
              "    .dataframe tbody tr th {\n",
              "        vertical-align: top;\n",
              "    }\n",
              "\n",
              "    .dataframe thead th {\n",
              "        text-align: right;\n",
              "    }\n",
              "</style>\n",
              "<table border=\"1\" class=\"dataframe\">\n",
              "  <thead>\n",
              "    <tr style=\"text-align: right;\">\n",
              "      <th></th>\n",
              "      <th>PassengerId</th>\n",
              "      <th>Age</th>\n",
              "    </tr>\n",
              "  </thead>\n",
              "  <tbody>\n",
              "    <tr>\n",
              "      <th>0</th>\n",
              "      <td>2</td>\n",
              "      <td>38.0</td>\n",
              "    </tr>\n",
              "    <tr>\n",
              "      <th>1</th>\n",
              "      <td>4</td>\n",
              "      <td>35.0</td>\n",
              "    </tr>\n",
              "    <tr>\n",
              "      <th>2</th>\n",
              "      <td>12</td>\n",
              "      <td>58.0</td>\n",
              "    </tr>\n",
              "    <tr>\n",
              "      <th>3</th>\n",
              "      <td>32</td>\n",
              "      <td>NaN</td>\n",
              "    </tr>\n",
              "    <tr>\n",
              "      <th>4</th>\n",
              "      <td>53</td>\n",
              "      <td>49.0</td>\n",
              "    </tr>\n",
              "  </tbody>\n",
              "</table>\n",
              "</div>"
            ],
            "text/plain": [
              "   PassengerId   Age\n",
              "0            2  38.0\n",
              "1            4  35.0\n",
              "2           12  58.0\n",
              "3           32   NaN\n",
              "4           53  49.0"
            ]
          },
          "metadata": {
            "tags": []
          },
          "execution_count": 52
        }
      ]
    },
    {
      "cell_type": "markdown",
      "metadata": {
        "id": "kcbNO4HwPKxD"
      },
      "source": [
        "* 먼저 동일 종류(e.g., Age)의 정보를 담고 있는 파일들을 index 기준 병합 한 후, 다음으로 병합된 DataFrame을 column 기준 병합 하겠음 "
      ]
    },
    {
      "cell_type": "code",
      "metadata": {
        "id": "gWMpnOLjNEo0"
      },
      "source": [
        "import os \n",
        "\n",
        "directory = os.path.join(root_path,'splits')\n",
        "\n",
        "info_types = ['Survived', 'Age', 'Ticket', 'Fare', 'Cabin', 'Embarked']\n",
        "info_type_dfs = []\n",
        "\n",
        "for info_type in info_types:\n",
        "  df_list = []\n",
        "  for file in os.listdir(directory):\n",
        "    file_path = os.path.join(directory, file)\n",
        "    if os.path.isfile(file_path) and '.csv' in file and info_type in file: \n",
        "      df = pd.read_csv(file_path)\n",
        "      if 'Survived' in file:\n",
        "        df['sex'] = 'female' if 'female' in file else 'male'\n",
        "        df['Pclass'] = 1 if 'class1' in file else 2 if 'class2' in file else 3\n",
        "     \n",
        "      df_list.append(df)\n",
        "\n",
        "  df = pd.concat(df_list, ignore_index=True)\n",
        "  \n",
        "\n",
        "  df = df.set_index('PassengerId')\n",
        "  info_type_dfs.append(df)"
      ],
      "execution_count": null,
      "outputs": []
    },
    {
      "cell_type": "code",
      "metadata": {
        "colab": {
          "base_uri": "https://localhost:8080/",
          "height": 233
        },
        "id": "V0kgtPqiYTQ7",
        "outputId": "cc09073f-61bf-4f82-900a-46d54ccbdcde"
      },
      "source": [
        "info_type_dfs[0].head()"
      ],
      "execution_count": null,
      "outputs": [
        {
          "output_type": "execute_result",
          "data": {
            "text/html": [
              "<div>\n",
              "<style scoped>\n",
              "    .dataframe tbody tr th:only-of-type {\n",
              "        vertical-align: middle;\n",
              "    }\n",
              "\n",
              "    .dataframe tbody tr th {\n",
              "        vertical-align: top;\n",
              "    }\n",
              "\n",
              "    .dataframe thead th {\n",
              "        text-align: right;\n",
              "    }\n",
              "</style>\n",
              "<table border=\"1\" class=\"dataframe\">\n",
              "  <thead>\n",
              "    <tr style=\"text-align: right;\">\n",
              "      <th></th>\n",
              "      <th>Survived</th>\n",
              "      <th>sex</th>\n",
              "      <th>Pclass</th>\n",
              "    </tr>\n",
              "    <tr>\n",
              "      <th>PassengerId</th>\n",
              "      <th></th>\n",
              "      <th></th>\n",
              "      <th></th>\n",
              "    </tr>\n",
              "  </thead>\n",
              "  <tbody>\n",
              "    <tr>\n",
              "      <th>1</th>\n",
              "      <td>0</td>\n",
              "      <td>male</td>\n",
              "      <td>3</td>\n",
              "    </tr>\n",
              "    <tr>\n",
              "      <th>5</th>\n",
              "      <td>0</td>\n",
              "      <td>male</td>\n",
              "      <td>3</td>\n",
              "    </tr>\n",
              "    <tr>\n",
              "      <th>6</th>\n",
              "      <td>0</td>\n",
              "      <td>male</td>\n",
              "      <td>3</td>\n",
              "    </tr>\n",
              "    <tr>\n",
              "      <th>8</th>\n",
              "      <td>0</td>\n",
              "      <td>male</td>\n",
              "      <td>3</td>\n",
              "    </tr>\n",
              "    <tr>\n",
              "      <th>13</th>\n",
              "      <td>0</td>\n",
              "      <td>male</td>\n",
              "      <td>3</td>\n",
              "    </tr>\n",
              "  </tbody>\n",
              "</table>\n",
              "</div>"
            ],
            "text/plain": [
              "             Survived   sex  Pclass\n",
              "PassengerId                        \n",
              "1                   0  male       3\n",
              "5                   0  male       3\n",
              "6                   0  male       3\n",
              "8                   0  male       3\n",
              "13                  0  male       3"
            ]
          },
          "metadata": {
            "tags": []
          },
          "execution_count": 60
        }
      ]
    },
    {
      "cell_type": "code",
      "metadata": {
        "colab": {
          "base_uri": "https://localhost:8080/",
          "height": 433
        },
        "id": "_zD2vvk9VW_i",
        "outputId": "87bbb669-5da4-477e-d5c0-1669dd2e3065"
      },
      "source": [
        "final_df = pd.concat(info_type_dfs, axis=1)\n",
        "final_df = final_df.reset_index()\n",
        "final_df"
      ],
      "execution_count": null,
      "outputs": [
        {
          "output_type": "execute_result",
          "data": {
            "text/html": [
              "<div>\n",
              "<style scoped>\n",
              "    .dataframe tbody tr th:only-of-type {\n",
              "        vertical-align: middle;\n",
              "    }\n",
              "\n",
              "    .dataframe tbody tr th {\n",
              "        vertical-align: top;\n",
              "    }\n",
              "\n",
              "    .dataframe thead th {\n",
              "        text-align: right;\n",
              "    }\n",
              "</style>\n",
              "<table border=\"1\" class=\"dataframe\">\n",
              "  <thead>\n",
              "    <tr style=\"text-align: right;\">\n",
              "      <th></th>\n",
              "      <th>PassengerId</th>\n",
              "      <th>Survived</th>\n",
              "      <th>sex</th>\n",
              "      <th>Pclass</th>\n",
              "      <th>Age</th>\n",
              "      <th>Ticket</th>\n",
              "      <th>Fare</th>\n",
              "      <th>Cabin</th>\n",
              "      <th>Embarked</th>\n",
              "    </tr>\n",
              "  </thead>\n",
              "  <tbody>\n",
              "    <tr>\n",
              "      <th>0</th>\n",
              "      <td>1</td>\n",
              "      <td>0</td>\n",
              "      <td>male</td>\n",
              "      <td>3</td>\n",
              "      <td>22.0</td>\n",
              "      <td>A/5 21171</td>\n",
              "      <td>7.2500</td>\n",
              "      <td>NaN</td>\n",
              "      <td>S</td>\n",
              "    </tr>\n",
              "    <tr>\n",
              "      <th>1</th>\n",
              "      <td>2</td>\n",
              "      <td>1</td>\n",
              "      <td>female</td>\n",
              "      <td>1</td>\n",
              "      <td>38.0</td>\n",
              "      <td>PC 17599</td>\n",
              "      <td>71.2833</td>\n",
              "      <td>C85</td>\n",
              "      <td>C</td>\n",
              "    </tr>\n",
              "    <tr>\n",
              "      <th>2</th>\n",
              "      <td>3</td>\n",
              "      <td>1</td>\n",
              "      <td>female</td>\n",
              "      <td>3</td>\n",
              "      <td>26.0</td>\n",
              "      <td>STON/O2. 3101282</td>\n",
              "      <td>7.9250</td>\n",
              "      <td>NaN</td>\n",
              "      <td>S</td>\n",
              "    </tr>\n",
              "    <tr>\n",
              "      <th>3</th>\n",
              "      <td>4</td>\n",
              "      <td>1</td>\n",
              "      <td>female</td>\n",
              "      <td>1</td>\n",
              "      <td>35.0</td>\n",
              "      <td>113803</td>\n",
              "      <td>53.1000</td>\n",
              "      <td>C123</td>\n",
              "      <td>S</td>\n",
              "    </tr>\n",
              "    <tr>\n",
              "      <th>4</th>\n",
              "      <td>5</td>\n",
              "      <td>0</td>\n",
              "      <td>male</td>\n",
              "      <td>3</td>\n",
              "      <td>35.0</td>\n",
              "      <td>373450</td>\n",
              "      <td>8.0500</td>\n",
              "      <td>NaN</td>\n",
              "      <td>S</td>\n",
              "    </tr>\n",
              "    <tr>\n",
              "      <th>...</th>\n",
              "      <td>...</td>\n",
              "      <td>...</td>\n",
              "      <td>...</td>\n",
              "      <td>...</td>\n",
              "      <td>...</td>\n",
              "      <td>...</td>\n",
              "      <td>...</td>\n",
              "      <td>...</td>\n",
              "      <td>...</td>\n",
              "    </tr>\n",
              "    <tr>\n",
              "      <th>886</th>\n",
              "      <td>887</td>\n",
              "      <td>0</td>\n",
              "      <td>male</td>\n",
              "      <td>2</td>\n",
              "      <td>27.0</td>\n",
              "      <td>211536</td>\n",
              "      <td>13.0000</td>\n",
              "      <td>NaN</td>\n",
              "      <td>S</td>\n",
              "    </tr>\n",
              "    <tr>\n",
              "      <th>887</th>\n",
              "      <td>888</td>\n",
              "      <td>1</td>\n",
              "      <td>female</td>\n",
              "      <td>1</td>\n",
              "      <td>19.0</td>\n",
              "      <td>112053</td>\n",
              "      <td>30.0000</td>\n",
              "      <td>B42</td>\n",
              "      <td>S</td>\n",
              "    </tr>\n",
              "    <tr>\n",
              "      <th>888</th>\n",
              "      <td>889</td>\n",
              "      <td>0</td>\n",
              "      <td>female</td>\n",
              "      <td>3</td>\n",
              "      <td>NaN</td>\n",
              "      <td>W./C. 6607</td>\n",
              "      <td>23.4500</td>\n",
              "      <td>NaN</td>\n",
              "      <td>S</td>\n",
              "    </tr>\n",
              "    <tr>\n",
              "      <th>889</th>\n",
              "      <td>890</td>\n",
              "      <td>1</td>\n",
              "      <td>male</td>\n",
              "      <td>1</td>\n",
              "      <td>26.0</td>\n",
              "      <td>111369</td>\n",
              "      <td>30.0000</td>\n",
              "      <td>C148</td>\n",
              "      <td>C</td>\n",
              "    </tr>\n",
              "    <tr>\n",
              "      <th>890</th>\n",
              "      <td>891</td>\n",
              "      <td>0</td>\n",
              "      <td>male</td>\n",
              "      <td>3</td>\n",
              "      <td>32.0</td>\n",
              "      <td>370376</td>\n",
              "      <td>7.7500</td>\n",
              "      <td>NaN</td>\n",
              "      <td>Q</td>\n",
              "    </tr>\n",
              "  </tbody>\n",
              "</table>\n",
              "<p>891 rows × 9 columns</p>\n",
              "</div>"
            ],
            "text/plain": [
              "     PassengerId  Survived     sex  ...     Fare  Cabin Embarked\n",
              "0              1         0    male  ...   7.2500    NaN        S\n",
              "1              2         1  female  ...  71.2833    C85        C\n",
              "2              3         1  female  ...   7.9250    NaN        S\n",
              "3              4         1  female  ...  53.1000   C123        S\n",
              "4              5         0    male  ...   8.0500    NaN        S\n",
              "..           ...       ...     ...  ...      ...    ...      ...\n",
              "886          887         0    male  ...  13.0000    NaN        S\n",
              "887          888         1  female  ...  30.0000    B42        S\n",
              "888          889         0  female  ...  23.4500    NaN        S\n",
              "889          890         1    male  ...  30.0000   C148        C\n",
              "890          891         0    male  ...   7.7500    NaN        Q\n",
              "\n",
              "[891 rows x 9 columns]"
            ]
          },
          "metadata": {
            "tags": []
          },
          "execution_count": 61
        }
      ]
    },
    {
      "cell_type": "markdown",
      "metadata": {
        "id": "B39UTOXLZD4U"
      },
      "source": [
        "* 아래 코드는 'titanic.csv'로 생성한 DataFrame를 보여주고 있음. Column name 순서는 다르지만 윗 final_df의 정보와 같음을 알 수 있음"
      ]
    },
    {
      "cell_type": "code",
      "metadata": {
        "colab": {
          "base_uri": "https://localhost:8080/",
          "height": 402
        },
        "id": "y6jnHe0AZElA",
        "outputId": "32c4c8ea-8ae5-4321-9999-972654dea1b7"
      },
      "source": [
        "import pandas as pd\n",
        "from os import path\n",
        "\n",
        "df = pd.read_csv(path.join(root_path,'titanic.csv'))\n",
        "df"
      ],
      "execution_count": null,
      "outputs": [
        {
          "output_type": "execute_result",
          "data": {
            "text/html": [
              "<div>\n",
              "<style scoped>\n",
              "    .dataframe tbody tr th:only-of-type {\n",
              "        vertical-align: middle;\n",
              "    }\n",
              "\n",
              "    .dataframe tbody tr th {\n",
              "        vertical-align: top;\n",
              "    }\n",
              "\n",
              "    .dataframe thead th {\n",
              "        text-align: right;\n",
              "    }\n",
              "</style>\n",
              "<table border=\"1\" class=\"dataframe\">\n",
              "  <thead>\n",
              "    <tr style=\"text-align: right;\">\n",
              "      <th></th>\n",
              "      <th>PassengerId</th>\n",
              "      <th>Survived</th>\n",
              "      <th>Pclass</th>\n",
              "      <th>Sex</th>\n",
              "      <th>Age</th>\n",
              "      <th>Ticket</th>\n",
              "      <th>Fare</th>\n",
              "      <th>Cabin</th>\n",
              "      <th>Embarked</th>\n",
              "    </tr>\n",
              "  </thead>\n",
              "  <tbody>\n",
              "    <tr>\n",
              "      <th>0</th>\n",
              "      <td>1</td>\n",
              "      <td>0</td>\n",
              "      <td>3</td>\n",
              "      <td>male</td>\n",
              "      <td>22.0</td>\n",
              "      <td>A/5 21171</td>\n",
              "      <td>7.2500</td>\n",
              "      <td>NaN</td>\n",
              "      <td>S</td>\n",
              "    </tr>\n",
              "    <tr>\n",
              "      <th>1</th>\n",
              "      <td>2</td>\n",
              "      <td>1</td>\n",
              "      <td>1</td>\n",
              "      <td>female</td>\n",
              "      <td>38.0</td>\n",
              "      <td>PC 17599</td>\n",
              "      <td>71.2833</td>\n",
              "      <td>C85</td>\n",
              "      <td>C</td>\n",
              "    </tr>\n",
              "    <tr>\n",
              "      <th>2</th>\n",
              "      <td>3</td>\n",
              "      <td>1</td>\n",
              "      <td>3</td>\n",
              "      <td>female</td>\n",
              "      <td>26.0</td>\n",
              "      <td>STON/O2. 3101282</td>\n",
              "      <td>7.9250</td>\n",
              "      <td>NaN</td>\n",
              "      <td>S</td>\n",
              "    </tr>\n",
              "    <tr>\n",
              "      <th>3</th>\n",
              "      <td>4</td>\n",
              "      <td>1</td>\n",
              "      <td>1</td>\n",
              "      <td>female</td>\n",
              "      <td>35.0</td>\n",
              "      <td>113803</td>\n",
              "      <td>53.1000</td>\n",
              "      <td>C123</td>\n",
              "      <td>S</td>\n",
              "    </tr>\n",
              "    <tr>\n",
              "      <th>4</th>\n",
              "      <td>5</td>\n",
              "      <td>0</td>\n",
              "      <td>3</td>\n",
              "      <td>male</td>\n",
              "      <td>35.0</td>\n",
              "      <td>373450</td>\n",
              "      <td>8.0500</td>\n",
              "      <td>NaN</td>\n",
              "      <td>S</td>\n",
              "    </tr>\n",
              "    <tr>\n",
              "      <th>...</th>\n",
              "      <td>...</td>\n",
              "      <td>...</td>\n",
              "      <td>...</td>\n",
              "      <td>...</td>\n",
              "      <td>...</td>\n",
              "      <td>...</td>\n",
              "      <td>...</td>\n",
              "      <td>...</td>\n",
              "      <td>...</td>\n",
              "    </tr>\n",
              "    <tr>\n",
              "      <th>886</th>\n",
              "      <td>887</td>\n",
              "      <td>0</td>\n",
              "      <td>2</td>\n",
              "      <td>male</td>\n",
              "      <td>27.0</td>\n",
              "      <td>211536</td>\n",
              "      <td>13.0000</td>\n",
              "      <td>NaN</td>\n",
              "      <td>S</td>\n",
              "    </tr>\n",
              "    <tr>\n",
              "      <th>887</th>\n",
              "      <td>888</td>\n",
              "      <td>1</td>\n",
              "      <td>1</td>\n",
              "      <td>female</td>\n",
              "      <td>19.0</td>\n",
              "      <td>112053</td>\n",
              "      <td>30.0000</td>\n",
              "      <td>B42</td>\n",
              "      <td>S</td>\n",
              "    </tr>\n",
              "    <tr>\n",
              "      <th>888</th>\n",
              "      <td>889</td>\n",
              "      <td>0</td>\n",
              "      <td>3</td>\n",
              "      <td>female</td>\n",
              "      <td>NaN</td>\n",
              "      <td>W./C. 6607</td>\n",
              "      <td>23.4500</td>\n",
              "      <td>NaN</td>\n",
              "      <td>S</td>\n",
              "    </tr>\n",
              "    <tr>\n",
              "      <th>889</th>\n",
              "      <td>890</td>\n",
              "      <td>1</td>\n",
              "      <td>1</td>\n",
              "      <td>male</td>\n",
              "      <td>26.0</td>\n",
              "      <td>111369</td>\n",
              "      <td>30.0000</td>\n",
              "      <td>C148</td>\n",
              "      <td>C</td>\n",
              "    </tr>\n",
              "    <tr>\n",
              "      <th>890</th>\n",
              "      <td>891</td>\n",
              "      <td>0</td>\n",
              "      <td>3</td>\n",
              "      <td>male</td>\n",
              "      <td>32.0</td>\n",
              "      <td>370376</td>\n",
              "      <td>7.7500</td>\n",
              "      <td>NaN</td>\n",
              "      <td>Q</td>\n",
              "    </tr>\n",
              "  </tbody>\n",
              "</table>\n",
              "<p>891 rows × 9 columns</p>\n",
              "</div>"
            ],
            "text/plain": [
              "     PassengerId  Survived  Pclass  ...     Fare  Cabin Embarked\n",
              "0              1         0       3  ...   7.2500    NaN        S\n",
              "1              2         1       1  ...  71.2833    C85        C\n",
              "2              3         1       3  ...   7.9250    NaN        S\n",
              "3              4         1       1  ...  53.1000   C123        S\n",
              "4              5         0       3  ...   8.0500    NaN        S\n",
              "..           ...       ...     ...  ...      ...    ...      ...\n",
              "886          887         0       2  ...  13.0000    NaN        S\n",
              "887          888         1       1  ...  30.0000    B42        S\n",
              "888          889         0       3  ...  23.4500    NaN        S\n",
              "889          890         1       1  ...  30.0000   C148        C\n",
              "890          891         0       3  ...   7.7500    NaN        Q\n",
              "\n",
              "[891 rows x 9 columns]"
            ]
          },
          "metadata": {
            "tags": []
          },
          "execution_count": 60
        }
      ]
    },
    {
      "cell_type": "markdown",
      "metadata": {
        "id": "ANPXRKrqPix9"
      },
      "source": [
        "# 데이터 삭제\n",
        "\n",
        "* DataFrame의 특정 Row나 Column을 삭제할 때는 [DataFrame.drop](https://pandas.pydata.org/pandas-docs/stable/reference/api/pandas.DataFrame.drop.html) 메소드를 사용하면 됨\n",
        "\n",
        "* 삭제하고자 하는 데이터의 타입(Row 또는 Column)에 따라 index, columns 값을 넣어주면 됨\n",
        "\n",
        "* DataFrame df1, df2, df3를 병합한 df를 활용하여 데이터 삭제하는 것에 대해 배우겠음 \n"
      ]
    },
    {
      "cell_type": "code",
      "metadata": {
        "colab": {
          "base_uri": "https://localhost:8080/",
          "height": 325
        },
        "id": "Ft6NMWb-FOyP",
        "outputId": "b14313b2-a56c-4e77-8070-fed3c1798aa0"
      },
      "source": [
        "import pandas as pd\n",
        "import numpy as np\n",
        "\n",
        "df1 = pd.DataFrame({'A': ['df1_A0', 'df1_A1', 'df1_A2'],\n",
        "                    'B': ['df1_B0', 'df1_B1', 'df1_B2'],\n",
        "                    'C': ['df1_C0', 'df1_C1', 'df1_C2']},\n",
        "                   index=[0, 1, 2])\n",
        "df2 = pd.DataFrame({'E': ['df2_E4', 'df2_E3', 'df2_E2'],\n",
        "                    'D': ['df2_D4', 'df2_D3', 'df2_D2'],\n",
        "                    'C': ['df1_C4', 'df1_C3', 'df1_C2']},\n",
        "                   index=[4, 3, 2])\n",
        "df3 = pd.DataFrame({'F': [np.nan, np.nan, np.nan],\n",
        "                    'G': [np.nan, 'df3_G6', 'df3_G7'],\n",
        "                    'C': ['df3_C6', 'df3_C6', 'df3_C7']},\n",
        "                   index=[5, 6, 7])\n",
        "\n",
        "def get_df():\n",
        "  return pd.concat([df1, df2, df3], sort=True, ignore_index=True)\n",
        "\n",
        "df = get_df()\n",
        "df"
      ],
      "execution_count": null,
      "outputs": [
        {
          "output_type": "execute_result",
          "data": {
            "text/html": [
              "<div>\n",
              "<style scoped>\n",
              "    .dataframe tbody tr th:only-of-type {\n",
              "        vertical-align: middle;\n",
              "    }\n",
              "\n",
              "    .dataframe tbody tr th {\n",
              "        vertical-align: top;\n",
              "    }\n",
              "\n",
              "    .dataframe thead th {\n",
              "        text-align: right;\n",
              "    }\n",
              "</style>\n",
              "<table border=\"1\" class=\"dataframe\">\n",
              "  <thead>\n",
              "    <tr style=\"text-align: right;\">\n",
              "      <th></th>\n",
              "      <th>A</th>\n",
              "      <th>B</th>\n",
              "      <th>C</th>\n",
              "      <th>D</th>\n",
              "      <th>E</th>\n",
              "      <th>F</th>\n",
              "      <th>G</th>\n",
              "    </tr>\n",
              "  </thead>\n",
              "  <tbody>\n",
              "    <tr>\n",
              "      <th>0</th>\n",
              "      <td>df1_A0</td>\n",
              "      <td>df1_B0</td>\n",
              "      <td>df1_C0</td>\n",
              "      <td>NaN</td>\n",
              "      <td>NaN</td>\n",
              "      <td>NaN</td>\n",
              "      <td>NaN</td>\n",
              "    </tr>\n",
              "    <tr>\n",
              "      <th>1</th>\n",
              "      <td>df1_A1</td>\n",
              "      <td>df1_B1</td>\n",
              "      <td>df1_C1</td>\n",
              "      <td>NaN</td>\n",
              "      <td>NaN</td>\n",
              "      <td>NaN</td>\n",
              "      <td>NaN</td>\n",
              "    </tr>\n",
              "    <tr>\n",
              "      <th>2</th>\n",
              "      <td>df1_A2</td>\n",
              "      <td>df1_B2</td>\n",
              "      <td>df1_C2</td>\n",
              "      <td>NaN</td>\n",
              "      <td>NaN</td>\n",
              "      <td>NaN</td>\n",
              "      <td>NaN</td>\n",
              "    </tr>\n",
              "    <tr>\n",
              "      <th>3</th>\n",
              "      <td>NaN</td>\n",
              "      <td>NaN</td>\n",
              "      <td>df1_C4</td>\n",
              "      <td>df2_D4</td>\n",
              "      <td>df2_E4</td>\n",
              "      <td>NaN</td>\n",
              "      <td>NaN</td>\n",
              "    </tr>\n",
              "    <tr>\n",
              "      <th>4</th>\n",
              "      <td>NaN</td>\n",
              "      <td>NaN</td>\n",
              "      <td>df1_C3</td>\n",
              "      <td>df2_D3</td>\n",
              "      <td>df2_E3</td>\n",
              "      <td>NaN</td>\n",
              "      <td>NaN</td>\n",
              "    </tr>\n",
              "    <tr>\n",
              "      <th>5</th>\n",
              "      <td>NaN</td>\n",
              "      <td>NaN</td>\n",
              "      <td>df1_C2</td>\n",
              "      <td>df2_D2</td>\n",
              "      <td>df2_E2</td>\n",
              "      <td>NaN</td>\n",
              "      <td>NaN</td>\n",
              "    </tr>\n",
              "    <tr>\n",
              "      <th>6</th>\n",
              "      <td>NaN</td>\n",
              "      <td>NaN</td>\n",
              "      <td>df3_C6</td>\n",
              "      <td>NaN</td>\n",
              "      <td>NaN</td>\n",
              "      <td>NaN</td>\n",
              "      <td>NaN</td>\n",
              "    </tr>\n",
              "    <tr>\n",
              "      <th>7</th>\n",
              "      <td>NaN</td>\n",
              "      <td>NaN</td>\n",
              "      <td>df3_C6</td>\n",
              "      <td>NaN</td>\n",
              "      <td>NaN</td>\n",
              "      <td>NaN</td>\n",
              "      <td>df3_G6</td>\n",
              "    </tr>\n",
              "    <tr>\n",
              "      <th>8</th>\n",
              "      <td>NaN</td>\n",
              "      <td>NaN</td>\n",
              "      <td>df3_C7</td>\n",
              "      <td>NaN</td>\n",
              "      <td>NaN</td>\n",
              "      <td>NaN</td>\n",
              "      <td>df3_G7</td>\n",
              "    </tr>\n",
              "  </tbody>\n",
              "</table>\n",
              "</div>"
            ],
            "text/plain": [
              "        A       B       C       D       E   F       G\n",
              "0  df1_A0  df1_B0  df1_C0     NaN     NaN NaN     NaN\n",
              "1  df1_A1  df1_B1  df1_C1     NaN     NaN NaN     NaN\n",
              "2  df1_A2  df1_B2  df1_C2     NaN     NaN NaN     NaN\n",
              "3     NaN     NaN  df1_C4  df2_D4  df2_E4 NaN     NaN\n",
              "4     NaN     NaN  df1_C3  df2_D3  df2_E3 NaN     NaN\n",
              "5     NaN     NaN  df1_C2  df2_D2  df2_E2 NaN     NaN\n",
              "6     NaN     NaN  df3_C6     NaN     NaN NaN     NaN\n",
              "7     NaN     NaN  df3_C6     NaN     NaN NaN  df3_G6\n",
              "8     NaN     NaN  df3_C7     NaN     NaN NaN  df3_G7"
            ]
          },
          "metadata": {
            "tags": []
          },
          "execution_count": 62
        }
      ]
    },
    {
      "cell_type": "markdown",
      "metadata": {
        "id": "DxfToHuQPuZ3"
      },
      "source": [
        "## Column 데이터 삭제\n",
        "* 삭제하고자 하는 column name을 리스트(e.g., ['C', 'D', 'E', 'G'])로 만들어 DataFrame.drop 메소드의 columns 값으로 설정하면 됨\n",
        "\n",
        "* drop 메소드는 columns 값에 따라 column이 삭제된 DataFrame이 반환함\n",
        "\n",
        "* 아래 코드는 drop 메소드의 columns 값을 ['C', 'D', 'E', 'G']로 설정하여 해당 column이 삭제된 DataFrame을 반환하는 코드임\n",
        "\n",
        "* 결과를 보면 ['C', 'D', 'E', 'G'] column이 없는 것을 알 수 있음"
      ]
    },
    {
      "cell_type": "code",
      "metadata": {
        "id": "Hq0dBvjFPxQ2",
        "colab": {
          "base_uri": "https://localhost:8080/",
          "height": 325
        },
        "outputId": "48b216fd-19bd-48fe-e627-8c5c9574046e"
      },
      "source": [
        "df = get_df()\n",
        "df = df.drop(columns=['C', 'D', 'E', 'G'])\n",
        "df"
      ],
      "execution_count": null,
      "outputs": [
        {
          "output_type": "execute_result",
          "data": {
            "text/html": [
              "<div>\n",
              "<style scoped>\n",
              "    .dataframe tbody tr th:only-of-type {\n",
              "        vertical-align: middle;\n",
              "    }\n",
              "\n",
              "    .dataframe tbody tr th {\n",
              "        vertical-align: top;\n",
              "    }\n",
              "\n",
              "    .dataframe thead th {\n",
              "        text-align: right;\n",
              "    }\n",
              "</style>\n",
              "<table border=\"1\" class=\"dataframe\">\n",
              "  <thead>\n",
              "    <tr style=\"text-align: right;\">\n",
              "      <th></th>\n",
              "      <th>A</th>\n",
              "      <th>B</th>\n",
              "      <th>F</th>\n",
              "    </tr>\n",
              "  </thead>\n",
              "  <tbody>\n",
              "    <tr>\n",
              "      <th>0</th>\n",
              "      <td>df1_A0</td>\n",
              "      <td>df1_B0</td>\n",
              "      <td>NaN</td>\n",
              "    </tr>\n",
              "    <tr>\n",
              "      <th>1</th>\n",
              "      <td>df1_A1</td>\n",
              "      <td>df1_B1</td>\n",
              "      <td>NaN</td>\n",
              "    </tr>\n",
              "    <tr>\n",
              "      <th>2</th>\n",
              "      <td>df1_A2</td>\n",
              "      <td>df1_B2</td>\n",
              "      <td>NaN</td>\n",
              "    </tr>\n",
              "    <tr>\n",
              "      <th>3</th>\n",
              "      <td>NaN</td>\n",
              "      <td>NaN</td>\n",
              "      <td>NaN</td>\n",
              "    </tr>\n",
              "    <tr>\n",
              "      <th>4</th>\n",
              "      <td>NaN</td>\n",
              "      <td>NaN</td>\n",
              "      <td>NaN</td>\n",
              "    </tr>\n",
              "    <tr>\n",
              "      <th>5</th>\n",
              "      <td>NaN</td>\n",
              "      <td>NaN</td>\n",
              "      <td>NaN</td>\n",
              "    </tr>\n",
              "    <tr>\n",
              "      <th>6</th>\n",
              "      <td>NaN</td>\n",
              "      <td>NaN</td>\n",
              "      <td>NaN</td>\n",
              "    </tr>\n",
              "    <tr>\n",
              "      <th>7</th>\n",
              "      <td>NaN</td>\n",
              "      <td>NaN</td>\n",
              "      <td>NaN</td>\n",
              "    </tr>\n",
              "    <tr>\n",
              "      <th>8</th>\n",
              "      <td>NaN</td>\n",
              "      <td>NaN</td>\n",
              "      <td>NaN</td>\n",
              "    </tr>\n",
              "  </tbody>\n",
              "</table>\n",
              "</div>"
            ],
            "text/plain": [
              "        A       B   F\n",
              "0  df1_A0  df1_B0 NaN\n",
              "1  df1_A1  df1_B1 NaN\n",
              "2  df1_A2  df1_B2 NaN\n",
              "3     NaN     NaN NaN\n",
              "4     NaN     NaN NaN\n",
              "5     NaN     NaN NaN\n",
              "6     NaN     NaN NaN\n",
              "7     NaN     NaN NaN\n",
              "8     NaN     NaN NaN"
            ]
          },
          "metadata": {
            "tags": []
          },
          "execution_count": 63
        }
      ]
    },
    {
      "cell_type": "markdown",
      "metadata": {
        "id": "oVLW8JeCPxX7"
      },
      "source": [
        "## Row 데이터 삭제\n",
        "\n",
        "* 삭제하고자 하는 row의 index을 리스트(e.g., [1, 3, 4, 8])로 만들어 DataFrame.drop 메소드의 index 값으로 설정하면 해당 row가 삭제된 DataFrame이 반환함\n",
        "\n",
        "* 아래 코드는 drop 메소드의 index 값을 [1, 3, 4, 8]로 설정하여 해당 row가 삭제된 DataFrame을 반환하는 코드임\n",
        "\n",
        "* 결과를 보면 [1, 3, 4, 8]를 index로 가지는 row가 없는 것을 알 수 있음"
      ]
    },
    {
      "cell_type": "code",
      "metadata": {
        "colab": {
          "base_uri": "https://localhost:8080/",
          "height": 202
        },
        "id": "PXcsJZ3Wv-nd",
        "outputId": "bd47e326-a201-4956-e9cd-dabd836100ce"
      },
      "source": [
        "df = get_df()\n",
        "df = df.drop(index=[1, 3, 4, 8])\n",
        "df"
      ],
      "execution_count": null,
      "outputs": [
        {
          "output_type": "execute_result",
          "data": {
            "text/html": [
              "<div>\n",
              "<style scoped>\n",
              "    .dataframe tbody tr th:only-of-type {\n",
              "        vertical-align: middle;\n",
              "    }\n",
              "\n",
              "    .dataframe tbody tr th {\n",
              "        vertical-align: top;\n",
              "    }\n",
              "\n",
              "    .dataframe thead th {\n",
              "        text-align: right;\n",
              "    }\n",
              "</style>\n",
              "<table border=\"1\" class=\"dataframe\">\n",
              "  <thead>\n",
              "    <tr style=\"text-align: right;\">\n",
              "      <th></th>\n",
              "      <th>A</th>\n",
              "      <th>B</th>\n",
              "      <th>C</th>\n",
              "      <th>D</th>\n",
              "      <th>E</th>\n",
              "      <th>F</th>\n",
              "      <th>G</th>\n",
              "    </tr>\n",
              "  </thead>\n",
              "  <tbody>\n",
              "    <tr>\n",
              "      <th>0</th>\n",
              "      <td>df1_A0</td>\n",
              "      <td>df1_B0</td>\n",
              "      <td>df1_C0</td>\n",
              "      <td>NaN</td>\n",
              "      <td>NaN</td>\n",
              "      <td>NaN</td>\n",
              "      <td>NaN</td>\n",
              "    </tr>\n",
              "    <tr>\n",
              "      <th>2</th>\n",
              "      <td>df1_A2</td>\n",
              "      <td>df1_B2</td>\n",
              "      <td>df1_C2</td>\n",
              "      <td>NaN</td>\n",
              "      <td>NaN</td>\n",
              "      <td>NaN</td>\n",
              "      <td>NaN</td>\n",
              "    </tr>\n",
              "    <tr>\n",
              "      <th>5</th>\n",
              "      <td>NaN</td>\n",
              "      <td>NaN</td>\n",
              "      <td>df1_C2</td>\n",
              "      <td>df2_D2</td>\n",
              "      <td>df2_E2</td>\n",
              "      <td>NaN</td>\n",
              "      <td>NaN</td>\n",
              "    </tr>\n",
              "    <tr>\n",
              "      <th>6</th>\n",
              "      <td>NaN</td>\n",
              "      <td>NaN</td>\n",
              "      <td>df3_C6</td>\n",
              "      <td>NaN</td>\n",
              "      <td>NaN</td>\n",
              "      <td>NaN</td>\n",
              "      <td>NaN</td>\n",
              "    </tr>\n",
              "    <tr>\n",
              "      <th>7</th>\n",
              "      <td>NaN</td>\n",
              "      <td>NaN</td>\n",
              "      <td>df3_C6</td>\n",
              "      <td>NaN</td>\n",
              "      <td>NaN</td>\n",
              "      <td>NaN</td>\n",
              "      <td>df3_G6</td>\n",
              "    </tr>\n",
              "  </tbody>\n",
              "</table>\n",
              "</div>"
            ],
            "text/plain": [
              "        A       B       C       D       E   F       G\n",
              "0  df1_A0  df1_B0  df1_C0     NaN     NaN NaN     NaN\n",
              "2  df1_A2  df1_B2  df1_C2     NaN     NaN NaN     NaN\n",
              "5     NaN     NaN  df1_C2  df2_D2  df2_E2 NaN     NaN\n",
              "6     NaN     NaN  df3_C6     NaN     NaN NaN     NaN\n",
              "7     NaN     NaN  df3_C6     NaN     NaN NaN  df3_G6"
            ]
          },
          "metadata": {
            "tags": []
          },
          "execution_count": 64
        }
      ]
    },
    {
      "cell_type": "markdown",
      "metadata": {
        "id": "hloNDOkhw5X1"
      },
      "source": [
        "## 빈칸(NaN) 데이터 삭제\n",
        "* [DataFrame.dropna](https://pandas.pydata.org/pandas-docs/stable/reference/api/pandas.DataFrame.dropna.html) 메소드는 axis 값(i.e., 0 또는 1)과 how 값(i.e., any 또는 all)에 따라 빈칸(NaN)을 가진 axis를 삭제함\n",
        "\n",
        "* DataFrame.dropna의 입력값 중 axis 값은 row(axis=0) 또는 column(axis=1)을 중 어떤 axis를 삭제할 것인지 설정하는 것임.\n",
        "\n",
        "* 입력값 중 how 값은 빈칸(NaN)이 어떤 형태로 있을 때 삭제할 것인지 설정하는 것임\n",
        "\n",
        " * how 값을 any로 설정하면(how='any') 빈칸(NaN)이 한개하도 있으면 해당 axis를 삭제함\n",
        "\n",
        " * how 값을 all로 설정하면(how='all') 해당 axis의 모든 데이터가 빈칸(NaN)이면 해당 axis를 삭제함\n",
        "\n",
        "* 아래 코드는 column의 모든 데이터가 빈칸일때 해당 column를 삭제함. \n",
        "\n",
        "* 결과를 보면 column name = F가 없을 것을 알 수 있음"
      ]
    },
    {
      "cell_type": "code",
      "metadata": {
        "colab": {
          "base_uri": "https://localhost:8080/",
          "height": 314
        },
        "id": "Z2XR644Fw5hX",
        "outputId": "fcdf4bd5-4801-4a57-8267-18f4a1c8b153"
      },
      "source": [
        "df = get_df()\n",
        "df = df.dropna(axis=1, how='all')\n",
        "df"
      ],
      "execution_count": null,
      "outputs": [
        {
          "output_type": "execute_result",
          "data": {
            "text/html": [
              "<div>\n",
              "<style scoped>\n",
              "    .dataframe tbody tr th:only-of-type {\n",
              "        vertical-align: middle;\n",
              "    }\n",
              "\n",
              "    .dataframe tbody tr th {\n",
              "        vertical-align: top;\n",
              "    }\n",
              "\n",
              "    .dataframe thead th {\n",
              "        text-align: right;\n",
              "    }\n",
              "</style>\n",
              "<table border=\"1\" class=\"dataframe\">\n",
              "  <thead>\n",
              "    <tr style=\"text-align: right;\">\n",
              "      <th></th>\n",
              "      <th>A</th>\n",
              "      <th>B</th>\n",
              "      <th>C</th>\n",
              "      <th>D</th>\n",
              "      <th>E</th>\n",
              "      <th>G</th>\n",
              "    </tr>\n",
              "  </thead>\n",
              "  <tbody>\n",
              "    <tr>\n",
              "      <th>0</th>\n",
              "      <td>df1_A0</td>\n",
              "      <td>df1_B0</td>\n",
              "      <td>df1_C0</td>\n",
              "      <td>NaN</td>\n",
              "      <td>NaN</td>\n",
              "      <td>NaN</td>\n",
              "    </tr>\n",
              "    <tr>\n",
              "      <th>1</th>\n",
              "      <td>df1_A1</td>\n",
              "      <td>df1_B1</td>\n",
              "      <td>df1_C1</td>\n",
              "      <td>NaN</td>\n",
              "      <td>NaN</td>\n",
              "      <td>NaN</td>\n",
              "    </tr>\n",
              "    <tr>\n",
              "      <th>2</th>\n",
              "      <td>df1_A2</td>\n",
              "      <td>df1_B2</td>\n",
              "      <td>df1_C2</td>\n",
              "      <td>NaN</td>\n",
              "      <td>NaN</td>\n",
              "      <td>NaN</td>\n",
              "    </tr>\n",
              "    <tr>\n",
              "      <th>3</th>\n",
              "      <td>NaN</td>\n",
              "      <td>NaN</td>\n",
              "      <td>df1_C4</td>\n",
              "      <td>df2_D4</td>\n",
              "      <td>df2_E4</td>\n",
              "      <td>NaN</td>\n",
              "    </tr>\n",
              "    <tr>\n",
              "      <th>4</th>\n",
              "      <td>NaN</td>\n",
              "      <td>NaN</td>\n",
              "      <td>df1_C3</td>\n",
              "      <td>df2_D3</td>\n",
              "      <td>df2_E3</td>\n",
              "      <td>NaN</td>\n",
              "    </tr>\n",
              "    <tr>\n",
              "      <th>5</th>\n",
              "      <td>NaN</td>\n",
              "      <td>NaN</td>\n",
              "      <td>df1_C2</td>\n",
              "      <td>df2_D2</td>\n",
              "      <td>df2_E2</td>\n",
              "      <td>NaN</td>\n",
              "    </tr>\n",
              "    <tr>\n",
              "      <th>6</th>\n",
              "      <td>NaN</td>\n",
              "      <td>NaN</td>\n",
              "      <td>df3_C6</td>\n",
              "      <td>NaN</td>\n",
              "      <td>NaN</td>\n",
              "      <td>NaN</td>\n",
              "    </tr>\n",
              "    <tr>\n",
              "      <th>7</th>\n",
              "      <td>NaN</td>\n",
              "      <td>NaN</td>\n",
              "      <td>df3_C6</td>\n",
              "      <td>NaN</td>\n",
              "      <td>NaN</td>\n",
              "      <td>df3_G6</td>\n",
              "    </tr>\n",
              "    <tr>\n",
              "      <th>8</th>\n",
              "      <td>NaN</td>\n",
              "      <td>NaN</td>\n",
              "      <td>df3_C7</td>\n",
              "      <td>NaN</td>\n",
              "      <td>NaN</td>\n",
              "      <td>df3_G7</td>\n",
              "    </tr>\n",
              "  </tbody>\n",
              "</table>\n",
              "</div>"
            ],
            "text/plain": [
              "        A       B       C       D       E       G\n",
              "0  df1_A0  df1_B0  df1_C0     NaN     NaN     NaN\n",
              "1  df1_A1  df1_B1  df1_C1     NaN     NaN     NaN\n",
              "2  df1_A2  df1_B2  df1_C2     NaN     NaN     NaN\n",
              "3     NaN     NaN  df1_C4  df2_D4  df2_E4     NaN\n",
              "4     NaN     NaN  df1_C3  df2_D3  df2_E3     NaN\n",
              "5     NaN     NaN  df1_C2  df2_D2  df2_E2     NaN\n",
              "6     NaN     NaN  df3_C6     NaN     NaN     NaN\n",
              "7     NaN     NaN  df3_C6     NaN     NaN  df3_G6\n",
              "8     NaN     NaN  df3_C7     NaN     NaN  df3_G7"
            ]
          },
          "metadata": {
            "tags": []
          },
          "execution_count": 39
        }
      ]
    },
    {
      "cell_type": "markdown",
      "metadata": {
        "id": "GZqcC-6X1g8h"
      },
      "source": [
        "* 아래 코드는 row의 데이터에 빈칸이 한개라도 있으면 삭제함\n",
        "\n",
        "* 결과를 보면 모든 row가 삭제됨\n"
      ]
    },
    {
      "cell_type": "code",
      "metadata": {
        "colab": {
          "base_uri": "https://localhost:8080/",
          "height": 47
        },
        "id": "o_2nZbhD1hEN",
        "outputId": "5ca3b89a-5881-4077-a664-ee7c513ad10c"
      },
      "source": [
        "df = get_df()\n",
        "df = df.dropna(axis=0, how='any')\n",
        "df"
      ],
      "execution_count": null,
      "outputs": [
        {
          "output_type": "execute_result",
          "data": {
            "text/html": [
              "<div>\n",
              "<style scoped>\n",
              "    .dataframe tbody tr th:only-of-type {\n",
              "        vertical-align: middle;\n",
              "    }\n",
              "\n",
              "    .dataframe tbody tr th {\n",
              "        vertical-align: top;\n",
              "    }\n",
              "\n",
              "    .dataframe thead th {\n",
              "        text-align: right;\n",
              "    }\n",
              "</style>\n",
              "<table border=\"1\" class=\"dataframe\">\n",
              "  <thead>\n",
              "    <tr style=\"text-align: right;\">\n",
              "      <th></th>\n",
              "      <th>A</th>\n",
              "      <th>B</th>\n",
              "      <th>C</th>\n",
              "      <th>D</th>\n",
              "      <th>E</th>\n",
              "      <th>F</th>\n",
              "      <th>G</th>\n",
              "    </tr>\n",
              "  </thead>\n",
              "  <tbody>\n",
              "  </tbody>\n",
              "</table>\n",
              "</div>"
            ],
            "text/plain": [
              "Empty DataFrame\n",
              "Columns: [A, B, C, D, E, F, G]\n",
              "Index: []"
            ]
          },
          "metadata": {
            "tags": []
          },
          "execution_count": 40
        }
      ]
    }
  ]
}