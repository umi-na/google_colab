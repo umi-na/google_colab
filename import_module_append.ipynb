{
  "nbformat": 4,
  "nbformat_minor": 0,
  "metadata": {
    "colab": {
      "provenance": [],
      "authorship_tag": "ABX9TyOtARbRm85vLnDMIvqstUhW",
      "include_colab_link": true
    },
    "kernelspec": {
      "name": "python3",
      "display_name": "Python 3"
    }
  },
  "cells": [
    {
      "cell_type": "markdown",
      "metadata": {
        "id": "view-in-github",
        "colab_type": "text"
      },
      "source": [
        "<a href=\"https://colab.research.google.com/github/umi-na/google_colab/blob/main/import_module_append.ipynb\" target=\"_parent\"><img src=\"https://colab.research.google.com/assets/colab-badge.svg\" alt=\"Open In Colab\"/></a>"
      ]
    },
    {
      "cell_type": "code",
      "metadata": {
        "colab": {
          "base_uri": "https://localhost:8080/"
        },
        "id": "7U8PWGohLBSS",
        "outputId": "d2617c9e-40a6-44bb-9c4f-96102f7f65d9"
      },
      "source": [
        "from google.colab import drive\n",
        "\n",
        "drive.mount('/content/drive')"
      ],
      "execution_count": null,
      "outputs": [
        {
          "output_type": "stream",
          "text": [
            "Mounted at /content/drive\n"
          ],
          "name": "stdout"
        }
      ]
    },
    {
      "cell_type": "code",
      "metadata": {
        "id": "PqGh34D2LIqt"
      },
      "source": [
        "import sys\n",
        "sys.path.append('/content/drive/MyDrive/Colab Notebooks/Colab')"
      ],
      "execution_count": null,
      "outputs": []
    },
    {
      "cell_type": "code",
      "metadata": {
        "id": "pmJceku7K8wS",
        "colab": {
          "base_uri": "https://localhost:8080/"
        },
        "outputId": "8dccdb4a-0c0c-4771-c517-c2c7624cbcb1"
      },
      "source": [
        "import module\n",
        "\n",
        "module.eat()\n",
        "module.cook()\n",
        "module.make()\n",
        "module.cook_and_eat()"
      ],
      "execution_count": null,
      "outputs": [
        {
          "output_type": "stream",
          "text": [
            "먹다\n",
            "요리하다\n",
            "만든다\n",
            "요리하다\n",
            "먹다\n"
          ],
          "name": "stdout"
        }
      ]
    }
  ]
}